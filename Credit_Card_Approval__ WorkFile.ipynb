{
 "cells": [
  {
   "cell_type": "markdown",
   "id": "0a7b9f07",
   "metadata": {},
   "source": [
    "## --Project || ML Model Proposal to Predict Credit Card Approval ||--"
   ]
  },
  {
   "cell_type": "markdown",
   "id": "9adfb8f1",
   "metadata": {},
   "source": [
    "### Introduction of Project ::--\n",
    "\n",
    "\n",
    "-- Credit cards plays a very vital role now a days in terms of cashless financial transections. \n",
    "   However,approving a credit card to the customers by the bank is very complex process due to            varification of various factors such as income level,employment status and other important              factors.For making the application process smooth and improve the approval rate, machine learning      models can be used to predict credit card approval. In this project,we are going to explore various    factors which affect credit card approval rates and use predictive models to improve the accuracy of    credit card approval predictions.This predictive model can be helpful for the bank to approve credit    cards as well as for customers to get the credit cards in a hassel free process."
   ]
  },
  {
   "cell_type": "markdown",
   "id": "690cac61",
   "metadata": {},
   "source": [
    "### [SECTION-1] Problem Statement and Answers :--\n",
    "<br>\n",
    "1> Why is your proposal important in today’s world? How predicting a good client is worthy for a bank?\n",
    "\n",
    "--- The proposal of predictive model  in credit card approval is highly relevant in today's world due to the increasing use of credit cards as a financial asset. With the rise in e-commerce and online transactions, credit cards have become a primary payment method for many people.This type of predictive models going to be very much helpful for banks to efficiently process credit card applications and improve the approval rate. Predicting a good client is essential for a bank because it helps to minimize the risk of credit default and reduce the cost of managing credit card accounts. Banks can use machine learning algorithms to analyze various factors such as annual income,employment status and othe necessary aspects.By accurately predicting, banks can offer credit cards to clients with lower risk profiles, which can ultimately lead to better profitability and improved customer satisfaction.\n",
    "\n",
    "\n",
    "2> How is it going to impact the banking sector?\n",
    "\n",
    "--- predicting credit card approval using machine learning  model can have a transformative impact on the banking sector by improving the customer experience, reducing risk and increasing profitability.\n",
    "\n",
    "- Improve customer experience: By using predictive models, banks can offer faster and more accurate credit card approvals, which can improve the overall customer experience.This hassel free process \n",
    "will lead to the overall customer satisfaction.\n",
    "\n",
    "- Reduced risk of credit defaults and improve profitability: Machine learning algorithms can help banks to accurately predict the likelihood of a client defaulting on their credit card payments. By identifying clients with lower credit risk profiles, banks can offer credit cards with lower interest rates, which can make benifits to their clients and can reduce the risk of defaults and ultimately improve the bank's profitability in terms of increasing market value,revenue and all. \n",
    " \n",
    " \n",
    "3> If any, what is the gap in the knowledge or how your proposed method can be helpful if required in future for any bank in India.\n",
    "\n",
    "--- As of now there will not be any gap in the knowledge of which machine learning model for credit card approval I am going to propose to the banks of India.\n",
    "\n",
    "the proposed method can be helpful for banks in India by improving the accuracy of credit card approval predictions, enhancing credit risk management strategies, and improving efficiency.\n",
    "\n",
    "However,to fully leverage the benefits of our proposed method, banks will need to ensure that they have access to reliable and comprehensive data sources.otherwise,the model could be in at risk.\n"
   ]
  },
  {
   "cell_type": "markdown",
   "id": "7bfbb8bf",
   "metadata": {},
   "source": [
    "### Objective Of The Project::--\n",
    "<br>\n",
    "- The Objective Is To Proposing a Well Predictive Machine Learning Model to The Banks Which Can Identify \n",
    "Among The Clients and Can Make The Bank to Take Decisions About Which Customers Are Credit Worthy and \n",
    "which customers Are Not By Their Forms Which Are Filled By The Customers Either Online Or Physically \n",
    "through Analysing All The Application Data Along With Credit Bureau Score Such As CIBIL Score and Other \n",
    "Internal Information Of Applicants. And Also Makeing This Predictive Model Helpful For Future Clients Judgement. "
   ]
  },
  {
   "cell_type": "code",
   "execution_count": 1,
   "id": "ac1a0235",
   "metadata": {},
   "outputs": [],
   "source": [
    "### SUPRESS WARNINGS ###\n",
    "\n",
    "import warnings\n",
    "warnings.filterwarnings(\"ignore\")"
   ]
  },
  {
   "cell_type": "code",
   "execution_count": 2,
   "id": "6cb6538e",
   "metadata": {},
   "outputs": [],
   "source": [
    "### IMPORTING NUMPY AND PANDAS PACKAGES ###\n",
    "\n",
    "import numpy as np\n",
    "import pandas as pd\n",
    "import seaborn as sns\n",
    "import matplotlib.pyplot as plt\n",
    "from scipy import stats"
   ]
  },
  {
   "cell_type": "markdown",
   "id": "bfe5ccd7",
   "metadata": {},
   "source": [
    "### Basic Data Exploration"
   ]
  },
  {
   "cell_type": "markdown",
   "id": "e721e731",
   "metadata": {},
   "source": [
    "#### <font color = 'Orange'>-- Reading CSV Files to DataFrames --"
   ]
  },
  {
   "cell_type": "markdown",
   "id": "67ca754f",
   "metadata": {},
   "source": [
    "#### <font color = 'Orange'>-- Reading the \"applicant_data\" dataframe. Using \"encoding\" to specify an encoding to use when reading a file -- "
   ]
  },
  {
   "cell_type": "code",
   "execution_count": 3,
   "id": "c8544852",
   "metadata": {},
   "outputs": [
    {
     "data": {
      "text/html": [
       "<div>\n",
       "<style scoped>\n",
       "    .dataframe tbody tr th:only-of-type {\n",
       "        vertical-align: middle;\n",
       "    }\n",
       "\n",
       "    .dataframe tbody tr th {\n",
       "        vertical-align: top;\n",
       "    }\n",
       "\n",
       "    .dataframe thead th {\n",
       "        text-align: right;\n",
       "    }\n",
       "</style>\n",
       "<table border=\"1\" class=\"dataframe\">\n",
       "  <thead>\n",
       "    <tr style=\"text-align: right;\">\n",
       "      <th></th>\n",
       "      <th>Ind_ID</th>\n",
       "      <th>GENDER</th>\n",
       "      <th>Car_Owner</th>\n",
       "      <th>Propert_Owner</th>\n",
       "      <th>CHILDREN</th>\n",
       "      <th>Annual_income</th>\n",
       "      <th>Type_Income</th>\n",
       "      <th>EDUCATION</th>\n",
       "      <th>Marital_status</th>\n",
       "      <th>Housing_type</th>\n",
       "      <th>Birthday_count</th>\n",
       "      <th>Employed_days</th>\n",
       "      <th>Mobile_phone</th>\n",
       "      <th>Work_Phone</th>\n",
       "      <th>Phone</th>\n",
       "      <th>EMAIL_ID</th>\n",
       "      <th>Type_Occupation</th>\n",
       "      <th>Family_Members</th>\n",
       "    </tr>\n",
       "  </thead>\n",
       "  <tbody>\n",
       "    <tr>\n",
       "      <th>0</th>\n",
       "      <td>5008827</td>\n",
       "      <td>M</td>\n",
       "      <td>Y</td>\n",
       "      <td>Y</td>\n",
       "      <td>0</td>\n",
       "      <td>180000.0</td>\n",
       "      <td>Pensioner</td>\n",
       "      <td>Higher education</td>\n",
       "      <td>Married</td>\n",
       "      <td>House / apartment</td>\n",
       "      <td>-18772.0</td>\n",
       "      <td>365243</td>\n",
       "      <td>1</td>\n",
       "      <td>0</td>\n",
       "      <td>0</td>\n",
       "      <td>0</td>\n",
       "      <td>NaN</td>\n",
       "      <td>2</td>\n",
       "    </tr>\n",
       "    <tr>\n",
       "      <th>1</th>\n",
       "      <td>5009744</td>\n",
       "      <td>F</td>\n",
       "      <td>Y</td>\n",
       "      <td>N</td>\n",
       "      <td>0</td>\n",
       "      <td>315000.0</td>\n",
       "      <td>Commercial associate</td>\n",
       "      <td>Higher education</td>\n",
       "      <td>Married</td>\n",
       "      <td>House / apartment</td>\n",
       "      <td>-13557.0</td>\n",
       "      <td>-586</td>\n",
       "      <td>1</td>\n",
       "      <td>1</td>\n",
       "      <td>1</td>\n",
       "      <td>0</td>\n",
       "      <td>NaN</td>\n",
       "      <td>2</td>\n",
       "    </tr>\n",
       "    <tr>\n",
       "      <th>2</th>\n",
       "      <td>5009746</td>\n",
       "      <td>F</td>\n",
       "      <td>Y</td>\n",
       "      <td>N</td>\n",
       "      <td>0</td>\n",
       "      <td>315000.0</td>\n",
       "      <td>Commercial associate</td>\n",
       "      <td>Higher education</td>\n",
       "      <td>Married</td>\n",
       "      <td>House / apartment</td>\n",
       "      <td>NaN</td>\n",
       "      <td>-586</td>\n",
       "      <td>1</td>\n",
       "      <td>1</td>\n",
       "      <td>1</td>\n",
       "      <td>0</td>\n",
       "      <td>NaN</td>\n",
       "      <td>2</td>\n",
       "    </tr>\n",
       "    <tr>\n",
       "      <th>3</th>\n",
       "      <td>5009749</td>\n",
       "      <td>F</td>\n",
       "      <td>Y</td>\n",
       "      <td>N</td>\n",
       "      <td>0</td>\n",
       "      <td>NaN</td>\n",
       "      <td>Commercial associate</td>\n",
       "      <td>Higher education</td>\n",
       "      <td>Married</td>\n",
       "      <td>House / apartment</td>\n",
       "      <td>-13557.0</td>\n",
       "      <td>-586</td>\n",
       "      <td>1</td>\n",
       "      <td>1</td>\n",
       "      <td>1</td>\n",
       "      <td>0</td>\n",
       "      <td>NaN</td>\n",
       "      <td>2</td>\n",
       "    </tr>\n",
       "    <tr>\n",
       "      <th>4</th>\n",
       "      <td>5009752</td>\n",
       "      <td>F</td>\n",
       "      <td>Y</td>\n",
       "      <td>N</td>\n",
       "      <td>0</td>\n",
       "      <td>315000.0</td>\n",
       "      <td>Commercial associate</td>\n",
       "      <td>Higher education</td>\n",
       "      <td>Married</td>\n",
       "      <td>House / apartment</td>\n",
       "      <td>-13557.0</td>\n",
       "      <td>-586</td>\n",
       "      <td>1</td>\n",
       "      <td>1</td>\n",
       "      <td>1</td>\n",
       "      <td>0</td>\n",
       "      <td>NaN</td>\n",
       "      <td>2</td>\n",
       "    </tr>\n",
       "    <tr>\n",
       "      <th>...</th>\n",
       "      <td>...</td>\n",
       "      <td>...</td>\n",
       "      <td>...</td>\n",
       "      <td>...</td>\n",
       "      <td>...</td>\n",
       "      <td>...</td>\n",
       "      <td>...</td>\n",
       "      <td>...</td>\n",
       "      <td>...</td>\n",
       "      <td>...</td>\n",
       "      <td>...</td>\n",
       "      <td>...</td>\n",
       "      <td>...</td>\n",
       "      <td>...</td>\n",
       "      <td>...</td>\n",
       "      <td>...</td>\n",
       "      <td>...</td>\n",
       "      <td>...</td>\n",
       "    </tr>\n",
       "    <tr>\n",
       "      <th>1543</th>\n",
       "      <td>5028645</td>\n",
       "      <td>F</td>\n",
       "      <td>N</td>\n",
       "      <td>Y</td>\n",
       "      <td>0</td>\n",
       "      <td>NaN</td>\n",
       "      <td>Commercial associate</td>\n",
       "      <td>Higher education</td>\n",
       "      <td>Married</td>\n",
       "      <td>House / apartment</td>\n",
       "      <td>-11957.0</td>\n",
       "      <td>-2182</td>\n",
       "      <td>1</td>\n",
       "      <td>0</td>\n",
       "      <td>0</td>\n",
       "      <td>0</td>\n",
       "      <td>Managers</td>\n",
       "      <td>2</td>\n",
       "    </tr>\n",
       "    <tr>\n",
       "      <th>1544</th>\n",
       "      <td>5023655</td>\n",
       "      <td>F</td>\n",
       "      <td>N</td>\n",
       "      <td>N</td>\n",
       "      <td>0</td>\n",
       "      <td>225000.0</td>\n",
       "      <td>Commercial associate</td>\n",
       "      <td>Incomplete higher</td>\n",
       "      <td>Single / not married</td>\n",
       "      <td>House / apartment</td>\n",
       "      <td>-10229.0</td>\n",
       "      <td>-1209</td>\n",
       "      <td>1</td>\n",
       "      <td>0</td>\n",
       "      <td>0</td>\n",
       "      <td>0</td>\n",
       "      <td>Accountants</td>\n",
       "      <td>1</td>\n",
       "    </tr>\n",
       "    <tr>\n",
       "      <th>1545</th>\n",
       "      <td>5115992</td>\n",
       "      <td>M</td>\n",
       "      <td>Y</td>\n",
       "      <td>Y</td>\n",
       "      <td>2</td>\n",
       "      <td>180000.0</td>\n",
       "      <td>Working</td>\n",
       "      <td>Higher education</td>\n",
       "      <td>Married</td>\n",
       "      <td>House / apartment</td>\n",
       "      <td>-13174.0</td>\n",
       "      <td>-2477</td>\n",
       "      <td>1</td>\n",
       "      <td>0</td>\n",
       "      <td>0</td>\n",
       "      <td>0</td>\n",
       "      <td>Managers</td>\n",
       "      <td>4</td>\n",
       "    </tr>\n",
       "    <tr>\n",
       "      <th>1546</th>\n",
       "      <td>5118219</td>\n",
       "      <td>M</td>\n",
       "      <td>Y</td>\n",
       "      <td>N</td>\n",
       "      <td>0</td>\n",
       "      <td>270000.0</td>\n",
       "      <td>Working</td>\n",
       "      <td>Secondary / secondary special</td>\n",
       "      <td>Civil marriage</td>\n",
       "      <td>House / apartment</td>\n",
       "      <td>-15292.0</td>\n",
       "      <td>-645</td>\n",
       "      <td>1</td>\n",
       "      <td>1</td>\n",
       "      <td>1</td>\n",
       "      <td>0</td>\n",
       "      <td>Drivers</td>\n",
       "      <td>2</td>\n",
       "    </tr>\n",
       "    <tr>\n",
       "      <th>1547</th>\n",
       "      <td>5053790</td>\n",
       "      <td>F</td>\n",
       "      <td>Y</td>\n",
       "      <td>Y</td>\n",
       "      <td>0</td>\n",
       "      <td>225000.0</td>\n",
       "      <td>Working</td>\n",
       "      <td>Higher education</td>\n",
       "      <td>Married</td>\n",
       "      <td>House / apartment</td>\n",
       "      <td>-16601.0</td>\n",
       "      <td>-2859</td>\n",
       "      <td>1</td>\n",
       "      <td>0</td>\n",
       "      <td>0</td>\n",
       "      <td>0</td>\n",
       "      <td>NaN</td>\n",
       "      <td>2</td>\n",
       "    </tr>\n",
       "  </tbody>\n",
       "</table>\n",
       "<p>1548 rows × 18 columns</p>\n",
       "</div>"
      ],
      "text/plain": [
       "       Ind_ID GENDER Car_Owner Propert_Owner  CHILDREN  Annual_income  \\\n",
       "0     5008827      M         Y             Y         0       180000.0   \n",
       "1     5009744      F         Y             N         0       315000.0   \n",
       "2     5009746      F         Y             N         0       315000.0   \n",
       "3     5009749      F         Y             N         0            NaN   \n",
       "4     5009752      F         Y             N         0       315000.0   \n",
       "...       ...    ...       ...           ...       ...            ...   \n",
       "1543  5028645      F         N             Y         0            NaN   \n",
       "1544  5023655      F         N             N         0       225000.0   \n",
       "1545  5115992      M         Y             Y         2       180000.0   \n",
       "1546  5118219      M         Y             N         0       270000.0   \n",
       "1547  5053790      F         Y             Y         0       225000.0   \n",
       "\n",
       "               Type_Income                      EDUCATION  \\\n",
       "0                Pensioner               Higher education   \n",
       "1     Commercial associate               Higher education   \n",
       "2     Commercial associate               Higher education   \n",
       "3     Commercial associate               Higher education   \n",
       "4     Commercial associate               Higher education   \n",
       "...                    ...                            ...   \n",
       "1543  Commercial associate               Higher education   \n",
       "1544  Commercial associate              Incomplete higher   \n",
       "1545               Working               Higher education   \n",
       "1546               Working  Secondary / secondary special   \n",
       "1547               Working               Higher education   \n",
       "\n",
       "            Marital_status       Housing_type  Birthday_count  Employed_days  \\\n",
       "0                  Married  House / apartment        -18772.0         365243   \n",
       "1                  Married  House / apartment        -13557.0           -586   \n",
       "2                  Married  House / apartment             NaN           -586   \n",
       "3                  Married  House / apartment        -13557.0           -586   \n",
       "4                  Married  House / apartment        -13557.0           -586   \n",
       "...                    ...                ...             ...            ...   \n",
       "1543               Married  House / apartment        -11957.0          -2182   \n",
       "1544  Single / not married  House / apartment        -10229.0          -1209   \n",
       "1545               Married  House / apartment        -13174.0          -2477   \n",
       "1546        Civil marriage  House / apartment        -15292.0           -645   \n",
       "1547               Married  House / apartment        -16601.0          -2859   \n",
       "\n",
       "      Mobile_phone  Work_Phone  Phone  EMAIL_ID Type_Occupation  \\\n",
       "0                1           0      0         0             NaN   \n",
       "1                1           1      1         0             NaN   \n",
       "2                1           1      1         0             NaN   \n",
       "3                1           1      1         0             NaN   \n",
       "4                1           1      1         0             NaN   \n",
       "...            ...         ...    ...       ...             ...   \n",
       "1543             1           0      0         0        Managers   \n",
       "1544             1           0      0         0     Accountants   \n",
       "1545             1           0      0         0        Managers   \n",
       "1546             1           1      1         0         Drivers   \n",
       "1547             1           0      0         0             NaN   \n",
       "\n",
       "      Family_Members  \n",
       "0                  2  \n",
       "1                  2  \n",
       "2                  2  \n",
       "3                  2  \n",
       "4                  2  \n",
       "...              ...  \n",
       "1543               2  \n",
       "1544               1  \n",
       "1545               4  \n",
       "1546               2  \n",
       "1547               2  \n",
       "\n",
       "[1548 rows x 18 columns]"
      ]
     },
     "execution_count": 3,
     "metadata": {},
     "output_type": "execute_result"
    }
   ],
   "source": [
    "#### Importing \"Credit_card.csv\" Dataset into \"applicant_data\" Dataframe ####\n",
    "\n",
    "applicant_data=pd.read_csv(\"Credit_card.csv\", encoding = \"ISO-8859-1\")\n",
    "applicant_data"
   ]
  },
  {
   "cell_type": "markdown",
   "id": "7d40b1bb",
   "metadata": {},
   "source": [
    "#### <font color = 'Orange'> --Reading Credit_card_label DataSet--"
   ]
  },
  {
   "cell_type": "code",
   "execution_count": 4,
   "id": "0caaf7f3",
   "metadata": {},
   "outputs": [
    {
     "data": {
      "text/html": [
       "<div>\n",
       "<style scoped>\n",
       "    .dataframe tbody tr th:only-of-type {\n",
       "        vertical-align: middle;\n",
       "    }\n",
       "\n",
       "    .dataframe tbody tr th {\n",
       "        vertical-align: top;\n",
       "    }\n",
       "\n",
       "    .dataframe thead th {\n",
       "        text-align: right;\n",
       "    }\n",
       "</style>\n",
       "<table border=\"1\" class=\"dataframe\">\n",
       "  <thead>\n",
       "    <tr style=\"text-align: right;\">\n",
       "      <th></th>\n",
       "      <th>Ind_ID</th>\n",
       "      <th>label</th>\n",
       "    </tr>\n",
       "  </thead>\n",
       "  <tbody>\n",
       "    <tr>\n",
       "      <th>0</th>\n",
       "      <td>5008827</td>\n",
       "      <td>1</td>\n",
       "    </tr>\n",
       "    <tr>\n",
       "      <th>1</th>\n",
       "      <td>5009744</td>\n",
       "      <td>1</td>\n",
       "    </tr>\n",
       "    <tr>\n",
       "      <th>2</th>\n",
       "      <td>5009746</td>\n",
       "      <td>1</td>\n",
       "    </tr>\n",
       "    <tr>\n",
       "      <th>3</th>\n",
       "      <td>5009749</td>\n",
       "      <td>1</td>\n",
       "    </tr>\n",
       "    <tr>\n",
       "      <th>4</th>\n",
       "      <td>5009752</td>\n",
       "      <td>1</td>\n",
       "    </tr>\n",
       "    <tr>\n",
       "      <th>...</th>\n",
       "      <td>...</td>\n",
       "      <td>...</td>\n",
       "    </tr>\n",
       "    <tr>\n",
       "      <th>1543</th>\n",
       "      <td>5028645</td>\n",
       "      <td>0</td>\n",
       "    </tr>\n",
       "    <tr>\n",
       "      <th>1544</th>\n",
       "      <td>5023655</td>\n",
       "      <td>0</td>\n",
       "    </tr>\n",
       "    <tr>\n",
       "      <th>1545</th>\n",
       "      <td>5115992</td>\n",
       "      <td>0</td>\n",
       "    </tr>\n",
       "    <tr>\n",
       "      <th>1546</th>\n",
       "      <td>5118219</td>\n",
       "      <td>0</td>\n",
       "    </tr>\n",
       "    <tr>\n",
       "      <th>1547</th>\n",
       "      <td>5053790</td>\n",
       "      <td>0</td>\n",
       "    </tr>\n",
       "  </tbody>\n",
       "</table>\n",
       "<p>1548 rows × 2 columns</p>\n",
       "</div>"
      ],
      "text/plain": [
       "       Ind_ID  label\n",
       "0     5008827      1\n",
       "1     5009744      1\n",
       "2     5009746      1\n",
       "3     5009749      1\n",
       "4     5009752      1\n",
       "...       ...    ...\n",
       "1543  5028645      0\n",
       "1544  5023655      0\n",
       "1545  5115992      0\n",
       "1546  5118219      0\n",
       "1547  5053790      0\n",
       "\n",
       "[1548 rows x 2 columns]"
      ]
     },
     "execution_count": 4,
     "metadata": {},
     "output_type": "execute_result"
    }
   ],
   "source": [
    "#### Importing \"credit_card_label\" Dataset into \"credit_status\" dataframe ####\n",
    "\n",
    "credit_status=pd.read_csv(\"Credit_card_label.csv\",encoding = \"ISO-8859-1\")\n",
    "credit_status"
   ]
  },
  {
   "cell_type": "markdown",
   "id": "23008f11",
   "metadata": {},
   "source": [
    "#### <font color = 'Orange'>-- Checking Duplicate Values In DataFrames --"
   ]
  },
  {
   "cell_type": "code",
   "execution_count": 5,
   "id": "b3baa233",
   "metadata": {},
   "outputs": [
    {
     "data": {
      "text/plain": [
       "(1548, 18)"
      ]
     },
     "execution_count": 5,
     "metadata": {},
     "output_type": "execute_result"
    }
   ],
   "source": [
    "applicant_data.drop_duplicates().shape"
   ]
  },
  {
   "cell_type": "code",
   "execution_count": 6,
   "id": "f01708aa",
   "metadata": {},
   "outputs": [
    {
     "data": {
      "text/plain": [
       "(1548, 2)"
      ]
     },
     "execution_count": 6,
     "metadata": {},
     "output_type": "execute_result"
    }
   ],
   "source": [
    "credit_status.drop_duplicates().shape"
   ]
  },
  {
   "cell_type": "markdown",
   "id": "0e6aedd9",
   "metadata": {},
   "source": [
    "#### <font color = 'Yellow'>--->> Here number of entries haven't reduced that means There was no duplicate entries in both the dataframes. "
   ]
  },
  {
   "cell_type": "code",
   "execution_count": null,
   "id": "ee987827",
   "metadata": {},
   "outputs": [],
   "source": []
  },
  {
   "cell_type": "markdown",
   "id": "a83e99f4",
   "metadata": {},
   "source": [
    "#### <font color = 'Orange'>-- Taking \"applicant_data\" DataFrame To Analyze For Some Initial Assumptions -- "
   ]
  },
  {
   "cell_type": "code",
   "execution_count": 7,
   "id": "9c3888b7",
   "metadata": {},
   "outputs": [
    {
     "data": {
      "text/html": [
       "<div>\n",
       "<style scoped>\n",
       "    .dataframe tbody tr th:only-of-type {\n",
       "        vertical-align: middle;\n",
       "    }\n",
       "\n",
       "    .dataframe tbody tr th {\n",
       "        vertical-align: top;\n",
       "    }\n",
       "\n",
       "    .dataframe thead th {\n",
       "        text-align: right;\n",
       "    }\n",
       "</style>\n",
       "<table border=\"1\" class=\"dataframe\">\n",
       "  <thead>\n",
       "    <tr style=\"text-align: right;\">\n",
       "      <th></th>\n",
       "      <th>Ind_ID</th>\n",
       "      <th>GENDER</th>\n",
       "      <th>Car_Owner</th>\n",
       "      <th>Propert_Owner</th>\n",
       "      <th>CHILDREN</th>\n",
       "      <th>Annual_income</th>\n",
       "      <th>Type_Income</th>\n",
       "      <th>EDUCATION</th>\n",
       "      <th>Marital_status</th>\n",
       "      <th>Housing_type</th>\n",
       "      <th>Birthday_count</th>\n",
       "      <th>Employed_days</th>\n",
       "      <th>Mobile_phone</th>\n",
       "      <th>Work_Phone</th>\n",
       "      <th>Phone</th>\n",
       "      <th>EMAIL_ID</th>\n",
       "      <th>Type_Occupation</th>\n",
       "      <th>Family_Members</th>\n",
       "    </tr>\n",
       "  </thead>\n",
       "  <tbody>\n",
       "    <tr>\n",
       "      <th>0</th>\n",
       "      <td>5008827</td>\n",
       "      <td>M</td>\n",
       "      <td>Y</td>\n",
       "      <td>Y</td>\n",
       "      <td>0</td>\n",
       "      <td>180000.0</td>\n",
       "      <td>Pensioner</td>\n",
       "      <td>Higher education</td>\n",
       "      <td>Married</td>\n",
       "      <td>House / apartment</td>\n",
       "      <td>-18772.0</td>\n",
       "      <td>365243</td>\n",
       "      <td>1</td>\n",
       "      <td>0</td>\n",
       "      <td>0</td>\n",
       "      <td>0</td>\n",
       "      <td>NaN</td>\n",
       "      <td>2</td>\n",
       "    </tr>\n",
       "    <tr>\n",
       "      <th>1</th>\n",
       "      <td>5009744</td>\n",
       "      <td>F</td>\n",
       "      <td>Y</td>\n",
       "      <td>N</td>\n",
       "      <td>0</td>\n",
       "      <td>315000.0</td>\n",
       "      <td>Commercial associate</td>\n",
       "      <td>Higher education</td>\n",
       "      <td>Married</td>\n",
       "      <td>House / apartment</td>\n",
       "      <td>-13557.0</td>\n",
       "      <td>-586</td>\n",
       "      <td>1</td>\n",
       "      <td>1</td>\n",
       "      <td>1</td>\n",
       "      <td>0</td>\n",
       "      <td>NaN</td>\n",
       "      <td>2</td>\n",
       "    </tr>\n",
       "    <tr>\n",
       "      <th>2</th>\n",
       "      <td>5009746</td>\n",
       "      <td>F</td>\n",
       "      <td>Y</td>\n",
       "      <td>N</td>\n",
       "      <td>0</td>\n",
       "      <td>315000.0</td>\n",
       "      <td>Commercial associate</td>\n",
       "      <td>Higher education</td>\n",
       "      <td>Married</td>\n",
       "      <td>House / apartment</td>\n",
       "      <td>NaN</td>\n",
       "      <td>-586</td>\n",
       "      <td>1</td>\n",
       "      <td>1</td>\n",
       "      <td>1</td>\n",
       "      <td>0</td>\n",
       "      <td>NaN</td>\n",
       "      <td>2</td>\n",
       "    </tr>\n",
       "    <tr>\n",
       "      <th>3</th>\n",
       "      <td>5009749</td>\n",
       "      <td>F</td>\n",
       "      <td>Y</td>\n",
       "      <td>N</td>\n",
       "      <td>0</td>\n",
       "      <td>NaN</td>\n",
       "      <td>Commercial associate</td>\n",
       "      <td>Higher education</td>\n",
       "      <td>Married</td>\n",
       "      <td>House / apartment</td>\n",
       "      <td>-13557.0</td>\n",
       "      <td>-586</td>\n",
       "      <td>1</td>\n",
       "      <td>1</td>\n",
       "      <td>1</td>\n",
       "      <td>0</td>\n",
       "      <td>NaN</td>\n",
       "      <td>2</td>\n",
       "    </tr>\n",
       "    <tr>\n",
       "      <th>4</th>\n",
       "      <td>5009752</td>\n",
       "      <td>F</td>\n",
       "      <td>Y</td>\n",
       "      <td>N</td>\n",
       "      <td>0</td>\n",
       "      <td>315000.0</td>\n",
       "      <td>Commercial associate</td>\n",
       "      <td>Higher education</td>\n",
       "      <td>Married</td>\n",
       "      <td>House / apartment</td>\n",
       "      <td>-13557.0</td>\n",
       "      <td>-586</td>\n",
       "      <td>1</td>\n",
       "      <td>1</td>\n",
       "      <td>1</td>\n",
       "      <td>0</td>\n",
       "      <td>NaN</td>\n",
       "      <td>2</td>\n",
       "    </tr>\n",
       "  </tbody>\n",
       "</table>\n",
       "</div>"
      ],
      "text/plain": [
       "    Ind_ID GENDER Car_Owner Propert_Owner  CHILDREN  Annual_income  \\\n",
       "0  5008827      M         Y             Y         0       180000.0   \n",
       "1  5009744      F         Y             N         0       315000.0   \n",
       "2  5009746      F         Y             N         0       315000.0   \n",
       "3  5009749      F         Y             N         0            NaN   \n",
       "4  5009752      F         Y             N         0       315000.0   \n",
       "\n",
       "            Type_Income         EDUCATION Marital_status       Housing_type  \\\n",
       "0             Pensioner  Higher education        Married  House / apartment   \n",
       "1  Commercial associate  Higher education        Married  House / apartment   \n",
       "2  Commercial associate  Higher education        Married  House / apartment   \n",
       "3  Commercial associate  Higher education        Married  House / apartment   \n",
       "4  Commercial associate  Higher education        Married  House / apartment   \n",
       "\n",
       "   Birthday_count  Employed_days  Mobile_phone  Work_Phone  Phone  EMAIL_ID  \\\n",
       "0        -18772.0         365243             1           0      0         0   \n",
       "1        -13557.0           -586             1           1      1         0   \n",
       "2             NaN           -586             1           1      1         0   \n",
       "3        -13557.0           -586             1           1      1         0   \n",
       "4        -13557.0           -586             1           1      1         0   \n",
       "\n",
       "  Type_Occupation  Family_Members  \n",
       "0             NaN               2  \n",
       "1             NaN               2  \n",
       "2             NaN               2  \n",
       "3             NaN               2  \n",
       "4             NaN               2  "
      ]
     },
     "execution_count": 7,
     "metadata": {},
     "output_type": "execute_result"
    }
   ],
   "source": [
    "applicant_data.head()"
   ]
  },
  {
   "cell_type": "code",
   "execution_count": 8,
   "id": "3a4249ee",
   "metadata": {},
   "outputs": [
    {
     "data": {
      "text/html": [
       "<div>\n",
       "<style scoped>\n",
       "    .dataframe tbody tr th:only-of-type {\n",
       "        vertical-align: middle;\n",
       "    }\n",
       "\n",
       "    .dataframe tbody tr th {\n",
       "        vertical-align: top;\n",
       "    }\n",
       "\n",
       "    .dataframe thead th {\n",
       "        text-align: right;\n",
       "    }\n",
       "</style>\n",
       "<table border=\"1\" class=\"dataframe\">\n",
       "  <thead>\n",
       "    <tr style=\"text-align: right;\">\n",
       "      <th></th>\n",
       "      <th>Ind_ID</th>\n",
       "      <th>GENDER</th>\n",
       "      <th>Car_Owner</th>\n",
       "      <th>Propert_Owner</th>\n",
       "      <th>CHILDREN</th>\n",
       "      <th>Annual_income</th>\n",
       "      <th>Type_Income</th>\n",
       "      <th>EDUCATION</th>\n",
       "      <th>Marital_status</th>\n",
       "      <th>Housing_type</th>\n",
       "      <th>Birthday_count</th>\n",
       "      <th>Employed_days</th>\n",
       "      <th>Mobile_phone</th>\n",
       "      <th>Work_Phone</th>\n",
       "      <th>Phone</th>\n",
       "      <th>EMAIL_ID</th>\n",
       "      <th>Type_Occupation</th>\n",
       "      <th>Family_Members</th>\n",
       "    </tr>\n",
       "  </thead>\n",
       "  <tbody>\n",
       "    <tr>\n",
       "      <th>1543</th>\n",
       "      <td>5028645</td>\n",
       "      <td>F</td>\n",
       "      <td>N</td>\n",
       "      <td>Y</td>\n",
       "      <td>0</td>\n",
       "      <td>NaN</td>\n",
       "      <td>Commercial associate</td>\n",
       "      <td>Higher education</td>\n",
       "      <td>Married</td>\n",
       "      <td>House / apartment</td>\n",
       "      <td>-11957.0</td>\n",
       "      <td>-2182</td>\n",
       "      <td>1</td>\n",
       "      <td>0</td>\n",
       "      <td>0</td>\n",
       "      <td>0</td>\n",
       "      <td>Managers</td>\n",
       "      <td>2</td>\n",
       "    </tr>\n",
       "    <tr>\n",
       "      <th>1544</th>\n",
       "      <td>5023655</td>\n",
       "      <td>F</td>\n",
       "      <td>N</td>\n",
       "      <td>N</td>\n",
       "      <td>0</td>\n",
       "      <td>225000.0</td>\n",
       "      <td>Commercial associate</td>\n",
       "      <td>Incomplete higher</td>\n",
       "      <td>Single / not married</td>\n",
       "      <td>House / apartment</td>\n",
       "      <td>-10229.0</td>\n",
       "      <td>-1209</td>\n",
       "      <td>1</td>\n",
       "      <td>0</td>\n",
       "      <td>0</td>\n",
       "      <td>0</td>\n",
       "      <td>Accountants</td>\n",
       "      <td>1</td>\n",
       "    </tr>\n",
       "    <tr>\n",
       "      <th>1545</th>\n",
       "      <td>5115992</td>\n",
       "      <td>M</td>\n",
       "      <td>Y</td>\n",
       "      <td>Y</td>\n",
       "      <td>2</td>\n",
       "      <td>180000.0</td>\n",
       "      <td>Working</td>\n",
       "      <td>Higher education</td>\n",
       "      <td>Married</td>\n",
       "      <td>House / apartment</td>\n",
       "      <td>-13174.0</td>\n",
       "      <td>-2477</td>\n",
       "      <td>1</td>\n",
       "      <td>0</td>\n",
       "      <td>0</td>\n",
       "      <td>0</td>\n",
       "      <td>Managers</td>\n",
       "      <td>4</td>\n",
       "    </tr>\n",
       "    <tr>\n",
       "      <th>1546</th>\n",
       "      <td>5118219</td>\n",
       "      <td>M</td>\n",
       "      <td>Y</td>\n",
       "      <td>N</td>\n",
       "      <td>0</td>\n",
       "      <td>270000.0</td>\n",
       "      <td>Working</td>\n",
       "      <td>Secondary / secondary special</td>\n",
       "      <td>Civil marriage</td>\n",
       "      <td>House / apartment</td>\n",
       "      <td>-15292.0</td>\n",
       "      <td>-645</td>\n",
       "      <td>1</td>\n",
       "      <td>1</td>\n",
       "      <td>1</td>\n",
       "      <td>0</td>\n",
       "      <td>Drivers</td>\n",
       "      <td>2</td>\n",
       "    </tr>\n",
       "    <tr>\n",
       "      <th>1547</th>\n",
       "      <td>5053790</td>\n",
       "      <td>F</td>\n",
       "      <td>Y</td>\n",
       "      <td>Y</td>\n",
       "      <td>0</td>\n",
       "      <td>225000.0</td>\n",
       "      <td>Working</td>\n",
       "      <td>Higher education</td>\n",
       "      <td>Married</td>\n",
       "      <td>House / apartment</td>\n",
       "      <td>-16601.0</td>\n",
       "      <td>-2859</td>\n",
       "      <td>1</td>\n",
       "      <td>0</td>\n",
       "      <td>0</td>\n",
       "      <td>0</td>\n",
       "      <td>NaN</td>\n",
       "      <td>2</td>\n",
       "    </tr>\n",
       "  </tbody>\n",
       "</table>\n",
       "</div>"
      ],
      "text/plain": [
       "       Ind_ID GENDER Car_Owner Propert_Owner  CHILDREN  Annual_income  \\\n",
       "1543  5028645      F         N             Y         0            NaN   \n",
       "1544  5023655      F         N             N         0       225000.0   \n",
       "1545  5115992      M         Y             Y         2       180000.0   \n",
       "1546  5118219      M         Y             N         0       270000.0   \n",
       "1547  5053790      F         Y             Y         0       225000.0   \n",
       "\n",
       "               Type_Income                      EDUCATION  \\\n",
       "1543  Commercial associate               Higher education   \n",
       "1544  Commercial associate              Incomplete higher   \n",
       "1545               Working               Higher education   \n",
       "1546               Working  Secondary / secondary special   \n",
       "1547               Working               Higher education   \n",
       "\n",
       "            Marital_status       Housing_type  Birthday_count  Employed_days  \\\n",
       "1543               Married  House / apartment        -11957.0          -2182   \n",
       "1544  Single / not married  House / apartment        -10229.0          -1209   \n",
       "1545               Married  House / apartment        -13174.0          -2477   \n",
       "1546        Civil marriage  House / apartment        -15292.0           -645   \n",
       "1547               Married  House / apartment        -16601.0          -2859   \n",
       "\n",
       "      Mobile_phone  Work_Phone  Phone  EMAIL_ID Type_Occupation  \\\n",
       "1543             1           0      0         0        Managers   \n",
       "1544             1           0      0         0     Accountants   \n",
       "1545             1           0      0         0        Managers   \n",
       "1546             1           1      1         0         Drivers   \n",
       "1547             1           0      0         0             NaN   \n",
       "\n",
       "      Family_Members  \n",
       "1543               2  \n",
       "1544               1  \n",
       "1545               4  \n",
       "1546               2  \n",
       "1547               2  "
      ]
     },
     "execution_count": 8,
     "metadata": {},
     "output_type": "execute_result"
    }
   ],
   "source": [
    "applicant_data.tail()"
   ]
  },
  {
   "cell_type": "code",
   "execution_count": 9,
   "id": "a38d1b1f",
   "metadata": {},
   "outputs": [
    {
     "data": {
      "text/plain": [
       "Index(['Ind_ID', 'GENDER', 'Car_Owner', 'Propert_Owner', 'CHILDREN',\n",
       "       'Annual_income', 'Type_Income', 'EDUCATION', 'Marital_status',\n",
       "       'Housing_type', 'Birthday_count', 'Employed_days', 'Mobile_phone',\n",
       "       'Work_Phone', 'Phone', 'EMAIL_ID', 'Type_Occupation', 'Family_Members'],\n",
       "      dtype='object')"
      ]
     },
     "execution_count": 9,
     "metadata": {},
     "output_type": "execute_result"
    }
   ],
   "source": [
    "#### Checking Column Names ####\n",
    "\n",
    "applicant_data.columns     #### Alternate Way -- list(applicant_data) ####"
   ]
  },
  {
   "cell_type": "markdown",
   "id": "7f06cdcf",
   "metadata": {},
   "source": [
    "#### <font color = 'White'>---- Here we can the column names are in alphabatically mixed manner.Some are in upper case some in lower case some in mixed case and also some of features are inappropiate as per understandings.So Here I am going to fix this issue."
   ]
  },
  {
   "cell_type": "code",
   "execution_count": 10,
   "id": "201a6999",
   "metadata": {},
   "outputs": [],
   "source": [
    "#### Renaming The Column Names in Same Alphabatical Manner ####\n",
    "applicant_data=applicant_data.rename(columns={'GENDER':'Gender','CHILDREN':'Children',\n",
    "         'Car_Owner':'Car_owner','Propert_Owner':'Property_owner','Type_Income':'Type_income',\n",
    "         'Birthday_count':'Age','Employed_days':'Employed_since','EDUCATION': 'Education',\n",
    "        'Work_Phone':'Work_phone','EMAIL_ID':'Email_id','Type_Occupation':'Type_occupation',\n",
    "         'Family_Members':'Family_members'})"
   ]
  },
  {
   "cell_type": "code",
   "execution_count": 11,
   "id": "269c25f9",
   "metadata": {},
   "outputs": [
    {
     "data": {
      "text/html": [
       "<div>\n",
       "<style scoped>\n",
       "    .dataframe tbody tr th:only-of-type {\n",
       "        vertical-align: middle;\n",
       "    }\n",
       "\n",
       "    .dataframe tbody tr th {\n",
       "        vertical-align: top;\n",
       "    }\n",
       "\n",
       "    .dataframe thead th {\n",
       "        text-align: right;\n",
       "    }\n",
       "</style>\n",
       "<table border=\"1\" class=\"dataframe\">\n",
       "  <thead>\n",
       "    <tr style=\"text-align: right;\">\n",
       "      <th></th>\n",
       "      <th>Ind_ID</th>\n",
       "      <th>Gender</th>\n",
       "      <th>Car_owner</th>\n",
       "      <th>Property_owner</th>\n",
       "      <th>Children</th>\n",
       "      <th>Annual_income</th>\n",
       "      <th>Type_income</th>\n",
       "      <th>Education</th>\n",
       "      <th>Marital_status</th>\n",
       "      <th>Housing_type</th>\n",
       "      <th>Age</th>\n",
       "      <th>Employed_since</th>\n",
       "      <th>Mobile_phone</th>\n",
       "      <th>Work_phone</th>\n",
       "      <th>Phone</th>\n",
       "      <th>Email_id</th>\n",
       "      <th>Type_occupation</th>\n",
       "      <th>Family_members</th>\n",
       "    </tr>\n",
       "  </thead>\n",
       "  <tbody>\n",
       "    <tr>\n",
       "      <th>0</th>\n",
       "      <td>5008827</td>\n",
       "      <td>M</td>\n",
       "      <td>Y</td>\n",
       "      <td>Y</td>\n",
       "      <td>0</td>\n",
       "      <td>180000.0</td>\n",
       "      <td>Pensioner</td>\n",
       "      <td>Higher education</td>\n",
       "      <td>Married</td>\n",
       "      <td>House / apartment</td>\n",
       "      <td>-18772.0</td>\n",
       "      <td>365243</td>\n",
       "      <td>1</td>\n",
       "      <td>0</td>\n",
       "      <td>0</td>\n",
       "      <td>0</td>\n",
       "      <td>NaN</td>\n",
       "      <td>2</td>\n",
       "    </tr>\n",
       "    <tr>\n",
       "      <th>1</th>\n",
       "      <td>5009744</td>\n",
       "      <td>F</td>\n",
       "      <td>Y</td>\n",
       "      <td>N</td>\n",
       "      <td>0</td>\n",
       "      <td>315000.0</td>\n",
       "      <td>Commercial associate</td>\n",
       "      <td>Higher education</td>\n",
       "      <td>Married</td>\n",
       "      <td>House / apartment</td>\n",
       "      <td>-13557.0</td>\n",
       "      <td>-586</td>\n",
       "      <td>1</td>\n",
       "      <td>1</td>\n",
       "      <td>1</td>\n",
       "      <td>0</td>\n",
       "      <td>NaN</td>\n",
       "      <td>2</td>\n",
       "    </tr>\n",
       "    <tr>\n",
       "      <th>2</th>\n",
       "      <td>5009746</td>\n",
       "      <td>F</td>\n",
       "      <td>Y</td>\n",
       "      <td>N</td>\n",
       "      <td>0</td>\n",
       "      <td>315000.0</td>\n",
       "      <td>Commercial associate</td>\n",
       "      <td>Higher education</td>\n",
       "      <td>Married</td>\n",
       "      <td>House / apartment</td>\n",
       "      <td>NaN</td>\n",
       "      <td>-586</td>\n",
       "      <td>1</td>\n",
       "      <td>1</td>\n",
       "      <td>1</td>\n",
       "      <td>0</td>\n",
       "      <td>NaN</td>\n",
       "      <td>2</td>\n",
       "    </tr>\n",
       "    <tr>\n",
       "      <th>3</th>\n",
       "      <td>5009749</td>\n",
       "      <td>F</td>\n",
       "      <td>Y</td>\n",
       "      <td>N</td>\n",
       "      <td>0</td>\n",
       "      <td>NaN</td>\n",
       "      <td>Commercial associate</td>\n",
       "      <td>Higher education</td>\n",
       "      <td>Married</td>\n",
       "      <td>House / apartment</td>\n",
       "      <td>-13557.0</td>\n",
       "      <td>-586</td>\n",
       "      <td>1</td>\n",
       "      <td>1</td>\n",
       "      <td>1</td>\n",
       "      <td>0</td>\n",
       "      <td>NaN</td>\n",
       "      <td>2</td>\n",
       "    </tr>\n",
       "    <tr>\n",
       "      <th>4</th>\n",
       "      <td>5009752</td>\n",
       "      <td>F</td>\n",
       "      <td>Y</td>\n",
       "      <td>N</td>\n",
       "      <td>0</td>\n",
       "      <td>315000.0</td>\n",
       "      <td>Commercial associate</td>\n",
       "      <td>Higher education</td>\n",
       "      <td>Married</td>\n",
       "      <td>House / apartment</td>\n",
       "      <td>-13557.0</td>\n",
       "      <td>-586</td>\n",
       "      <td>1</td>\n",
       "      <td>1</td>\n",
       "      <td>1</td>\n",
       "      <td>0</td>\n",
       "      <td>NaN</td>\n",
       "      <td>2</td>\n",
       "    </tr>\n",
       "  </tbody>\n",
       "</table>\n",
       "</div>"
      ],
      "text/plain": [
       "    Ind_ID Gender Car_owner Property_owner  Children  Annual_income  \\\n",
       "0  5008827      M         Y              Y         0       180000.0   \n",
       "1  5009744      F         Y              N         0       315000.0   \n",
       "2  5009746      F         Y              N         0       315000.0   \n",
       "3  5009749      F         Y              N         0            NaN   \n",
       "4  5009752      F         Y              N         0       315000.0   \n",
       "\n",
       "            Type_income         Education Marital_status       Housing_type  \\\n",
       "0             Pensioner  Higher education        Married  House / apartment   \n",
       "1  Commercial associate  Higher education        Married  House / apartment   \n",
       "2  Commercial associate  Higher education        Married  House / apartment   \n",
       "3  Commercial associate  Higher education        Married  House / apartment   \n",
       "4  Commercial associate  Higher education        Married  House / apartment   \n",
       "\n",
       "       Age  Employed_since  Mobile_phone  Work_phone  Phone  Email_id  \\\n",
       "0 -18772.0          365243             1           0      0         0   \n",
       "1 -13557.0            -586             1           1      1         0   \n",
       "2      NaN            -586             1           1      1         0   \n",
       "3 -13557.0            -586             1           1      1         0   \n",
       "4 -13557.0            -586             1           1      1         0   \n",
       "\n",
       "  Type_occupation  Family_members  \n",
       "0             NaN               2  \n",
       "1             NaN               2  \n",
       "2             NaN               2  \n",
       "3             NaN               2  \n",
       "4             NaN               2  "
      ]
     },
     "execution_count": 11,
     "metadata": {},
     "output_type": "execute_result"
    }
   ],
   "source": [
    "applicant_data.head()"
   ]
  },
  {
   "cell_type": "code",
   "execution_count": 12,
   "id": "0d701fcf",
   "metadata": {},
   "outputs": [
    {
     "name": "stdout",
     "output_type": "stream",
     "text": [
      "<class 'pandas.core.frame.DataFrame'>\n",
      "RangeIndex: 1548 entries, 0 to 1547\n",
      "Data columns (total 18 columns):\n",
      " #   Column           Non-Null Count  Dtype  \n",
      "---  ------           --------------  -----  \n",
      " 0   Ind_ID           1548 non-null   int64  \n",
      " 1   Gender           1541 non-null   object \n",
      " 2   Car_owner        1548 non-null   object \n",
      " 3   Property_owner   1548 non-null   object \n",
      " 4   Children         1548 non-null   int64  \n",
      " 5   Annual_income    1525 non-null   float64\n",
      " 6   Type_income      1548 non-null   object \n",
      " 7   Education        1548 non-null   object \n",
      " 8   Marital_status   1548 non-null   object \n",
      " 9   Housing_type     1548 non-null   object \n",
      " 10  Age              1526 non-null   float64\n",
      " 11  Employed_since   1548 non-null   int64  \n",
      " 12  Mobile_phone     1548 non-null   int64  \n",
      " 13  Work_phone       1548 non-null   int64  \n",
      " 14  Phone            1548 non-null   int64  \n",
      " 15  Email_id         1548 non-null   int64  \n",
      " 16  Type_occupation  1060 non-null   object \n",
      " 17  Family_members   1548 non-null   int64  \n",
      "dtypes: float64(2), int64(8), object(8)\n",
      "memory usage: 217.8+ KB\n"
     ]
    }
   ],
   "source": [
    "applicant_data.info()"
   ]
  },
  {
   "cell_type": "code",
   "execution_count": 13,
   "id": "7888a5a3",
   "metadata": {},
   "outputs": [
    {
     "data": {
      "text/plain": [
       "Ind_ID               0\n",
       "Gender               7\n",
       "Car_owner            0\n",
       "Property_owner       0\n",
       "Children             0\n",
       "Annual_income       23\n",
       "Type_income          0\n",
       "Education            0\n",
       "Marital_status       0\n",
       "Housing_type         0\n",
       "Age                 22\n",
       "Employed_since       0\n",
       "Mobile_phone         0\n",
       "Work_phone           0\n",
       "Phone                0\n",
       "Email_id             0\n",
       "Type_occupation    488\n",
       "Family_members       0\n",
       "dtype: int64"
      ]
     },
     "execution_count": 13,
     "metadata": {},
     "output_type": "execute_result"
    }
   ],
   "source": [
    "applicant_data.isnull().sum()"
   ]
  },
  {
   "cell_type": "markdown",
   "id": "9b580807",
   "metadata": {},
   "source": [
    "#### <font color = 'Orange'> ---Exploring Statistical Summary of \"applicant_data\" DataFrame--- "
   ]
  },
  {
   "cell_type": "code",
   "execution_count": 14,
   "id": "3bc0ad71",
   "metadata": {},
   "outputs": [
    {
     "data": {
      "text/html": [
       "<div>\n",
       "<style scoped>\n",
       "    .dataframe tbody tr th:only-of-type {\n",
       "        vertical-align: middle;\n",
       "    }\n",
       "\n",
       "    .dataframe tbody tr th {\n",
       "        vertical-align: top;\n",
       "    }\n",
       "\n",
       "    .dataframe thead th {\n",
       "        text-align: right;\n",
       "    }\n",
       "</style>\n",
       "<table border=\"1\" class=\"dataframe\">\n",
       "  <thead>\n",
       "    <tr style=\"text-align: right;\">\n",
       "      <th></th>\n",
       "      <th>Ind_ID</th>\n",
       "      <th>Children</th>\n",
       "      <th>Annual_income</th>\n",
       "      <th>Age</th>\n",
       "      <th>Employed_since</th>\n",
       "      <th>Mobile_phone</th>\n",
       "      <th>Work_phone</th>\n",
       "      <th>Phone</th>\n",
       "      <th>Email_id</th>\n",
       "      <th>Family_members</th>\n",
       "    </tr>\n",
       "  </thead>\n",
       "  <tbody>\n",
       "    <tr>\n",
       "      <th>count</th>\n",
       "      <td>1.548000e+03</td>\n",
       "      <td>1548.000000</td>\n",
       "      <td>1.525000e+03</td>\n",
       "      <td>1526.000000</td>\n",
       "      <td>1548.000000</td>\n",
       "      <td>1548.0</td>\n",
       "      <td>1548.000000</td>\n",
       "      <td>1548.000000</td>\n",
       "      <td>1548.000000</td>\n",
       "      <td>1548.000000</td>\n",
       "    </tr>\n",
       "    <tr>\n",
       "      <th>mean</th>\n",
       "      <td>5.078920e+06</td>\n",
       "      <td>0.412791</td>\n",
       "      <td>1.913993e+05</td>\n",
       "      <td>-16040.342071</td>\n",
       "      <td>59364.689922</td>\n",
       "      <td>1.0</td>\n",
       "      <td>0.208010</td>\n",
       "      <td>0.309432</td>\n",
       "      <td>0.092377</td>\n",
       "      <td>2.161499</td>\n",
       "    </tr>\n",
       "    <tr>\n",
       "      <th>std</th>\n",
       "      <td>4.171759e+04</td>\n",
       "      <td>0.776691</td>\n",
       "      <td>1.132530e+05</td>\n",
       "      <td>4229.503202</td>\n",
       "      <td>137808.062701</td>\n",
       "      <td>0.0</td>\n",
       "      <td>0.406015</td>\n",
       "      <td>0.462409</td>\n",
       "      <td>0.289651</td>\n",
       "      <td>0.947772</td>\n",
       "    </tr>\n",
       "    <tr>\n",
       "      <th>min</th>\n",
       "      <td>5.008827e+06</td>\n",
       "      <td>0.000000</td>\n",
       "      <td>3.375000e+04</td>\n",
       "      <td>-24946.000000</td>\n",
       "      <td>-14887.000000</td>\n",
       "      <td>1.0</td>\n",
       "      <td>0.000000</td>\n",
       "      <td>0.000000</td>\n",
       "      <td>0.000000</td>\n",
       "      <td>1.000000</td>\n",
       "    </tr>\n",
       "    <tr>\n",
       "      <th>25%</th>\n",
       "      <td>5.045070e+06</td>\n",
       "      <td>0.000000</td>\n",
       "      <td>1.215000e+05</td>\n",
       "      <td>-19553.000000</td>\n",
       "      <td>-3174.500000</td>\n",
       "      <td>1.0</td>\n",
       "      <td>0.000000</td>\n",
       "      <td>0.000000</td>\n",
       "      <td>0.000000</td>\n",
       "      <td>2.000000</td>\n",
       "    </tr>\n",
       "    <tr>\n",
       "      <th>50%</th>\n",
       "      <td>5.078842e+06</td>\n",
       "      <td>0.000000</td>\n",
       "      <td>1.665000e+05</td>\n",
       "      <td>-15661.500000</td>\n",
       "      <td>-1565.000000</td>\n",
       "      <td>1.0</td>\n",
       "      <td>0.000000</td>\n",
       "      <td>0.000000</td>\n",
       "      <td>0.000000</td>\n",
       "      <td>2.000000</td>\n",
       "    </tr>\n",
       "    <tr>\n",
       "      <th>75%</th>\n",
       "      <td>5.115673e+06</td>\n",
       "      <td>1.000000</td>\n",
       "      <td>2.250000e+05</td>\n",
       "      <td>-12417.000000</td>\n",
       "      <td>-431.750000</td>\n",
       "      <td>1.0</td>\n",
       "      <td>0.000000</td>\n",
       "      <td>1.000000</td>\n",
       "      <td>0.000000</td>\n",
       "      <td>3.000000</td>\n",
       "    </tr>\n",
       "    <tr>\n",
       "      <th>max</th>\n",
       "      <td>5.150412e+06</td>\n",
       "      <td>14.000000</td>\n",
       "      <td>1.575000e+06</td>\n",
       "      <td>-7705.000000</td>\n",
       "      <td>365243.000000</td>\n",
       "      <td>1.0</td>\n",
       "      <td>1.000000</td>\n",
       "      <td>1.000000</td>\n",
       "      <td>1.000000</td>\n",
       "      <td>15.000000</td>\n",
       "    </tr>\n",
       "  </tbody>\n",
       "</table>\n",
       "</div>"
      ],
      "text/plain": [
       "             Ind_ID     Children  Annual_income           Age  Employed_since  \\\n",
       "count  1.548000e+03  1548.000000   1.525000e+03   1526.000000     1548.000000   \n",
       "mean   5.078920e+06     0.412791   1.913993e+05 -16040.342071    59364.689922   \n",
       "std    4.171759e+04     0.776691   1.132530e+05   4229.503202   137808.062701   \n",
       "min    5.008827e+06     0.000000   3.375000e+04 -24946.000000   -14887.000000   \n",
       "25%    5.045070e+06     0.000000   1.215000e+05 -19553.000000    -3174.500000   \n",
       "50%    5.078842e+06     0.000000   1.665000e+05 -15661.500000    -1565.000000   \n",
       "75%    5.115673e+06     1.000000   2.250000e+05 -12417.000000     -431.750000   \n",
       "max    5.150412e+06    14.000000   1.575000e+06  -7705.000000   365243.000000   \n",
       "\n",
       "       Mobile_phone   Work_phone        Phone     Email_id  Family_members  \n",
       "count        1548.0  1548.000000  1548.000000  1548.000000     1548.000000  \n",
       "mean            1.0     0.208010     0.309432     0.092377        2.161499  \n",
       "std             0.0     0.406015     0.462409     0.289651        0.947772  \n",
       "min             1.0     0.000000     0.000000     0.000000        1.000000  \n",
       "25%             1.0     0.000000     0.000000     0.000000        2.000000  \n",
       "50%             1.0     0.000000     0.000000     0.000000        2.000000  \n",
       "75%             1.0     0.000000     1.000000     0.000000        3.000000  \n",
       "max             1.0     1.000000     1.000000     1.000000       15.000000  "
      ]
     },
     "execution_count": 14,
     "metadata": {},
     "output_type": "execute_result"
    }
   ],
   "source": [
    "applicant_data.describe()"
   ]
  },
  {
   "cell_type": "markdown",
   "id": "4acd15b2",
   "metadata": {},
   "source": [
    "#### <font color = 'Orange'>---Exploring The Missing Values--- \n"
   ]
  },
  {
   "cell_type": "code",
   "execution_count": 15,
   "id": "4956550c",
   "metadata": {},
   "outputs": [
    {
     "data": {
      "text/plain": [
       "<Axes: >"
      ]
     },
     "execution_count": 15,
     "metadata": {},
     "output_type": "execute_result"
    },
    {
     "data": {
      "image/png": "[encoded data removed]",
      "text/plain": [
       "<Figure size 2500x1000 with 3 Axes>"
      ]
     },
     "metadata": {},
     "output_type": "display_data"
    }
   ],
   "source": [
    "#### Checking Missing Values Through Plot ####\n",
    "import missingno as msno\n",
    "msno.bar(applicant_data)"
   ]
  },
  {
   "cell_type": "code",
   "execution_count": 16,
   "id": "9924d681",
   "metadata": {},
   "outputs": [
    {
     "data": {
      "text/plain": [
       "<Axes: >"
      ]
     },
     "execution_count": 16,
     "metadata": {},
     "output_type": "execute_result"
    },
    {
     "data": {
      "image/png": "[encoded data removed]",
      "text/plain": [
       "<Figure size 2500x1000 with 2 Axes>"
      ]
     },
     "metadata": {},
     "output_type": "display_data"
    }
   ],
   "source": [
    "msno.matrix(applicant_data)"
   ]
  },
  {
   "cell_type": "markdown",
   "id": "dcb1cd66",
   "metadata": {},
   "source": [
    "#### <font color = 'Yellow'>---->> With this two type of plots we can say that In \"Age\",\"Annual_income\",\"gender\" there are very few amount of null values present but in \"Type_occupation\" column there are huge amount of null values."
   ]
  },
  {
   "cell_type": "markdown",
   "id": "7b200ebd",
   "metadata": {},
   "source": [
    "### ---- Data Preprocessing ----"
   ]
  },
  {
   "cell_type": "markdown",
   "id": "075c201e",
   "metadata": {},
   "source": [
    "#### <font color = 'Orange'>---- Dealing With The Missing Values ----"
   ]
  },
  {
   "cell_type": "code",
   "execution_count": 17,
   "id": "0316c9b7",
   "metadata": {},
   "outputs": [],
   "source": [
    "#### At First Filling The Missing Values of Age Column With \"MEAN IMPUTATION\" Process ####\n",
    "applicant_data[\"Age\"]=applicant_data[\"Age\"].fillna(applicant_data[\"Age\"].mean())"
   ]
  },
  {
   "cell_type": "code",
   "execution_count": 18,
   "id": "933d4ed2",
   "metadata": {},
   "outputs": [
    {
     "data": {
      "text/plain": [
       "0"
      ]
     },
     "execution_count": 18,
     "metadata": {},
     "output_type": "execute_result"
    }
   ],
   "source": [
    "applicant_data[\"Age\"].isnull().sum()"
   ]
  },
  {
   "cell_type": "code",
   "execution_count": 19,
   "id": "54c32f92",
   "metadata": {},
   "outputs": [],
   "source": [
    "#### Now Filling The Missing Values of Annual_income Column With \"KNN IMPUTATION\" Process ####\n",
    "from sklearn.impute import KNNImputer\n",
    "knn_imputer=KNNImputer()\n",
    "applicant_data[\"Annual_income\"]=knn_imputer.fit_transform(applicant_data[[\"Annual_income\"]])"
   ]
  },
  {
   "cell_type": "code",
   "execution_count": 20,
   "id": "8d464cb6",
   "metadata": {},
   "outputs": [
    {
     "data": {
      "text/plain": [
       "0"
      ]
     },
     "execution_count": 20,
     "metadata": {},
     "output_type": "execute_result"
    }
   ],
   "source": [
    "applicant_data[\"Annual_income\"].isnull().sum()"
   ]
  },
  {
   "cell_type": "code",
   "execution_count": 21,
   "id": "f10c7d7a",
   "metadata": {},
   "outputs": [],
   "source": [
    "#### Now Dropping The Missing Vlues of Gender Column ####\n",
    "applicant_data=applicant_data.dropna(subset=[\"Gender\"])\n",
    "\n",
    "##-->> Here I Dropped The Missing Values With The Other Info Because In Gender Column Only 7 Missing Values \n",
    "##     Were There.So Deleting that Much Rows Not Gonna Hamper The DataFrame"
   ]
  },
  {
   "cell_type": "code",
   "execution_count": 22,
   "id": "78c5aad1",
   "metadata": {},
   "outputs": [
    {
     "data": {
      "text/plain": [
       "0"
      ]
     },
     "execution_count": 22,
     "metadata": {},
     "output_type": "execute_result"
    }
   ],
   "source": [
    "applicant_data[\"Gender\"].isnull().sum()"
   ]
  },
  {
   "cell_type": "code",
   "execution_count": 23,
   "id": "95af18c0",
   "metadata": {},
   "outputs": [],
   "source": [
    "####Now Filling The Missing Values of Type_occupation Column With \"CONSTANT STRING IMPUTATION\" Process####\n",
    "applicant_data[\"Type_occupation\"]=applicant_data[\"Type_occupation\"].fillna(\"Other\")\n",
    "\n",
    "#### Here I Have Decided To Do The Constant Imputation Because This Column is Important In Terms of \n",
    "##   Analysing The dataFrame.So Even With Having High Amount of Missing Values The Column Cannot Be Deleted\n",
    "##   As Deleting The Whole Column Could Make a Bad Impact in Analysing The Dataset."
   ]
  },
  {
   "cell_type": "code",
   "execution_count": 24,
   "id": "6fe41a8e",
   "metadata": {},
   "outputs": [
    {
     "data": {
      "text/plain": [
       "0"
      ]
     },
     "execution_count": 24,
     "metadata": {},
     "output_type": "execute_result"
    }
   ],
   "source": [
    "applicant_data[\"Type_occupation\"].isnull().sum()"
   ]
  },
  {
   "cell_type": "code",
   "execution_count": 25,
   "id": "d5243ecc",
   "metadata": {},
   "outputs": [
    {
     "data": {
      "text/html": [
       "<div>\n",
       "<style scoped>\n",
       "    .dataframe tbody tr th:only-of-type {\n",
       "        vertical-align: middle;\n",
       "    }\n",
       "\n",
       "    .dataframe tbody tr th {\n",
       "        vertical-align: top;\n",
       "    }\n",
       "\n",
       "    .dataframe thead th {\n",
       "        text-align: right;\n",
       "    }\n",
       "</style>\n",
       "<table border=\"1\" class=\"dataframe\">\n",
       "  <thead>\n",
       "    <tr style=\"text-align: right;\">\n",
       "      <th></th>\n",
       "      <th>Ind_ID</th>\n",
       "      <th>Gender</th>\n",
       "      <th>Car_owner</th>\n",
       "      <th>Property_owner</th>\n",
       "      <th>Children</th>\n",
       "      <th>Annual_income</th>\n",
       "      <th>Type_income</th>\n",
       "      <th>Education</th>\n",
       "      <th>Marital_status</th>\n",
       "      <th>Housing_type</th>\n",
       "      <th>Age</th>\n",
       "      <th>Employed_since</th>\n",
       "      <th>Mobile_phone</th>\n",
       "      <th>Work_phone</th>\n",
       "      <th>Phone</th>\n",
       "      <th>Email_id</th>\n",
       "      <th>Type_occupation</th>\n",
       "      <th>Family_members</th>\n",
       "    </tr>\n",
       "  </thead>\n",
       "  <tbody>\n",
       "    <tr>\n",
       "      <th>0</th>\n",
       "      <td>5008827</td>\n",
       "      <td>M</td>\n",
       "      <td>Y</td>\n",
       "      <td>Y</td>\n",
       "      <td>0</td>\n",
       "      <td>180000.00000</td>\n",
       "      <td>Pensioner</td>\n",
       "      <td>Higher education</td>\n",
       "      <td>Married</td>\n",
       "      <td>House / apartment</td>\n",
       "      <td>-18772.000000</td>\n",
       "      <td>365243</td>\n",
       "      <td>1</td>\n",
       "      <td>0</td>\n",
       "      <td>0</td>\n",
       "      <td>0</td>\n",
       "      <td>Other</td>\n",
       "      <td>2</td>\n",
       "    </tr>\n",
       "    <tr>\n",
       "      <th>1</th>\n",
       "      <td>5009744</td>\n",
       "      <td>F</td>\n",
       "      <td>Y</td>\n",
       "      <td>N</td>\n",
       "      <td>0</td>\n",
       "      <td>315000.00000</td>\n",
       "      <td>Commercial associate</td>\n",
       "      <td>Higher education</td>\n",
       "      <td>Married</td>\n",
       "      <td>House / apartment</td>\n",
       "      <td>-13557.000000</td>\n",
       "      <td>-586</td>\n",
       "      <td>1</td>\n",
       "      <td>1</td>\n",
       "      <td>1</td>\n",
       "      <td>0</td>\n",
       "      <td>Other</td>\n",
       "      <td>2</td>\n",
       "    </tr>\n",
       "    <tr>\n",
       "      <th>2</th>\n",
       "      <td>5009746</td>\n",
       "      <td>F</td>\n",
       "      <td>Y</td>\n",
       "      <td>N</td>\n",
       "      <td>0</td>\n",
       "      <td>315000.00000</td>\n",
       "      <td>Commercial associate</td>\n",
       "      <td>Higher education</td>\n",
       "      <td>Married</td>\n",
       "      <td>House / apartment</td>\n",
       "      <td>-16040.342071</td>\n",
       "      <td>-586</td>\n",
       "      <td>1</td>\n",
       "      <td>1</td>\n",
       "      <td>1</td>\n",
       "      <td>0</td>\n",
       "      <td>Other</td>\n",
       "      <td>2</td>\n",
       "    </tr>\n",
       "    <tr>\n",
       "      <th>3</th>\n",
       "      <td>5009749</td>\n",
       "      <td>F</td>\n",
       "      <td>Y</td>\n",
       "      <td>N</td>\n",
       "      <td>0</td>\n",
       "      <td>191399.32623</td>\n",
       "      <td>Commercial associate</td>\n",
       "      <td>Higher education</td>\n",
       "      <td>Married</td>\n",
       "      <td>House / apartment</td>\n",
       "      <td>-13557.000000</td>\n",
       "      <td>-586</td>\n",
       "      <td>1</td>\n",
       "      <td>1</td>\n",
       "      <td>1</td>\n",
       "      <td>0</td>\n",
       "      <td>Other</td>\n",
       "      <td>2</td>\n",
       "    </tr>\n",
       "    <tr>\n",
       "      <th>4</th>\n",
       "      <td>5009752</td>\n",
       "      <td>F</td>\n",
       "      <td>Y</td>\n",
       "      <td>N</td>\n",
       "      <td>0</td>\n",
       "      <td>315000.00000</td>\n",
       "      <td>Commercial associate</td>\n",
       "      <td>Higher education</td>\n",
       "      <td>Married</td>\n",
       "      <td>House / apartment</td>\n",
       "      <td>-13557.000000</td>\n",
       "      <td>-586</td>\n",
       "      <td>1</td>\n",
       "      <td>1</td>\n",
       "      <td>1</td>\n",
       "      <td>0</td>\n",
       "      <td>Other</td>\n",
       "      <td>2</td>\n",
       "    </tr>\n",
       "  </tbody>\n",
       "</table>\n",
       "</div>"
      ],
      "text/plain": [
       "    Ind_ID Gender Car_owner Property_owner  Children  Annual_income  \\\n",
       "0  5008827      M         Y              Y         0   180000.00000   \n",
       "1  5009744      F         Y              N         0   315000.00000   \n",
       "2  5009746      F         Y              N         0   315000.00000   \n",
       "3  5009749      F         Y              N         0   191399.32623   \n",
       "4  5009752      F         Y              N         0   315000.00000   \n",
       "\n",
       "            Type_income         Education Marital_status       Housing_type  \\\n",
       "0             Pensioner  Higher education        Married  House / apartment   \n",
       "1  Commercial associate  Higher education        Married  House / apartment   \n",
       "2  Commercial associate  Higher education        Married  House / apartment   \n",
       "3  Commercial associate  Higher education        Married  House / apartment   \n",
       "4  Commercial associate  Higher education        Married  House / apartment   \n",
       "\n",
       "            Age  Employed_since  Mobile_phone  Work_phone  Phone  Email_id  \\\n",
       "0 -18772.000000          365243             1           0      0         0   \n",
       "1 -13557.000000            -586             1           1      1         0   \n",
       "2 -16040.342071            -586             1           1      1         0   \n",
       "3 -13557.000000            -586             1           1      1         0   \n",
       "4 -13557.000000            -586             1           1      1         0   \n",
       "\n",
       "  Type_occupation  Family_members  \n",
       "0           Other               2  \n",
       "1           Other               2  \n",
       "2           Other               2  \n",
       "3           Other               2  \n",
       "4           Other               2  "
      ]
     },
     "execution_count": 25,
     "metadata": {},
     "output_type": "execute_result"
    }
   ],
   "source": [
    "applicant_data.head()"
   ]
  },
  {
   "cell_type": "markdown",
   "id": "b988db5d",
   "metadata": {},
   "source": [
    "#### <font color = 'White'>---- Here we can see some of negative values in the \"Age\" and \"Employed_since\" Column.So here I am going to convert the values from negative to posetive for better understanding."
   ]
  },
  {
   "cell_type": "code",
   "execution_count": 26,
   "id": "e526f1b8",
   "metadata": {},
   "outputs": [],
   "source": [
    "applicant_data[\"Age\"]=round((applicant_data[\"Age\"]/-365),0)"
   ]
  },
  {
   "cell_type": "code",
   "execution_count": 27,
   "id": "14a828c2",
   "metadata": {},
   "outputs": [],
   "source": [
    "applicant_data[\"Employed_since\"]=round((applicant_data[\"Employed_since\"]/-365),0)"
   ]
  },
  {
   "cell_type": "code",
   "execution_count": 28,
   "id": "7168b6cb",
   "metadata": {},
   "outputs": [],
   "source": [
    "#### Replacing The Minus Values In \"Employed_since\" With \"0\" [Unemployed] ####\n",
    "applicant_data[\"Employed_since\"].replace(-1001.0,0,inplace=True)"
   ]
  },
  {
   "cell_type": "code",
   "execution_count": 29,
   "id": "507e4629",
   "metadata": {},
   "outputs": [],
   "source": [
    "applicant_data[\"Annual_income\"]=round((applicant_data[\"Annual_income\"]),2)"
   ]
  },
  {
   "cell_type": "code",
   "execution_count": 30,
   "id": "59af4909",
   "metadata": {},
   "outputs": [
    {
     "data": {
      "text/html": [
       "<div>\n",
       "<style scoped>\n",
       "    .dataframe tbody tr th:only-of-type {\n",
       "        vertical-align: middle;\n",
       "    }\n",
       "\n",
       "    .dataframe tbody tr th {\n",
       "        vertical-align: top;\n",
       "    }\n",
       "\n",
       "    .dataframe thead th {\n",
       "        text-align: right;\n",
       "    }\n",
       "</style>\n",
       "<table border=\"1\" class=\"dataframe\">\n",
       "  <thead>\n",
       "    <tr style=\"text-align: right;\">\n",
       "      <th></th>\n",
       "      <th>Ind_ID</th>\n",
       "      <th>Gender</th>\n",
       "      <th>Car_owner</th>\n",
       "      <th>Property_owner</th>\n",
       "      <th>Children</th>\n",
       "      <th>Annual_income</th>\n",
       "      <th>Type_income</th>\n",
       "      <th>Education</th>\n",
       "      <th>Marital_status</th>\n",
       "      <th>Housing_type</th>\n",
       "      <th>Age</th>\n",
       "      <th>Employed_since</th>\n",
       "      <th>Mobile_phone</th>\n",
       "      <th>Work_phone</th>\n",
       "      <th>Phone</th>\n",
       "      <th>Email_id</th>\n",
       "      <th>Type_occupation</th>\n",
       "      <th>Family_members</th>\n",
       "    </tr>\n",
       "  </thead>\n",
       "  <tbody>\n",
       "    <tr>\n",
       "      <th>0</th>\n",
       "      <td>5008827</td>\n",
       "      <td>M</td>\n",
       "      <td>Y</td>\n",
       "      <td>Y</td>\n",
       "      <td>0</td>\n",
       "      <td>180000.00</td>\n",
       "      <td>Pensioner</td>\n",
       "      <td>Higher education</td>\n",
       "      <td>Married</td>\n",
       "      <td>House / apartment</td>\n",
       "      <td>51.0</td>\n",
       "      <td>0.0</td>\n",
       "      <td>1</td>\n",
       "      <td>0</td>\n",
       "      <td>0</td>\n",
       "      <td>0</td>\n",
       "      <td>Other</td>\n",
       "      <td>2</td>\n",
       "    </tr>\n",
       "    <tr>\n",
       "      <th>1</th>\n",
       "      <td>5009744</td>\n",
       "      <td>F</td>\n",
       "      <td>Y</td>\n",
       "      <td>N</td>\n",
       "      <td>0</td>\n",
       "      <td>315000.00</td>\n",
       "      <td>Commercial associate</td>\n",
       "      <td>Higher education</td>\n",
       "      <td>Married</td>\n",
       "      <td>House / apartment</td>\n",
       "      <td>37.0</td>\n",
       "      <td>2.0</td>\n",
       "      <td>1</td>\n",
       "      <td>1</td>\n",
       "      <td>1</td>\n",
       "      <td>0</td>\n",
       "      <td>Other</td>\n",
       "      <td>2</td>\n",
       "    </tr>\n",
       "    <tr>\n",
       "      <th>2</th>\n",
       "      <td>5009746</td>\n",
       "      <td>F</td>\n",
       "      <td>Y</td>\n",
       "      <td>N</td>\n",
       "      <td>0</td>\n",
       "      <td>315000.00</td>\n",
       "      <td>Commercial associate</td>\n",
       "      <td>Higher education</td>\n",
       "      <td>Married</td>\n",
       "      <td>House / apartment</td>\n",
       "      <td>44.0</td>\n",
       "      <td>2.0</td>\n",
       "      <td>1</td>\n",
       "      <td>1</td>\n",
       "      <td>1</td>\n",
       "      <td>0</td>\n",
       "      <td>Other</td>\n",
       "      <td>2</td>\n",
       "    </tr>\n",
       "    <tr>\n",
       "      <th>3</th>\n",
       "      <td>5009749</td>\n",
       "      <td>F</td>\n",
       "      <td>Y</td>\n",
       "      <td>N</td>\n",
       "      <td>0</td>\n",
       "      <td>191399.33</td>\n",
       "      <td>Commercial associate</td>\n",
       "      <td>Higher education</td>\n",
       "      <td>Married</td>\n",
       "      <td>House / apartment</td>\n",
       "      <td>37.0</td>\n",
       "      <td>2.0</td>\n",
       "      <td>1</td>\n",
       "      <td>1</td>\n",
       "      <td>1</td>\n",
       "      <td>0</td>\n",
       "      <td>Other</td>\n",
       "      <td>2</td>\n",
       "    </tr>\n",
       "    <tr>\n",
       "      <th>4</th>\n",
       "      <td>5009752</td>\n",
       "      <td>F</td>\n",
       "      <td>Y</td>\n",
       "      <td>N</td>\n",
       "      <td>0</td>\n",
       "      <td>315000.00</td>\n",
       "      <td>Commercial associate</td>\n",
       "      <td>Higher education</td>\n",
       "      <td>Married</td>\n",
       "      <td>House / apartment</td>\n",
       "      <td>37.0</td>\n",
       "      <td>2.0</td>\n",
       "      <td>1</td>\n",
       "      <td>1</td>\n",
       "      <td>1</td>\n",
       "      <td>0</td>\n",
       "      <td>Other</td>\n",
       "      <td>2</td>\n",
       "    </tr>\n",
       "  </tbody>\n",
       "</table>\n",
       "</div>"
      ],
      "text/plain": [
       "    Ind_ID Gender Car_owner Property_owner  Children  Annual_income  \\\n",
       "0  5008827      M         Y              Y         0      180000.00   \n",
       "1  5009744      F         Y              N         0      315000.00   \n",
       "2  5009746      F         Y              N         0      315000.00   \n",
       "3  5009749      F         Y              N         0      191399.33   \n",
       "4  5009752      F         Y              N         0      315000.00   \n",
       "\n",
       "            Type_income         Education Marital_status       Housing_type  \\\n",
       "0             Pensioner  Higher education        Married  House / apartment   \n",
       "1  Commercial associate  Higher education        Married  House / apartment   \n",
       "2  Commercial associate  Higher education        Married  House / apartment   \n",
       "3  Commercial associate  Higher education        Married  House / apartment   \n",
       "4  Commercial associate  Higher education        Married  House / apartment   \n",
       "\n",
       "    Age  Employed_since  Mobile_phone  Work_phone  Phone  Email_id  \\\n",
       "0  51.0             0.0             1           0      0         0   \n",
       "1  37.0             2.0             1           1      1         0   \n",
       "2  44.0             2.0             1           1      1         0   \n",
       "3  37.0             2.0             1           1      1         0   \n",
       "4  37.0             2.0             1           1      1         0   \n",
       "\n",
       "  Type_occupation  Family_members  \n",
       "0           Other               2  \n",
       "1           Other               2  \n",
       "2           Other               2  \n",
       "3           Other               2  \n",
       "4           Other               2  "
      ]
     },
     "execution_count": 30,
     "metadata": {},
     "output_type": "execute_result"
    }
   ],
   "source": [
    "applicant_data.head()"
   ]
  },
  {
   "cell_type": "markdown",
   "id": "767acaa6",
   "metadata": {},
   "source": [
    "#### <font color = 'Orange'>---- Exploring The Categorical Columns ----"
   ]
  },
  {
   "cell_type": "code",
   "execution_count": 31,
   "id": "311fa307",
   "metadata": {},
   "outputs": [
    {
     "data": {
      "text/plain": [
       "array(['Married', 'Single / not married', 'Civil marriage', 'Separated',\n",
       "       'Widow'], dtype=object)"
      ]
     },
     "execution_count": 31,
     "metadata": {},
     "output_type": "execute_result"
    }
   ],
   "source": [
    "applicant_data[\"Marital_status\"].unique()"
   ]
  },
  {
   "cell_type": "code",
   "execution_count": 32,
   "id": "1bf82d4a",
   "metadata": {},
   "outputs": [
    {
     "data": {
      "text/plain": [
       "array(['Higher education', 'Secondary / secondary special',\n",
       "       'Lower secondary', 'Incomplete higher', 'Academic degree'],\n",
       "      dtype=object)"
      ]
     },
     "execution_count": 32,
     "metadata": {},
     "output_type": "execute_result"
    }
   ],
   "source": [
    "applicant_data[\"Education\"].unique()"
   ]
  },
  {
   "cell_type": "code",
   "execution_count": 33,
   "id": "3a800342",
   "metadata": {},
   "outputs": [
    {
     "data": {
      "text/plain": [
       "array(['Pensioner', 'Commercial associate', 'Working', 'State servant'],\n",
       "      dtype=object)"
      ]
     },
     "execution_count": 33,
     "metadata": {},
     "output_type": "execute_result"
    }
   ],
   "source": [
    "applicant_data[\"Type_income\"].unique()"
   ]
  },
  {
   "cell_type": "code",
   "execution_count": 34,
   "id": "3c6f9ce9",
   "metadata": {},
   "outputs": [
    {
     "data": {
      "text/plain": [
       "array(['House / apartment', 'With parents', 'Rented apartment',\n",
       "       'Municipal apartment', 'Co-op apartment', 'Office apartment'],\n",
       "      dtype=object)"
      ]
     },
     "execution_count": 34,
     "metadata": {},
     "output_type": "execute_result"
    }
   ],
   "source": [
    "applicant_data[\"Housing_type\"].unique()"
   ]
  },
  {
   "cell_type": "markdown",
   "id": "27d3c7ec",
   "metadata": {},
   "source": [
    "#### <font color = 'Yellow'>---->> Here also we can see in \"Education\" and \"Marital_status\" column one category in each column displaying multiple string seperated by a slash.now I am going to convert in a single string for better understandings and minimize the storage occupancy."
   ]
  },
  {
   "cell_type": "code",
   "execution_count": 35,
   "id": "6d0c96b3",
   "metadata": {},
   "outputs": [],
   "source": [
    "applicant_data[\"Marital_status\"]=applicant_data[\"Marital_status\"].replace({\"Single / not married\":\"Not married\"})\n",
    "applicant_data[\"Education\"]=applicant_data[\"Education\"].replace({\"Secondary / secondary special\":\"Secondary\"})"
   ]
  },
  {
   "cell_type": "code",
   "execution_count": 36,
   "id": "f0742bfc",
   "metadata": {},
   "outputs": [
    {
     "data": {
      "text/plain": [
       "array(['Married', 'Not married', 'Civil marriage', 'Separated', 'Widow'],\n",
       "      dtype=object)"
      ]
     },
     "execution_count": 36,
     "metadata": {},
     "output_type": "execute_result"
    }
   ],
   "source": [
    "applicant_data[\"Marital_status\"].unique()"
   ]
  },
  {
   "cell_type": "code",
   "execution_count": 37,
   "id": "6f05e428",
   "metadata": {},
   "outputs": [
    {
     "data": {
      "text/plain": [
       "array(['Higher education', 'Secondary', 'Lower secondary',\n",
       "       'Incomplete higher', 'Academic degree'], dtype=object)"
      ]
     },
     "execution_count": 37,
     "metadata": {},
     "output_type": "execute_result"
    }
   ],
   "source": [
    "applicant_data[\"Education\"].unique()"
   ]
  },
  {
   "cell_type": "markdown",
   "id": "c0908b2b",
   "metadata": {},
   "source": [
    "#### <font color = 'Orange'>----- Merging \"applicant_data\" and \"credit_status\" Together -----"
   ]
  },
  {
   "cell_type": "code",
   "execution_count": 38,
   "id": "b55b21e0",
   "metadata": {},
   "outputs": [
    {
     "data": {
      "text/html": [
       "<div>\n",
       "<style scoped>\n",
       "    .dataframe tbody tr th:only-of-type {\n",
       "        vertical-align: middle;\n",
       "    }\n",
       "\n",
       "    .dataframe tbody tr th {\n",
       "        vertical-align: top;\n",
       "    }\n",
       "\n",
       "    .dataframe thead th {\n",
       "        text-align: right;\n",
       "    }\n",
       "</style>\n",
       "<table border=\"1\" class=\"dataframe\">\n",
       "  <thead>\n",
       "    <tr style=\"text-align: right;\">\n",
       "      <th></th>\n",
       "      <th>Ind_ID</th>\n",
       "      <th>Gender</th>\n",
       "      <th>Car_owner</th>\n",
       "      <th>Property_owner</th>\n",
       "      <th>Children</th>\n",
       "      <th>Annual_income</th>\n",
       "      <th>Type_income</th>\n",
       "      <th>Education</th>\n",
       "      <th>Marital_status</th>\n",
       "      <th>Housing_type</th>\n",
       "      <th>Age</th>\n",
       "      <th>Employed_since</th>\n",
       "      <th>Mobile_phone</th>\n",
       "      <th>Work_phone</th>\n",
       "      <th>Phone</th>\n",
       "      <th>Email_id</th>\n",
       "      <th>Type_occupation</th>\n",
       "      <th>Family_members</th>\n",
       "      <th>label</th>\n",
       "    </tr>\n",
       "  </thead>\n",
       "  <tbody>\n",
       "    <tr>\n",
       "      <th>0</th>\n",
       "      <td>5008827</td>\n",
       "      <td>M</td>\n",
       "      <td>Y</td>\n",
       "      <td>Y</td>\n",
       "      <td>0</td>\n",
       "      <td>180000.00</td>\n",
       "      <td>Pensioner</td>\n",
       "      <td>Higher education</td>\n",
       "      <td>Married</td>\n",
       "      <td>House / apartment</td>\n",
       "      <td>51.0</td>\n",
       "      <td>0.0</td>\n",
       "      <td>1</td>\n",
       "      <td>0</td>\n",
       "      <td>0</td>\n",
       "      <td>0</td>\n",
       "      <td>Other</td>\n",
       "      <td>2</td>\n",
       "      <td>1</td>\n",
       "    </tr>\n",
       "    <tr>\n",
       "      <th>1</th>\n",
       "      <td>5009744</td>\n",
       "      <td>F</td>\n",
       "      <td>Y</td>\n",
       "      <td>N</td>\n",
       "      <td>0</td>\n",
       "      <td>315000.00</td>\n",
       "      <td>Commercial associate</td>\n",
       "      <td>Higher education</td>\n",
       "      <td>Married</td>\n",
       "      <td>House / apartment</td>\n",
       "      <td>37.0</td>\n",
       "      <td>2.0</td>\n",
       "      <td>1</td>\n",
       "      <td>1</td>\n",
       "      <td>1</td>\n",
       "      <td>0</td>\n",
       "      <td>Other</td>\n",
       "      <td>2</td>\n",
       "      <td>1</td>\n",
       "    </tr>\n",
       "    <tr>\n",
       "      <th>2</th>\n",
       "      <td>5009746</td>\n",
       "      <td>F</td>\n",
       "      <td>Y</td>\n",
       "      <td>N</td>\n",
       "      <td>0</td>\n",
       "      <td>315000.00</td>\n",
       "      <td>Commercial associate</td>\n",
       "      <td>Higher education</td>\n",
       "      <td>Married</td>\n",
       "      <td>House / apartment</td>\n",
       "      <td>44.0</td>\n",
       "      <td>2.0</td>\n",
       "      <td>1</td>\n",
       "      <td>1</td>\n",
       "      <td>1</td>\n",
       "      <td>0</td>\n",
       "      <td>Other</td>\n",
       "      <td>2</td>\n",
       "      <td>1</td>\n",
       "    </tr>\n",
       "    <tr>\n",
       "      <th>3</th>\n",
       "      <td>5009749</td>\n",
       "      <td>F</td>\n",
       "      <td>Y</td>\n",
       "      <td>N</td>\n",
       "      <td>0</td>\n",
       "      <td>191399.33</td>\n",
       "      <td>Commercial associate</td>\n",
       "      <td>Higher education</td>\n",
       "      <td>Married</td>\n",
       "      <td>House / apartment</td>\n",
       "      <td>37.0</td>\n",
       "      <td>2.0</td>\n",
       "      <td>1</td>\n",
       "      <td>1</td>\n",
       "      <td>1</td>\n",
       "      <td>0</td>\n",
       "      <td>Other</td>\n",
       "      <td>2</td>\n",
       "      <td>1</td>\n",
       "    </tr>\n",
       "    <tr>\n",
       "      <th>4</th>\n",
       "      <td>5009752</td>\n",
       "      <td>F</td>\n",
       "      <td>Y</td>\n",
       "      <td>N</td>\n",
       "      <td>0</td>\n",
       "      <td>315000.00</td>\n",
       "      <td>Commercial associate</td>\n",
       "      <td>Higher education</td>\n",
       "      <td>Married</td>\n",
       "      <td>House / apartment</td>\n",
       "      <td>37.0</td>\n",
       "      <td>2.0</td>\n",
       "      <td>1</td>\n",
       "      <td>1</td>\n",
       "      <td>1</td>\n",
       "      <td>0</td>\n",
       "      <td>Other</td>\n",
       "      <td>2</td>\n",
       "      <td>1</td>\n",
       "    </tr>\n",
       "    <tr>\n",
       "      <th>...</th>\n",
       "      <td>...</td>\n",
       "      <td>...</td>\n",
       "      <td>...</td>\n",
       "      <td>...</td>\n",
       "      <td>...</td>\n",
       "      <td>...</td>\n",
       "      <td>...</td>\n",
       "      <td>...</td>\n",
       "      <td>...</td>\n",
       "      <td>...</td>\n",
       "      <td>...</td>\n",
       "      <td>...</td>\n",
       "      <td>...</td>\n",
       "      <td>...</td>\n",
       "      <td>...</td>\n",
       "      <td>...</td>\n",
       "      <td>...</td>\n",
       "      <td>...</td>\n",
       "      <td>...</td>\n",
       "    </tr>\n",
       "    <tr>\n",
       "      <th>1536</th>\n",
       "      <td>5028645</td>\n",
       "      <td>F</td>\n",
       "      <td>N</td>\n",
       "      <td>Y</td>\n",
       "      <td>0</td>\n",
       "      <td>191399.33</td>\n",
       "      <td>Commercial associate</td>\n",
       "      <td>Higher education</td>\n",
       "      <td>Married</td>\n",
       "      <td>House / apartment</td>\n",
       "      <td>33.0</td>\n",
       "      <td>6.0</td>\n",
       "      <td>1</td>\n",
       "      <td>0</td>\n",
       "      <td>0</td>\n",
       "      <td>0</td>\n",
       "      <td>Managers</td>\n",
       "      <td>2</td>\n",
       "      <td>0</td>\n",
       "    </tr>\n",
       "    <tr>\n",
       "      <th>1537</th>\n",
       "      <td>5023655</td>\n",
       "      <td>F</td>\n",
       "      <td>N</td>\n",
       "      <td>N</td>\n",
       "      <td>0</td>\n",
       "      <td>225000.00</td>\n",
       "      <td>Commercial associate</td>\n",
       "      <td>Incomplete higher</td>\n",
       "      <td>Not married</td>\n",
       "      <td>House / apartment</td>\n",
       "      <td>28.0</td>\n",
       "      <td>3.0</td>\n",
       "      <td>1</td>\n",
       "      <td>0</td>\n",
       "      <td>0</td>\n",
       "      <td>0</td>\n",
       "      <td>Accountants</td>\n",
       "      <td>1</td>\n",
       "      <td>0</td>\n",
       "    </tr>\n",
       "    <tr>\n",
       "      <th>1538</th>\n",
       "      <td>5115992</td>\n",
       "      <td>M</td>\n",
       "      <td>Y</td>\n",
       "      <td>Y</td>\n",
       "      <td>2</td>\n",
       "      <td>180000.00</td>\n",
       "      <td>Working</td>\n",
       "      <td>Higher education</td>\n",
       "      <td>Married</td>\n",
       "      <td>House / apartment</td>\n",
       "      <td>36.0</td>\n",
       "      <td>7.0</td>\n",
       "      <td>1</td>\n",
       "      <td>0</td>\n",
       "      <td>0</td>\n",
       "      <td>0</td>\n",
       "      <td>Managers</td>\n",
       "      <td>4</td>\n",
       "      <td>0</td>\n",
       "    </tr>\n",
       "    <tr>\n",
       "      <th>1539</th>\n",
       "      <td>5118219</td>\n",
       "      <td>M</td>\n",
       "      <td>Y</td>\n",
       "      <td>N</td>\n",
       "      <td>0</td>\n",
       "      <td>270000.00</td>\n",
       "      <td>Working</td>\n",
       "      <td>Secondary</td>\n",
       "      <td>Civil marriage</td>\n",
       "      <td>House / apartment</td>\n",
       "      <td>42.0</td>\n",
       "      <td>2.0</td>\n",
       "      <td>1</td>\n",
       "      <td>1</td>\n",
       "      <td>1</td>\n",
       "      <td>0</td>\n",
       "      <td>Drivers</td>\n",
       "      <td>2</td>\n",
       "      <td>0</td>\n",
       "    </tr>\n",
       "    <tr>\n",
       "      <th>1540</th>\n",
       "      <td>5053790</td>\n",
       "      <td>F</td>\n",
       "      <td>Y</td>\n",
       "      <td>Y</td>\n",
       "      <td>0</td>\n",
       "      <td>225000.00</td>\n",
       "      <td>Working</td>\n",
       "      <td>Higher education</td>\n",
       "      <td>Married</td>\n",
       "      <td>House / apartment</td>\n",
       "      <td>45.0</td>\n",
       "      <td>8.0</td>\n",
       "      <td>1</td>\n",
       "      <td>0</td>\n",
       "      <td>0</td>\n",
       "      <td>0</td>\n",
       "      <td>Other</td>\n",
       "      <td>2</td>\n",
       "      <td>0</td>\n",
       "    </tr>\n",
       "  </tbody>\n",
       "</table>\n",
       "<p>1541 rows × 19 columns</p>\n",
       "</div>"
      ],
      "text/plain": [
       "       Ind_ID Gender Car_owner Property_owner  Children  Annual_income  \\\n",
       "0     5008827      M         Y              Y         0      180000.00   \n",
       "1     5009744      F         Y              N         0      315000.00   \n",
       "2     5009746      F         Y              N         0      315000.00   \n",
       "3     5009749      F         Y              N         0      191399.33   \n",
       "4     5009752      F         Y              N         0      315000.00   \n",
       "...       ...    ...       ...            ...       ...            ...   \n",
       "1536  5028645      F         N              Y         0      191399.33   \n",
       "1537  5023655      F         N              N         0      225000.00   \n",
       "1538  5115992      M         Y              Y         2      180000.00   \n",
       "1539  5118219      M         Y              N         0      270000.00   \n",
       "1540  5053790      F         Y              Y         0      225000.00   \n",
       "\n",
       "               Type_income          Education  Marital_status  \\\n",
       "0                Pensioner   Higher education         Married   \n",
       "1     Commercial associate   Higher education         Married   \n",
       "2     Commercial associate   Higher education         Married   \n",
       "3     Commercial associate   Higher education         Married   \n",
       "4     Commercial associate   Higher education         Married   \n",
       "...                    ...                ...             ...   \n",
       "1536  Commercial associate   Higher education         Married   \n",
       "1537  Commercial associate  Incomplete higher     Not married   \n",
       "1538               Working   Higher education         Married   \n",
       "1539               Working          Secondary  Civil marriage   \n",
       "1540               Working   Higher education         Married   \n",
       "\n",
       "           Housing_type   Age  Employed_since  Mobile_phone  Work_phone  \\\n",
       "0     House / apartment  51.0             0.0             1           0   \n",
       "1     House / apartment  37.0             2.0             1           1   \n",
       "2     House / apartment  44.0             2.0             1           1   \n",
       "3     House / apartment  37.0             2.0             1           1   \n",
       "4     House / apartment  37.0             2.0             1           1   \n",
       "...                 ...   ...             ...           ...         ...   \n",
       "1536  House / apartment  33.0             6.0             1           0   \n",
       "1537  House / apartment  28.0             3.0             1           0   \n",
       "1538  House / apartment  36.0             7.0             1           0   \n",
       "1539  House / apartment  42.0             2.0             1           1   \n",
       "1540  House / apartment  45.0             8.0             1           0   \n",
       "\n",
       "      Phone  Email_id Type_occupation  Family_members  label  \n",
       "0         0         0           Other               2      1  \n",
       "1         1         0           Other               2      1  \n",
       "2         1         0           Other               2      1  \n",
       "3         1         0           Other               2      1  \n",
       "4         1         0           Other               2      1  \n",
       "...     ...       ...             ...             ...    ...  \n",
       "1536      0         0        Managers               2      0  \n",
       "1537      0         0     Accountants               1      0  \n",
       "1538      0         0        Managers               4      0  \n",
       "1539      1         0         Drivers               2      0  \n",
       "1540      0         0           Other               2      0  \n",
       "\n",
       "[1541 rows x 19 columns]"
      ]
     },
     "execution_count": 38,
     "metadata": {},
     "output_type": "execute_result"
    }
   ],
   "source": [
    "#### Merging Both The DataFrames Together on The Common Column \"Ind_ID\" ####\n",
    "merged_df=pd.merge(applicant_data,credit_status,on=\"Ind_ID\")\n",
    "merged_df.to_csv(\"merged_credit_dataset.csv\")\n",
    "merged_df"
   ]
  },
  {
   "cell_type": "code",
   "execution_count": 39,
   "id": "ddc0d5cf",
   "metadata": {},
   "outputs": [
    {
     "name": "stdout",
     "output_type": "stream",
     "text": [
      "<class 'pandas.core.frame.DataFrame'>\n",
      "Int64Index: 1541 entries, 0 to 1540\n",
      "Data columns (total 19 columns):\n",
      " #   Column           Non-Null Count  Dtype  \n",
      "---  ------           --------------  -----  \n",
      " 0   Ind_ID           1541 non-null   int64  \n",
      " 1   Gender           1541 non-null   object \n",
      " 2   Car_owner        1541 non-null   object \n",
      " 3   Property_owner   1541 non-null   object \n",
      " 4   Children         1541 non-null   int64  \n",
      " 5   Annual_income    1541 non-null   float64\n",
      " 6   Type_income      1541 non-null   object \n",
      " 7   Education        1541 non-null   object \n",
      " 8   Marital_status   1541 non-null   object \n",
      " 9   Housing_type     1541 non-null   object \n",
      " 10  Age              1541 non-null   float64\n",
      " 11  Employed_since   1541 non-null   float64\n",
      " 12  Mobile_phone     1541 non-null   int64  \n",
      " 13  Work_phone       1541 non-null   int64  \n",
      " 14  Phone            1541 non-null   int64  \n",
      " 15  Email_id         1541 non-null   int64  \n",
      " 16  Type_occupation  1541 non-null   object \n",
      " 17  Family_members   1541 non-null   int64  \n",
      " 18  label            1541 non-null   int64  \n",
      "dtypes: float64(3), int64(8), object(8)\n",
      "memory usage: 240.8+ KB\n"
     ]
    }
   ],
   "source": [
    "merged_df.info()"
   ]
  },
  {
   "cell_type": "code",
   "execution_count": 40,
   "id": "4cb91bd6",
   "metadata": {},
   "outputs": [
    {
     "data": {
      "text/html": [
       "<div>\n",
       "<style scoped>\n",
       "    .dataframe tbody tr th:only-of-type {\n",
       "        vertical-align: middle;\n",
       "    }\n",
       "\n",
       "    .dataframe tbody tr th {\n",
       "        vertical-align: top;\n",
       "    }\n",
       "\n",
       "    .dataframe thead th {\n",
       "        text-align: right;\n",
       "    }\n",
       "</style>\n",
       "<table border=\"1\" class=\"dataframe\">\n",
       "  <thead>\n",
       "    <tr style=\"text-align: right;\">\n",
       "      <th></th>\n",
       "      <th>Ind_ID</th>\n",
       "      <th>Children</th>\n",
       "      <th>Annual_income</th>\n",
       "      <th>Age</th>\n",
       "      <th>Employed_since</th>\n",
       "      <th>Mobile_phone</th>\n",
       "      <th>Work_phone</th>\n",
       "      <th>Phone</th>\n",
       "      <th>Email_id</th>\n",
       "      <th>Family_members</th>\n",
       "      <th>label</th>\n",
       "    </tr>\n",
       "  </thead>\n",
       "  <tbody>\n",
       "    <tr>\n",
       "      <th>count</th>\n",
       "      <td>1.541000e+03</td>\n",
       "      <td>1541.000000</td>\n",
       "      <td>1.541000e+03</td>\n",
       "      <td>1541.000000</td>\n",
       "      <td>1541.000000</td>\n",
       "      <td>1541.0</td>\n",
       "      <td>1541.000000</td>\n",
       "      <td>1541.000000</td>\n",
       "      <td>1541.000000</td>\n",
       "      <td>1541.000000</td>\n",
       "      <td>1541.000000</td>\n",
       "    </tr>\n",
       "    <tr>\n",
       "      <th>mean</th>\n",
       "      <td>5.078979e+06</td>\n",
       "      <td>0.413368</td>\n",
       "      <td>1.908057e+05</td>\n",
       "      <td>43.974692</td>\n",
       "      <td>6.075276</td>\n",
       "      <td>1.0</td>\n",
       "      <td>0.208306</td>\n",
       "      <td>0.308241</td>\n",
       "      <td>0.092148</td>\n",
       "      <td>2.162232</td>\n",
       "      <td>0.110318</td>\n",
       "    </tr>\n",
       "    <tr>\n",
       "      <th>std</th>\n",
       "      <td>4.167137e+04</td>\n",
       "      <td>0.777811</td>\n",
       "      <td>1.121136e+05</td>\n",
       "      <td>11.517294</td>\n",
       "      <td>6.599256</td>\n",
       "      <td>0.0</td>\n",
       "      <td>0.406229</td>\n",
       "      <td>0.461917</td>\n",
       "      <td>0.289329</td>\n",
       "      <td>0.948492</td>\n",
       "      <td>0.313387</td>\n",
       "    </tr>\n",
       "    <tr>\n",
       "      <th>min</th>\n",
       "      <td>5.008827e+06</td>\n",
       "      <td>0.000000</td>\n",
       "      <td>3.375000e+04</td>\n",
       "      <td>21.000000</td>\n",
       "      <td>0.000000</td>\n",
       "      <td>1.0</td>\n",
       "      <td>0.000000</td>\n",
       "      <td>0.000000</td>\n",
       "      <td>0.000000</td>\n",
       "      <td>1.000000</td>\n",
       "      <td>0.000000</td>\n",
       "    </tr>\n",
       "    <tr>\n",
       "      <th>25%</th>\n",
       "      <td>5.045113e+06</td>\n",
       "      <td>0.000000</td>\n",
       "      <td>1.215000e+05</td>\n",
       "      <td>34.000000</td>\n",
       "      <td>1.000000</td>\n",
       "      <td>1.0</td>\n",
       "      <td>0.000000</td>\n",
       "      <td>0.000000</td>\n",
       "      <td>0.000000</td>\n",
       "      <td>2.000000</td>\n",
       "      <td>0.000000</td>\n",
       "    </tr>\n",
       "    <tr>\n",
       "      <th>50%</th>\n",
       "      <td>5.078924e+06</td>\n",
       "      <td>0.000000</td>\n",
       "      <td>1.710000e+05</td>\n",
       "      <td>43.000000</td>\n",
       "      <td>4.000000</td>\n",
       "      <td>1.0</td>\n",
       "      <td>0.000000</td>\n",
       "      <td>0.000000</td>\n",
       "      <td>0.000000</td>\n",
       "      <td>2.000000</td>\n",
       "      <td>0.000000</td>\n",
       "    </tr>\n",
       "    <tr>\n",
       "      <th>75%</th>\n",
       "      <td>5.115671e+06</td>\n",
       "      <td>1.000000</td>\n",
       "      <td>2.250000e+05</td>\n",
       "      <td>53.000000</td>\n",
       "      <td>9.000000</td>\n",
       "      <td>1.0</td>\n",
       "      <td>0.000000</td>\n",
       "      <td>1.000000</td>\n",
       "      <td>0.000000</td>\n",
       "      <td>3.000000</td>\n",
       "      <td>0.000000</td>\n",
       "    </tr>\n",
       "    <tr>\n",
       "      <th>max</th>\n",
       "      <td>5.150412e+06</td>\n",
       "      <td>14.000000</td>\n",
       "      <td>1.575000e+06</td>\n",
       "      <td>68.000000</td>\n",
       "      <td>41.000000</td>\n",
       "      <td>1.0</td>\n",
       "      <td>1.000000</td>\n",
       "      <td>1.000000</td>\n",
       "      <td>1.000000</td>\n",
       "      <td>15.000000</td>\n",
       "      <td>1.000000</td>\n",
       "    </tr>\n",
       "  </tbody>\n",
       "</table>\n",
       "</div>"
      ],
      "text/plain": [
       "             Ind_ID     Children  Annual_income          Age  Employed_since  \\\n",
       "count  1.541000e+03  1541.000000   1.541000e+03  1541.000000     1541.000000   \n",
       "mean   5.078979e+06     0.413368   1.908057e+05    43.974692        6.075276   \n",
       "std    4.167137e+04     0.777811   1.121136e+05    11.517294        6.599256   \n",
       "min    5.008827e+06     0.000000   3.375000e+04    21.000000        0.000000   \n",
       "25%    5.045113e+06     0.000000   1.215000e+05    34.000000        1.000000   \n",
       "50%    5.078924e+06     0.000000   1.710000e+05    43.000000        4.000000   \n",
       "75%    5.115671e+06     1.000000   2.250000e+05    53.000000        9.000000   \n",
       "max    5.150412e+06    14.000000   1.575000e+06    68.000000       41.000000   \n",
       "\n",
       "       Mobile_phone   Work_phone        Phone     Email_id  Family_members  \\\n",
       "count        1541.0  1541.000000  1541.000000  1541.000000     1541.000000   \n",
       "mean            1.0     0.208306     0.308241     0.092148        2.162232   \n",
       "std             0.0     0.406229     0.461917     0.289329        0.948492   \n",
       "min             1.0     0.000000     0.000000     0.000000        1.000000   \n",
       "25%             1.0     0.000000     0.000000     0.000000        2.000000   \n",
       "50%             1.0     0.000000     0.000000     0.000000        2.000000   \n",
       "75%             1.0     0.000000     1.000000     0.000000        3.000000   \n",
       "max             1.0     1.000000     1.000000     1.000000       15.000000   \n",
       "\n",
       "             label  \n",
       "count  1541.000000  \n",
       "mean      0.110318  \n",
       "std       0.313387  \n",
       "min       0.000000  \n",
       "25%       0.000000  \n",
       "50%       0.000000  \n",
       "75%       0.000000  \n",
       "max       1.000000  "
      ]
     },
     "execution_count": 40,
     "metadata": {},
     "output_type": "execute_result"
    }
   ],
   "source": [
    "merged_df.describe()"
   ]
  },
  {
   "cell_type": "markdown",
   "id": "eb0b7757",
   "metadata": {},
   "source": [
    "#### <font color = 'Yellow'>---->> Here I can Ovserve that two of the total columns in \"merged_df\" showing outliers.But my observation is this is good outlier and removing these from dataset will make hamper in my ultimate goal."
   ]
  },
  {
   "cell_type": "markdown",
   "id": "276cbfe7",
   "metadata": {},
   "source": [
    "#### <font color = 'Orange'>---- Analysing The \"merged_df\" DataFrame Through visualisation ----"
   ]
  },
  {
   "cell_type": "code",
   "execution_count": 41,
   "id": "6a0b83bd",
   "metadata": {},
   "outputs": [
    {
     "data": {
      "text/plain": [
       "<seaborn.axisgrid.FacetGrid at 0x2486287ac50>"
      ]
     },
     "execution_count": 41,
     "metadata": {},
     "output_type": "execute_result"
    },
    {
     "data": {
      "image/png": "[encoded data removed]",
      "text/plain": [
       "<Figure size 500x500 with 1 Axes>"
      ]
     },
     "metadata": {},
     "output_type": "display_data"
    }
   ],
   "source": [
    "sns.displot(merged_df[\"Employed_since\"],kde=True)"
   ]
  },
  {
   "cell_type": "markdown",
   "id": "aba5908c",
   "metadata": {},
   "source": [
    "#### <font color = 'Yellow'>---->> Here it can be possible that someone is employed for 40 years.So we cannot remove the individual from applicant list but yes counts of applicant is decreasing with the increasing employed experience."
   ]
  },
  {
   "cell_type": "code",
   "execution_count": 42,
   "id": "6abd076f",
   "metadata": {},
   "outputs": [
    {
     "data": {
      "text/plain": [
       "<seaborn.axisgrid.FacetGrid at 0x2485e1ca3e0>"
      ]
     },
     "execution_count": 42,
     "metadata": {},
     "output_type": "execute_result"
    },
    {
     "data": {
      "image/png": "[encoded data removed]",
      "text/plain": [
       "<Figure size 500x500 with 1 Axes>"
      ]
     },
     "metadata": {},
     "output_type": "display_data"
    }
   ],
   "source": [
    "sns.displot(merged_df[\"Family_members\"],kde=True)"
   ]
  },
  {
   "cell_type": "markdown",
   "id": "a7c2a5fc",
   "metadata": {},
   "source": [
    "#### <font color = 'Yellow'>---->> Here also it can be possible,a family can have 14 members.Based only on this we cannot say that the individual is not applicable to get a credit card."
   ]
  },
  {
   "cell_type": "code",
   "execution_count": 43,
   "id": "a4cdf068",
   "metadata": {},
   "outputs": [
    {
     "data": {
      "image/png": "[encoded data removed]",
      "text/plain": [
       "<Figure size 640x480 with 1 Axes>"
      ]
     },
     "metadata": {},
     "output_type": "display_data"
    },
    {
     "data": {
      "text/plain": [
       "F    973\n",
       "M    568\n",
       "Name: Gender, dtype: int64"
      ]
     },
     "execution_count": 43,
     "metadata": {},
     "output_type": "execute_result"
    }
   ],
   "source": [
    "#### viewing how many male and female applicants are there ####\n",
    "\n",
    "plt.bar(merged_df[\"Gender\"].unique(),height=merged_df[\"Gender\"].value_counts())\n",
    "plt.title(\"Gender Distributions\")\n",
    "plt.xlabel(\"Gender\")\n",
    "plt.ylabel(\"Count\")\n",
    "plt.show()\n",
    "merged_df[\"Gender\"].value_counts()"
   ]
  },
  {
   "cell_type": "code",
   "execution_count": 44,
   "id": "7ce36ab0",
   "metadata": {},
   "outputs": [
    {
     "data": {
      "image/png": "[encoded data removed]",
      "text/plain": [
       "<Figure size 640x480 with 1 Axes>"
      ]
     },
     "metadata": {},
     "output_type": "display_data"
    },
    {
     "data": {
      "text/plain": [
       "N    922\n",
       "Y    619\n",
       "Name: Car_owner, dtype: int64"
      ]
     },
     "execution_count": 44,
     "metadata": {},
     "output_type": "execute_result"
    }
   ],
   "source": [
    "#### Viewing The Distributions Of Car Owners ####\n",
    "\n",
    "plt.bar(merged_df[\"Car_owner\"].unique(),height=merged_df[\"Car_owner\"].value_counts())\n",
    "plt.title(\"Car Owner Distributions\")\n",
    "plt.xlabel(\"Car_owner\")\n",
    "plt.ylabel(\"Count\")\n",
    "plt.show()\n",
    "merged_df[\"Car_owner\"].value_counts()"
   ]
  },
  {
   "cell_type": "code",
   "execution_count": 45,
   "id": "7918efd6",
   "metadata": {},
   "outputs": [
    {
     "data": {
      "image/png": "[encoded data removed]",
      "text/plain": [
       "<Figure size 640x480 with 1 Axes>"
      ]
     },
     "metadata": {},
     "output_type": "display_data"
    },
    {
     "data": {
      "text/plain": [
       "Y    1007\n",
       "N     534\n",
       "Name: Property_owner, dtype: int64"
      ]
     },
     "execution_count": 45,
     "metadata": {},
     "output_type": "execute_result"
    }
   ],
   "source": [
    "#### viewing Distributions Of Property Owners ####\n",
    "\n",
    "plt.bar(merged_df[\"Property_owner\"].unique(),height=merged_df[\"Property_owner\"].value_counts())\n",
    "plt.title(\"Property Owner Distributions\")\n",
    "plt.xlabel(\"Property_owner\")\n",
    "plt.ylabel(\"Count\")\n",
    "plt.show()\n",
    "merged_df[\"Property_owner\"].value_counts()"
   ]
  },
  {
   "cell_type": "code",
   "execution_count": 46,
   "id": "2156fec0",
   "metadata": {},
   "outputs": [
    {
     "data": {
      "text/plain": [
       "<Axes: xlabel='Gender', ylabel='Annual_income'>"
      ]
     },
     "execution_count": 46,
     "metadata": {},
     "output_type": "execute_result"
    },
    {
     "data": {
      "image/png": "[encoded data removed]",
      "text/plain": [
       "<Figure size 640x480 with 1 Axes>"
      ]
     },
     "metadata": {},
     "output_type": "display_data"
    }
   ],
   "source": [
    "#### Viewing Distribution of Annual Income vs gender ####\n",
    "\n",
    "sns.boxplot(x=\"Gender\",y=\"Annual_income\",data=merged_df)"
   ]
  },
  {
   "cell_type": "markdown",
   "id": "20964160",
   "metadata": {},
   "source": [
    "#### <font color = 'Yellow'>---->> With this we can say females have less annual income than males."
   ]
  },
  {
   "cell_type": "code",
   "execution_count": 47,
   "id": "7db3ab61",
   "metadata": {},
   "outputs": [
    {
     "data": {
      "text/plain": [
       "<Axes: xlabel='Car_owner', ylabel='Annual_income'>"
      ]
     },
     "execution_count": 47,
     "metadata": {},
     "output_type": "execute_result"
    },
    {
     "data": {
      "image/png": "[encoded data removed]",
      "text/plain": [
       "<Figure size 640x480 with 1 Axes>"
      ]
     },
     "metadata": {},
     "output_type": "display_data"
    }
   ],
   "source": [
    "#### viewing Car Owner vs Annual Income Distribution ####\n",
    "\n",
    "sns.boxplot(x=\"Car_owner\",y=\"Annual_income\",data=merged_df)"
   ]
  },
  {
   "cell_type": "markdown",
   "id": "123f33bf",
   "metadata": {},
   "source": [
    "#### <font color = 'Yellow'>---->> With this we can see the maximum car owner have higher annual income."
   ]
  },
  {
   "cell_type": "code",
   "execution_count": 48,
   "id": "1211517f",
   "metadata": {},
   "outputs": [
    {
     "data": {
      "text/plain": [
       "<Axes: xlabel='Property_owner', ylabel='Annual_income'>"
      ]
     },
     "execution_count": 48,
     "metadata": {},
     "output_type": "execute_result"
    },
    {
     "data": {
      "image/png": "[encoded data removed]",
      "text/plain": [
       "<Figure size 640x480 with 1 Axes>"
      ]
     },
     "metadata": {},
     "output_type": "display_data"
    }
   ],
   "source": [
    "#### viewing Property Owner vs Annual Income Distribution ####\n",
    "\n",
    "sns.boxplot(x=\"Property_owner\",y=\"Annual_income\",data=merged_df)"
   ]
  },
  {
   "cell_type": "code",
   "execution_count": 49,
   "id": "933266b6",
   "metadata": {},
   "outputs": [
    {
     "data": {
      "text/plain": [
       "<Axes: xlabel='Gender', ylabel='Age'>"
      ]
     },
     "execution_count": 49,
     "metadata": {},
     "output_type": "execute_result"
    },
    {
     "data": {
      "image/png": "[encoded data removed]",
      "text/plain": [
       "<Figure size 640x480 with 1 Axes>"
      ]
     },
     "metadata": {},
     "output_type": "display_data"
    }
   ],
   "source": [
    "#### viewing Gender vs Age Distribution ####\n",
    "\n",
    "sns.boxplot(x=\"Gender\",y=\"Age\",data=merged_df)"
   ]
  },
  {
   "cell_type": "markdown",
   "id": "0a03e3a8",
   "metadata": {},
   "source": [
    "#### <font color = 'Yellow'>---->> Here we can observe that in female applicants aged individuals are more in numbers than male applicants."
   ]
  },
  {
   "cell_type": "code",
   "execution_count": 50,
   "id": "71fbe351",
   "metadata": {},
   "outputs": [
    {
     "data": {
      "text/plain": [
       "<Axes: xlabel='Gender', ylabel='Employed_since'>"
      ]
     },
     "execution_count": 50,
     "metadata": {},
     "output_type": "execute_result"
    },
    {
     "data": {
      "image/png": "[encoded data removed]",
      "text/plain": [
       "<Figure size 640x480 with 1 Axes>"
      ]
     },
     "metadata": {},
     "output_type": "display_data"
    }
   ],
   "source": [
    "#### viewing wheather Male or Female applicants are having more Employment Rates ####\n",
    "\n",
    "sns.boxplot(x=\"Gender\",y=\"Employed_since\",data=merged_df)"
   ]
  },
  {
   "cell_type": "markdown",
   "id": "45a7f6b9",
   "metadata": {},
   "source": [
    "#### <font color = 'Yellow'>---->> Here we can see Employment Rate is more in female applicants than males."
   ]
  },
  {
   "cell_type": "code",
   "execution_count": 51,
   "id": "db4703dc",
   "metadata": {},
   "outputs": [
    {
     "data": {
      "text/plain": [
       "<Axes: xlabel='Marital_status', ylabel='Annual_income'>"
      ]
     },
     "execution_count": 51,
     "metadata": {},
     "output_type": "execute_result"
    },
    {
     "data": {
      "image/png": "[encoded data removed]",
      "text/plain": [
       "<Figure size 640x480 with 1 Axes>"
      ]
     },
     "metadata": {},
     "output_type": "display_data"
    }
   ],
   "source": [
    "#### Comparing \"Annual_incom\" with \"Marital_status\" ####\n",
    "\n",
    "sns.boxplot(x=\"Marital_status\",y=\"Annual_income\",data=merged_df)"
   ]
  },
  {
   "cell_type": "markdown",
   "id": "40441c38",
   "metadata": {},
   "source": [
    "#### <font color = 'Yellow'>---->> Here we can observe that Annual income is more or less same for all the marital status section except the widow section.In widow section income is little less."
   ]
  },
  {
   "cell_type": "code",
   "execution_count": 52,
   "id": "5cfe4a25",
   "metadata": {},
   "outputs": [
    {
     "data": {
      "text/plain": [
       "<Axes: xlabel='Education', ylabel='Annual_income'>"
      ]
     },
     "execution_count": 52,
     "metadata": {},
     "output_type": "execute_result"
    },
    {
     "data": {
      "image/png": "[encoded data removed]",
      "text/plain": [
       "<Figure size 1000x500 with 1 Axes>"
      ]
     },
     "metadata": {},
     "output_type": "display_data"
    }
   ],
   "source": [
    "#### Comparing \"Annual_incom\" with \"Education\" ####\n",
    "plt.figure(figsize=(10,5))\n",
    "sns.boxplot(x=\"Education\",y=\"Annual_income\",data=merged_df)"
   ]
  },
  {
   "cell_type": "markdown",
   "id": "b6682aed",
   "metadata": {},
   "source": [
    "#### <font color = 'Yellow'>---->> Here we can observe that Annual income is directly dependeble on Education."
   ]
  },
  {
   "cell_type": "code",
   "execution_count": 53,
   "id": "8f80544b",
   "metadata": {},
   "outputs": [
    {
     "data": {
      "text/plain": [
       "<Axes: xlabel='Type_occupation', ylabel='Annual_income'>"
      ]
     },
     "execution_count": 53,
     "metadata": {},
     "output_type": "execute_result"
    },
    {
     "data": {
      "image/png": "[encoded data removed]",
      "text/plain": [
       "<Figure size 2000x800 with 1 Axes>"
      ]
     },
     "metadata": {},
     "output_type": "display_data"
    }
   ],
   "source": [
    "#### Comparing \"Annual_incom\" with \"Type_occupation\" ####\n",
    "plt.figure(figsize=(20,8))\n",
    "sns.boxplot(x=\"Type_occupation\",y=\"Annual_income\",data=merged_df)"
   ]
  },
  {
   "cell_type": "markdown",
   "id": "102a44f5",
   "metadata": {},
   "source": [
    "#### <font color = 'Yellow'>---->> Here We cannot say that Annual income is directly or indirectly proportional to the Occupation type.But we can clearly observe that for managers Annual income rate is high."
   ]
  },
  {
   "cell_type": "code",
   "execution_count": 54,
   "id": "a9a89728",
   "metadata": {},
   "outputs": [
    {
     "data": {
      "text/html": [
       "<div>\n",
       "<style scoped>\n",
       "    .dataframe tbody tr th:only-of-type {\n",
       "        vertical-align: middle;\n",
       "    }\n",
       "\n",
       "    .dataframe tbody tr th {\n",
       "        vertical-align: top;\n",
       "    }\n",
       "\n",
       "    .dataframe thead th {\n",
       "        text-align: right;\n",
       "    }\n",
       "</style>\n",
       "<table border=\"1\" class=\"dataframe\">\n",
       "  <thead>\n",
       "    <tr style=\"text-align: right;\">\n",
       "      <th></th>\n",
       "      <th>Ind_ID</th>\n",
       "      <th>Gender</th>\n",
       "      <th>Car_owner</th>\n",
       "      <th>Property_owner</th>\n",
       "      <th>Children</th>\n",
       "      <th>Annual_income</th>\n",
       "      <th>Type_income</th>\n",
       "      <th>Education</th>\n",
       "      <th>Marital_status</th>\n",
       "      <th>Housing_type</th>\n",
       "      <th>Age</th>\n",
       "      <th>Employed_since</th>\n",
       "      <th>Mobile_phone</th>\n",
       "      <th>Work_phone</th>\n",
       "      <th>Phone</th>\n",
       "      <th>Email_id</th>\n",
       "      <th>Type_occupation</th>\n",
       "      <th>Family_members</th>\n",
       "      <th>label</th>\n",
       "    </tr>\n",
       "  </thead>\n",
       "  <tbody>\n",
       "    <tr>\n",
       "      <th>0</th>\n",
       "      <td>5008827</td>\n",
       "      <td>M</td>\n",
       "      <td>Y</td>\n",
       "      <td>Y</td>\n",
       "      <td>0</td>\n",
       "      <td>180000.00</td>\n",
       "      <td>Pensioner</td>\n",
       "      <td>Higher education</td>\n",
       "      <td>Married</td>\n",
       "      <td>House / apartment</td>\n",
       "      <td>51.0</td>\n",
       "      <td>0.0</td>\n",
       "      <td>1</td>\n",
       "      <td>0</td>\n",
       "      <td>0</td>\n",
       "      <td>0</td>\n",
       "      <td>Other</td>\n",
       "      <td>2</td>\n",
       "      <td>1</td>\n",
       "    </tr>\n",
       "    <tr>\n",
       "      <th>1</th>\n",
       "      <td>5009744</td>\n",
       "      <td>F</td>\n",
       "      <td>Y</td>\n",
       "      <td>N</td>\n",
       "      <td>0</td>\n",
       "      <td>315000.00</td>\n",
       "      <td>Commercial associate</td>\n",
       "      <td>Higher education</td>\n",
       "      <td>Married</td>\n",
       "      <td>House / apartment</td>\n",
       "      <td>37.0</td>\n",
       "      <td>2.0</td>\n",
       "      <td>1</td>\n",
       "      <td>1</td>\n",
       "      <td>1</td>\n",
       "      <td>0</td>\n",
       "      <td>Other</td>\n",
       "      <td>2</td>\n",
       "      <td>1</td>\n",
       "    </tr>\n",
       "    <tr>\n",
       "      <th>2</th>\n",
       "      <td>5009746</td>\n",
       "      <td>F</td>\n",
       "      <td>Y</td>\n",
       "      <td>N</td>\n",
       "      <td>0</td>\n",
       "      <td>315000.00</td>\n",
       "      <td>Commercial associate</td>\n",
       "      <td>Higher education</td>\n",
       "      <td>Married</td>\n",
       "      <td>House / apartment</td>\n",
       "      <td>44.0</td>\n",
       "      <td>2.0</td>\n",
       "      <td>1</td>\n",
       "      <td>1</td>\n",
       "      <td>1</td>\n",
       "      <td>0</td>\n",
       "      <td>Other</td>\n",
       "      <td>2</td>\n",
       "      <td>1</td>\n",
       "    </tr>\n",
       "    <tr>\n",
       "      <th>3</th>\n",
       "      <td>5009749</td>\n",
       "      <td>F</td>\n",
       "      <td>Y</td>\n",
       "      <td>N</td>\n",
       "      <td>0</td>\n",
       "      <td>191399.33</td>\n",
       "      <td>Commercial associate</td>\n",
       "      <td>Higher education</td>\n",
       "      <td>Married</td>\n",
       "      <td>House / apartment</td>\n",
       "      <td>37.0</td>\n",
       "      <td>2.0</td>\n",
       "      <td>1</td>\n",
       "      <td>1</td>\n",
       "      <td>1</td>\n",
       "      <td>0</td>\n",
       "      <td>Other</td>\n",
       "      <td>2</td>\n",
       "      <td>1</td>\n",
       "    </tr>\n",
       "    <tr>\n",
       "      <th>4</th>\n",
       "      <td>5009752</td>\n",
       "      <td>F</td>\n",
       "      <td>Y</td>\n",
       "      <td>N</td>\n",
       "      <td>0</td>\n",
       "      <td>315000.00</td>\n",
       "      <td>Commercial associate</td>\n",
       "      <td>Higher education</td>\n",
       "      <td>Married</td>\n",
       "      <td>House / apartment</td>\n",
       "      <td>37.0</td>\n",
       "      <td>2.0</td>\n",
       "      <td>1</td>\n",
       "      <td>1</td>\n",
       "      <td>1</td>\n",
       "      <td>0</td>\n",
       "      <td>Other</td>\n",
       "      <td>2</td>\n",
       "      <td>1</td>\n",
       "    </tr>\n",
       "  </tbody>\n",
       "</table>\n",
       "</div>"
      ],
      "text/plain": [
       "    Ind_ID Gender Car_owner Property_owner  Children  Annual_income  \\\n",
       "0  5008827      M         Y              Y         0      180000.00   \n",
       "1  5009744      F         Y              N         0      315000.00   \n",
       "2  5009746      F         Y              N         0      315000.00   \n",
       "3  5009749      F         Y              N         0      191399.33   \n",
       "4  5009752      F         Y              N         0      315000.00   \n",
       "\n",
       "            Type_income         Education Marital_status       Housing_type  \\\n",
       "0             Pensioner  Higher education        Married  House / apartment   \n",
       "1  Commercial associate  Higher education        Married  House / apartment   \n",
       "2  Commercial associate  Higher education        Married  House / apartment   \n",
       "3  Commercial associate  Higher education        Married  House / apartment   \n",
       "4  Commercial associate  Higher education        Married  House / apartment   \n",
       "\n",
       "    Age  Employed_since  Mobile_phone  Work_phone  Phone  Email_id  \\\n",
       "0  51.0             0.0             1           0      0         0   \n",
       "1  37.0             2.0             1           1      1         0   \n",
       "2  44.0             2.0             1           1      1         0   \n",
       "3  37.0             2.0             1           1      1         0   \n",
       "4  37.0             2.0             1           1      1         0   \n",
       "\n",
       "  Type_occupation  Family_members  label  \n",
       "0           Other               2      1  \n",
       "1           Other               2      1  \n",
       "2           Other               2      1  \n",
       "3           Other               2      1  \n",
       "4           Other               2      1  "
      ]
     },
     "execution_count": 54,
     "metadata": {},
     "output_type": "execute_result"
    }
   ],
   "source": [
    "merged_df.head()"
   ]
  },
  {
   "cell_type": "markdown",
   "id": "0efd9d21",
   "metadata": {},
   "source": [
    "#### <font color = 'Orange'>---- Staistical Analyze of \"merged_df\" DataFrame ----"
   ]
  },
  {
   "cell_type": "markdown",
   "id": "ff9c0743",
   "metadata": {},
   "source": [
    "#### <font color = 'Orange'>---- Correlation Testing ---- "
   ]
  },
  {
   "cell_type": "code",
   "execution_count": 55,
   "id": "9f13d4ab",
   "metadata": {},
   "outputs": [
    {
     "data": {
      "text/html": [
       "<div>\n",
       "<style scoped>\n",
       "    .dataframe tbody tr th:only-of-type {\n",
       "        vertical-align: middle;\n",
       "    }\n",
       "\n",
       "    .dataframe tbody tr th {\n",
       "        vertical-align: top;\n",
       "    }\n",
       "\n",
       "    .dataframe thead th {\n",
       "        text-align: right;\n",
       "    }\n",
       "</style>\n",
       "<table border=\"1\" class=\"dataframe\">\n",
       "  <thead>\n",
       "    <tr style=\"text-align: right;\">\n",
       "      <th></th>\n",
       "      <th>Ind_ID</th>\n",
       "      <th>Children</th>\n",
       "      <th>Annual_income</th>\n",
       "      <th>Age</th>\n",
       "      <th>Employed_since</th>\n",
       "      <th>Mobile_phone</th>\n",
       "      <th>Work_phone</th>\n",
       "      <th>Phone</th>\n",
       "      <th>Email_id</th>\n",
       "      <th>Family_members</th>\n",
       "      <th>label</th>\n",
       "    </tr>\n",
       "  </thead>\n",
       "  <tbody>\n",
       "    <tr>\n",
       "      <th>Ind_ID</th>\n",
       "      <td>1.000000</td>\n",
       "      <td>0.026155</td>\n",
       "      <td>-0.011117</td>\n",
       "      <td>-0.023564</td>\n",
       "      <td>0.025145</td>\n",
       "      <td>NaN</td>\n",
       "      <td>0.088004</td>\n",
       "      <td>0.007702</td>\n",
       "      <td>-0.044812</td>\n",
       "      <td>0.007507</td>\n",
       "      <td>0.016660</td>\n",
       "    </tr>\n",
       "    <tr>\n",
       "      <th>Children</th>\n",
       "      <td>0.026155</td>\n",
       "      <td>1.000000</td>\n",
       "      <td>0.064120</td>\n",
       "      <td>-0.336771</td>\n",
       "      <td>0.156326</td>\n",
       "      <td>NaN</td>\n",
       "      <td>0.040402</td>\n",
       "      <td>0.014571</td>\n",
       "      <td>0.055700</td>\n",
       "      <td>0.814514</td>\n",
       "      <td>-0.014037</td>\n",
       "    </tr>\n",
       "    <tr>\n",
       "      <th>Annual_income</th>\n",
       "      <td>-0.011117</td>\n",
       "      <td>0.064120</td>\n",
       "      <td>1.000000</td>\n",
       "      <td>-0.106760</td>\n",
       "      <td>0.165777</td>\n",
       "      <td>NaN</td>\n",
       "      <td>-0.069633</td>\n",
       "      <td>-0.020205</td>\n",
       "      <td>0.116949</td>\n",
       "      <td>0.039158</td>\n",
       "      <td>-0.000154</td>\n",
       "    </tr>\n",
       "    <tr>\n",
       "      <th>Age</th>\n",
       "      <td>-0.023564</td>\n",
       "      <td>-0.336771</td>\n",
       "      <td>-0.106760</td>\n",
       "      <td>1.000000</td>\n",
       "      <td>-0.195991</td>\n",
       "      <td>NaN</td>\n",
       "      <td>-0.164662</td>\n",
       "      <td>0.036688</td>\n",
       "      <td>-0.161943</td>\n",
       "      <td>-0.276376</td>\n",
       "      <td>0.048210</td>\n",
       "    </tr>\n",
       "    <tr>\n",
       "      <th>Employed_since</th>\n",
       "      <td>0.025145</td>\n",
       "      <td>0.156326</td>\n",
       "      <td>0.165777</td>\n",
       "      <td>-0.195991</td>\n",
       "      <td>1.000000</td>\n",
       "      <td>NaN</td>\n",
       "      <td>0.159235</td>\n",
       "      <td>0.008315</td>\n",
       "      <td>-0.004001</td>\n",
       "      <td>0.182474</td>\n",
       "      <td>-0.100412</td>\n",
       "    </tr>\n",
       "    <tr>\n",
       "      <th>Mobile_phone</th>\n",
       "      <td>NaN</td>\n",
       "      <td>NaN</td>\n",
       "      <td>NaN</td>\n",
       "      <td>NaN</td>\n",
       "      <td>NaN</td>\n",
       "      <td>NaN</td>\n",
       "      <td>NaN</td>\n",
       "      <td>NaN</td>\n",
       "      <td>NaN</td>\n",
       "      <td>NaN</td>\n",
       "      <td>NaN</td>\n",
       "    </tr>\n",
       "    <tr>\n",
       "      <th>Work_phone</th>\n",
       "      <td>0.088004</td>\n",
       "      <td>0.040402</td>\n",
       "      <td>-0.069633</td>\n",
       "      <td>-0.164662</td>\n",
       "      <td>0.159235</td>\n",
       "      <td>NaN</td>\n",
       "      <td>1.000000</td>\n",
       "      <td>0.353164</td>\n",
       "      <td>-0.008726</td>\n",
       "      <td>0.086653</td>\n",
       "      <td>-0.007203</td>\n",
       "    </tr>\n",
       "    <tr>\n",
       "      <th>Phone</th>\n",
       "      <td>0.007702</td>\n",
       "      <td>0.014571</td>\n",
       "      <td>-0.020205</td>\n",
       "      <td>0.036688</td>\n",
       "      <td>0.008315</td>\n",
       "      <td>NaN</td>\n",
       "      <td>0.353164</td>\n",
       "      <td>1.000000</td>\n",
       "      <td>0.015692</td>\n",
       "      <td>0.019702</td>\n",
       "      <td>-0.001799</td>\n",
       "    </tr>\n",
       "    <tr>\n",
       "      <th>Email_id</th>\n",
       "      <td>-0.044812</td>\n",
       "      <td>0.055700</td>\n",
       "      <td>0.116949</td>\n",
       "      <td>-0.161943</td>\n",
       "      <td>-0.004001</td>\n",
       "      <td>NaN</td>\n",
       "      <td>-0.008726</td>\n",
       "      <td>0.015692</td>\n",
       "      <td>1.000000</td>\n",
       "      <td>0.054068</td>\n",
       "      <td>0.009560</td>\n",
       "    </tr>\n",
       "    <tr>\n",
       "      <th>Family_members</th>\n",
       "      <td>0.007507</td>\n",
       "      <td>0.814514</td>\n",
       "      <td>0.039158</td>\n",
       "      <td>-0.276376</td>\n",
       "      <td>0.182474</td>\n",
       "      <td>NaN</td>\n",
       "      <td>0.086653</td>\n",
       "      <td>0.019702</td>\n",
       "      <td>0.054068</td>\n",
       "      <td>1.000000</td>\n",
       "      <td>-0.025891</td>\n",
       "    </tr>\n",
       "    <tr>\n",
       "      <th>label</th>\n",
       "      <td>0.016660</td>\n",
       "      <td>-0.014037</td>\n",
       "      <td>-0.000154</td>\n",
       "      <td>0.048210</td>\n",
       "      <td>-0.100412</td>\n",
       "      <td>NaN</td>\n",
       "      <td>-0.007203</td>\n",
       "      <td>-0.001799</td>\n",
       "      <td>0.009560</td>\n",
       "      <td>-0.025891</td>\n",
       "      <td>1.000000</td>\n",
       "    </tr>\n",
       "  </tbody>\n",
       "</table>\n",
       "</div>"
      ],
      "text/plain": [
       "                  Ind_ID  Children  Annual_income       Age  Employed_since  \\\n",
       "Ind_ID          1.000000  0.026155      -0.011117 -0.023564        0.025145   \n",
       "Children        0.026155  1.000000       0.064120 -0.336771        0.156326   \n",
       "Annual_income  -0.011117  0.064120       1.000000 -0.106760        0.165777   \n",
       "Age            -0.023564 -0.336771      -0.106760  1.000000       -0.195991   \n",
       "Employed_since  0.025145  0.156326       0.165777 -0.195991        1.000000   \n",
       "Mobile_phone         NaN       NaN            NaN       NaN             NaN   \n",
       "Work_phone      0.088004  0.040402      -0.069633 -0.164662        0.159235   \n",
       "Phone           0.007702  0.014571      -0.020205  0.036688        0.008315   \n",
       "Email_id       -0.044812  0.055700       0.116949 -0.161943       -0.004001   \n",
       "Family_members  0.007507  0.814514       0.039158 -0.276376        0.182474   \n",
       "label           0.016660 -0.014037      -0.000154  0.048210       -0.100412   \n",
       "\n",
       "                Mobile_phone  Work_phone     Phone  Email_id  Family_members  \\\n",
       "Ind_ID                   NaN    0.088004  0.007702 -0.044812        0.007507   \n",
       "Children                 NaN    0.040402  0.014571  0.055700        0.814514   \n",
       "Annual_income            NaN   -0.069633 -0.020205  0.116949        0.039158   \n",
       "Age                      NaN   -0.164662  0.036688 -0.161943       -0.276376   \n",
       "Employed_since           NaN    0.159235  0.008315 -0.004001        0.182474   \n",
       "Mobile_phone             NaN         NaN       NaN       NaN             NaN   \n",
       "Work_phone               NaN    1.000000  0.353164 -0.008726        0.086653   \n",
       "Phone                    NaN    0.353164  1.000000  0.015692        0.019702   \n",
       "Email_id                 NaN   -0.008726  0.015692  1.000000        0.054068   \n",
       "Family_members           NaN    0.086653  0.019702  0.054068        1.000000   \n",
       "label                    NaN   -0.007203 -0.001799  0.009560       -0.025891   \n",
       "\n",
       "                   label  \n",
       "Ind_ID          0.016660  \n",
       "Children       -0.014037  \n",
       "Annual_income  -0.000154  \n",
       "Age             0.048210  \n",
       "Employed_since -0.100412  \n",
       "Mobile_phone         NaN  \n",
       "Work_phone     -0.007203  \n",
       "Phone          -0.001799  \n",
       "Email_id        0.009560  \n",
       "Family_members -0.025891  \n",
       "label           1.000000  "
      ]
     },
     "execution_count": 55,
     "metadata": {},
     "output_type": "execute_result"
    }
   ],
   "source": [
    "#### Checking Correlation status between All Variables with Spearman Correlation Function ####\n",
    "\n",
    "merged_df.corr(method=\"spearman\")"
   ]
  },
  {
   "cell_type": "code",
   "execution_count": 56,
   "id": "19c45073",
   "metadata": {},
   "outputs": [
    {
     "data": {
      "text/plain": [
       "<Axes: >"
      ]
     },
     "execution_count": 56,
     "metadata": {},
     "output_type": "execute_result"
    },
    {
     "data": {
      "image/png": "[encoded data removed]",
      "text/plain": [
       "<Figure size 1500x600 with 2 Axes>"
      ]
     },
     "metadata": {},
     "output_type": "display_data"
    }
   ],
   "source": [
    "##### Checking Correlation through Visualization ####\n",
    "\n",
    "plt.figure(figsize=(15,6))\n",
    "sns.heatmap(merged_df.corr(method=\"spearman\"),cmap=\"YlGnBu\",annot=True)"
   ]
  },
  {
   "cell_type": "markdown",
   "id": "59e01ab5",
   "metadata": {},
   "source": [
    "#### <font color = 'Yellow'>---->> Here with this correlation tests we can observe various correlation status between the variables like positively correlated and negetively correlated variables."
   ]
  },
  {
   "cell_type": "markdown",
   "id": "2ef48a5d",
   "metadata": {},
   "source": [
    "#### <font color = 'Orange'>---- Dropping Useless Columns ----"
   ]
  },
  {
   "cell_type": "code",
   "execution_count": 57,
   "id": "e4b10f43",
   "metadata": {},
   "outputs": [],
   "source": [
    "#### From Above Analyzation I Have Found Some Features Are Useless in Dataset for ML Model Prepearing ####\n",
    "#### Here dropping Those Columns ####\n",
    "\n",
    "final_df=merged_df.drop(columns=[\"Mobile_phone\",\"Phone\",\"Work_phone\",\"Email_id\"])"
   ]
  },
  {
   "cell_type": "code",
   "execution_count": 59,
   "id": "b4f877b1",
   "metadata": {
    "scrolled": true
   },
   "outputs": [
    {
     "data": {
      "text/html": [
       "<div>\n",
       "<style scoped>\n",
       "    .dataframe tbody tr th:only-of-type {\n",
       "        vertical-align: middle;\n",
       "    }\n",
       "\n",
       "    .dataframe tbody tr th {\n",
       "        vertical-align: top;\n",
       "    }\n",
       "\n",
       "    .dataframe thead th {\n",
       "        text-align: right;\n",
       "    }\n",
       "</style>\n",
       "<table border=\"1\" class=\"dataframe\">\n",
       "  <thead>\n",
       "    <tr style=\"text-align: right;\">\n",
       "      <th></th>\n",
       "      <th>Ind_ID</th>\n",
       "      <th>Gender</th>\n",
       "      <th>Car_owner</th>\n",
       "      <th>Property_owner</th>\n",
       "      <th>Children</th>\n",
       "      <th>Annual_income</th>\n",
       "      <th>Type_income</th>\n",
       "      <th>Education</th>\n",
       "      <th>Marital_status</th>\n",
       "      <th>Housing_type</th>\n",
       "      <th>Age</th>\n",
       "      <th>Employed_since</th>\n",
       "      <th>Type_occupation</th>\n",
       "      <th>Family_members</th>\n",
       "      <th>label</th>\n",
       "    </tr>\n",
       "  </thead>\n",
       "  <tbody>\n",
       "    <tr>\n",
       "      <th>0</th>\n",
       "      <td>5008827</td>\n",
       "      <td>M</td>\n",
       "      <td>Y</td>\n",
       "      <td>Y</td>\n",
       "      <td>0</td>\n",
       "      <td>180000.00</td>\n",
       "      <td>Pensioner</td>\n",
       "      <td>Higher education</td>\n",
       "      <td>Married</td>\n",
       "      <td>House / apartment</td>\n",
       "      <td>51.0</td>\n",
       "      <td>0.0</td>\n",
       "      <td>Other</td>\n",
       "      <td>2</td>\n",
       "      <td>1</td>\n",
       "    </tr>\n",
       "    <tr>\n",
       "      <th>1</th>\n",
       "      <td>5009744</td>\n",
       "      <td>F</td>\n",
       "      <td>Y</td>\n",
       "      <td>N</td>\n",
       "      <td>0</td>\n",
       "      <td>315000.00</td>\n",
       "      <td>Commercial associate</td>\n",
       "      <td>Higher education</td>\n",
       "      <td>Married</td>\n",
       "      <td>House / apartment</td>\n",
       "      <td>37.0</td>\n",
       "      <td>2.0</td>\n",
       "      <td>Other</td>\n",
       "      <td>2</td>\n",
       "      <td>1</td>\n",
       "    </tr>\n",
       "    <tr>\n",
       "      <th>2</th>\n",
       "      <td>5009746</td>\n",
       "      <td>F</td>\n",
       "      <td>Y</td>\n",
       "      <td>N</td>\n",
       "      <td>0</td>\n",
       "      <td>315000.00</td>\n",
       "      <td>Commercial associate</td>\n",
       "      <td>Higher education</td>\n",
       "      <td>Married</td>\n",
       "      <td>House / apartment</td>\n",
       "      <td>44.0</td>\n",
       "      <td>2.0</td>\n",
       "      <td>Other</td>\n",
       "      <td>2</td>\n",
       "      <td>1</td>\n",
       "    </tr>\n",
       "    <tr>\n",
       "      <th>3</th>\n",
       "      <td>5009749</td>\n",
       "      <td>F</td>\n",
       "      <td>Y</td>\n",
       "      <td>N</td>\n",
       "      <td>0</td>\n",
       "      <td>191399.33</td>\n",
       "      <td>Commercial associate</td>\n",
       "      <td>Higher education</td>\n",
       "      <td>Married</td>\n",
       "      <td>House / apartment</td>\n",
       "      <td>37.0</td>\n",
       "      <td>2.0</td>\n",
       "      <td>Other</td>\n",
       "      <td>2</td>\n",
       "      <td>1</td>\n",
       "    </tr>\n",
       "    <tr>\n",
       "      <th>4</th>\n",
       "      <td>5009752</td>\n",
       "      <td>F</td>\n",
       "      <td>Y</td>\n",
       "      <td>N</td>\n",
       "      <td>0</td>\n",
       "      <td>315000.00</td>\n",
       "      <td>Commercial associate</td>\n",
       "      <td>Higher education</td>\n",
       "      <td>Married</td>\n",
       "      <td>House / apartment</td>\n",
       "      <td>37.0</td>\n",
       "      <td>2.0</td>\n",
       "      <td>Other</td>\n",
       "      <td>2</td>\n",
       "      <td>1</td>\n",
       "    </tr>\n",
       "    <tr>\n",
       "      <th>...</th>\n",
       "      <td>...</td>\n",
       "      <td>...</td>\n",
       "      <td>...</td>\n",
       "      <td>...</td>\n",
       "      <td>...</td>\n",
       "      <td>...</td>\n",
       "      <td>...</td>\n",
       "      <td>...</td>\n",
       "      <td>...</td>\n",
       "      <td>...</td>\n",
       "      <td>...</td>\n",
       "      <td>...</td>\n",
       "      <td>...</td>\n",
       "      <td>...</td>\n",
       "      <td>...</td>\n",
       "    </tr>\n",
       "    <tr>\n",
       "      <th>1536</th>\n",
       "      <td>5028645</td>\n",
       "      <td>F</td>\n",
       "      <td>N</td>\n",
       "      <td>Y</td>\n",
       "      <td>0</td>\n",
       "      <td>191399.33</td>\n",
       "      <td>Commercial associate</td>\n",
       "      <td>Higher education</td>\n",
       "      <td>Married</td>\n",
       "      <td>House / apartment</td>\n",
       "      <td>33.0</td>\n",
       "      <td>6.0</td>\n",
       "      <td>Managers</td>\n",
       "      <td>2</td>\n",
       "      <td>0</td>\n",
       "    </tr>\n",
       "    <tr>\n",
       "      <th>1537</th>\n",
       "      <td>5023655</td>\n",
       "      <td>F</td>\n",
       "      <td>N</td>\n",
       "      <td>N</td>\n",
       "      <td>0</td>\n",
       "      <td>225000.00</td>\n",
       "      <td>Commercial associate</td>\n",
       "      <td>Incomplete higher</td>\n",
       "      <td>Not married</td>\n",
       "      <td>House / apartment</td>\n",
       "      <td>28.0</td>\n",
       "      <td>3.0</td>\n",
       "      <td>Accountants</td>\n",
       "      <td>1</td>\n",
       "      <td>0</td>\n",
       "    </tr>\n",
       "    <tr>\n",
       "      <th>1538</th>\n",
       "      <td>5115992</td>\n",
       "      <td>M</td>\n",
       "      <td>Y</td>\n",
       "      <td>Y</td>\n",
       "      <td>2</td>\n",
       "      <td>180000.00</td>\n",
       "      <td>Working</td>\n",
       "      <td>Higher education</td>\n",
       "      <td>Married</td>\n",
       "      <td>House / apartment</td>\n",
       "      <td>36.0</td>\n",
       "      <td>7.0</td>\n",
       "      <td>Managers</td>\n",
       "      <td>4</td>\n",
       "      <td>0</td>\n",
       "    </tr>\n",
       "    <tr>\n",
       "      <th>1539</th>\n",
       "      <td>5118219</td>\n",
       "      <td>M</td>\n",
       "      <td>Y</td>\n",
       "      <td>N</td>\n",
       "      <td>0</td>\n",
       "      <td>270000.00</td>\n",
       "      <td>Working</td>\n",
       "      <td>Secondary</td>\n",
       "      <td>Civil marriage</td>\n",
       "      <td>House / apartment</td>\n",
       "      <td>42.0</td>\n",
       "      <td>2.0</td>\n",
       "      <td>Drivers</td>\n",
       "      <td>2</td>\n",
       "      <td>0</td>\n",
       "    </tr>\n",
       "    <tr>\n",
       "      <th>1540</th>\n",
       "      <td>5053790</td>\n",
       "      <td>F</td>\n",
       "      <td>Y</td>\n",
       "      <td>Y</td>\n",
       "      <td>0</td>\n",
       "      <td>225000.00</td>\n",
       "      <td>Working</td>\n",
       "      <td>Higher education</td>\n",
       "      <td>Married</td>\n",
       "      <td>House / apartment</td>\n",
       "      <td>45.0</td>\n",
       "      <td>8.0</td>\n",
       "      <td>Other</td>\n",
       "      <td>2</td>\n",
       "      <td>0</td>\n",
       "    </tr>\n",
       "  </tbody>\n",
       "</table>\n",
       "<p>1541 rows × 15 columns</p>\n",
       "</div>"
      ],
      "text/plain": [
       "       Ind_ID Gender Car_owner Property_owner  Children  Annual_income  \\\n",
       "0     5008827      M         Y              Y         0      180000.00   \n",
       "1     5009744      F         Y              N         0      315000.00   \n",
       "2     5009746      F         Y              N         0      315000.00   \n",
       "3     5009749      F         Y              N         0      191399.33   \n",
       "4     5009752      F         Y              N         0      315000.00   \n",
       "...       ...    ...       ...            ...       ...            ...   \n",
       "1536  5028645      F         N              Y         0      191399.33   \n",
       "1537  5023655      F         N              N         0      225000.00   \n",
       "1538  5115992      M         Y              Y         2      180000.00   \n",
       "1539  5118219      M         Y              N         0      270000.00   \n",
       "1540  5053790      F         Y              Y         0      225000.00   \n",
       "\n",
       "               Type_income          Education  Marital_status  \\\n",
       "0                Pensioner   Higher education         Married   \n",
       "1     Commercial associate   Higher education         Married   \n",
       "2     Commercial associate   Higher education         Married   \n",
       "3     Commercial associate   Higher education         Married   \n",
       "4     Commercial associate   Higher education         Married   \n",
       "...                    ...                ...             ...   \n",
       "1536  Commercial associate   Higher education         Married   \n",
       "1537  Commercial associate  Incomplete higher     Not married   \n",
       "1538               Working   Higher education         Married   \n",
       "1539               Working          Secondary  Civil marriage   \n",
       "1540               Working   Higher education         Married   \n",
       "\n",
       "           Housing_type   Age  Employed_since Type_occupation  Family_members  \\\n",
       "0     House / apartment  51.0             0.0           Other               2   \n",
       "1     House / apartment  37.0             2.0           Other               2   \n",
       "2     House / apartment  44.0             2.0           Other               2   \n",
       "3     House / apartment  37.0             2.0           Other               2   \n",
       "4     House / apartment  37.0             2.0           Other               2   \n",
       "...                 ...   ...             ...             ...             ...   \n",
       "1536  House / apartment  33.0             6.0        Managers               2   \n",
       "1537  House / apartment  28.0             3.0     Accountants               1   \n",
       "1538  House / apartment  36.0             7.0        Managers               4   \n",
       "1539  House / apartment  42.0             2.0         Drivers               2   \n",
       "1540  House / apartment  45.0             8.0           Other               2   \n",
       "\n",
       "      label  \n",
       "0         1  \n",
       "1         1  \n",
       "2         1  \n",
       "3         1  \n",
       "4         1  \n",
       "...     ...  \n",
       "1536      0  \n",
       "1537      0  \n",
       "1538      0  \n",
       "1539      0  \n",
       "1540      0  \n",
       "\n",
       "[1541 rows x 15 columns]"
      ]
     },
     "execution_count": 59,
     "metadata": {},
     "output_type": "execute_result"
    }
   ],
   "source": [
    "final_df.to_csv(\"master_dataframe.csv\")\n",
    "final_df"
   ]
  },
  {
   "cell_type": "markdown",
   "id": "c523c911",
   "metadata": {},
   "source": [
    "### -----Prepearing DataSet for ML-----"
   ]
  },
  {
   "cell_type": "markdown",
   "id": "f792ec27",
   "metadata": {},
   "source": [
    "#### <font color = 'Orange'>----- Feature Encoding -----"
   ]
  },
  {
   "cell_type": "markdown",
   "id": "2b18d8fd",
   "metadata": {},
   "source": [
    "#### <font color = 'White'> Converting Categorical Columns into numerical to Apply ML Algorithms in The DataFrame"
   ]
  },
  {
   "cell_type": "code",
   "execution_count": 24,
   "id": "2780714d",
   "metadata": {},
   "outputs": [
    {
     "data": {
      "text/html": [
       "<div>\n",
       "<style scoped>\n",
       "    .dataframe tbody tr th:only-of-type {\n",
       "        vertical-align: middle;\n",
       "    }\n",
       "\n",
       "    .dataframe tbody tr th {\n",
       "        vertical-align: top;\n",
       "    }\n",
       "\n",
       "    .dataframe thead th {\n",
       "        text-align: right;\n",
       "    }\n",
       "</style>\n",
       "<table border=\"1\" class=\"dataframe\">\n",
       "  <thead>\n",
       "    <tr style=\"text-align: right;\">\n",
       "      <th></th>\n",
       "      <th>Unnamed: 0</th>\n",
       "      <th>Ind_ID</th>\n",
       "      <th>Gender</th>\n",
       "      <th>Car_owner</th>\n",
       "      <th>Property_owner</th>\n",
       "      <th>Children</th>\n",
       "      <th>Annual_income</th>\n",
       "      <th>Type_income</th>\n",
       "      <th>Education</th>\n",
       "      <th>Marital_status</th>\n",
       "      <th>Housing_type</th>\n",
       "      <th>Age</th>\n",
       "      <th>Employed_since</th>\n",
       "      <th>Type_occupation</th>\n",
       "      <th>Family_members</th>\n",
       "      <th>label</th>\n",
       "    </tr>\n",
       "  </thead>\n",
       "  <tbody>\n",
       "    <tr>\n",
       "      <th>0</th>\n",
       "      <td>0</td>\n",
       "      <td>5008827</td>\n",
       "      <td>M</td>\n",
       "      <td>Y</td>\n",
       "      <td>Y</td>\n",
       "      <td>0</td>\n",
       "      <td>180000.00</td>\n",
       "      <td>Pensioner</td>\n",
       "      <td>Higher education</td>\n",
       "      <td>Married</td>\n",
       "      <td>House / apartment</td>\n",
       "      <td>51.0</td>\n",
       "      <td>0.0</td>\n",
       "      <td>Other</td>\n",
       "      <td>2</td>\n",
       "      <td>1</td>\n",
       "    </tr>\n",
       "    <tr>\n",
       "      <th>1</th>\n",
       "      <td>1</td>\n",
       "      <td>5009744</td>\n",
       "      <td>F</td>\n",
       "      <td>Y</td>\n",
       "      <td>N</td>\n",
       "      <td>0</td>\n",
       "      <td>315000.00</td>\n",
       "      <td>Commercial associate</td>\n",
       "      <td>Higher education</td>\n",
       "      <td>Married</td>\n",
       "      <td>House / apartment</td>\n",
       "      <td>37.0</td>\n",
       "      <td>2.0</td>\n",
       "      <td>Other</td>\n",
       "      <td>2</td>\n",
       "      <td>1</td>\n",
       "    </tr>\n",
       "    <tr>\n",
       "      <th>2</th>\n",
       "      <td>2</td>\n",
       "      <td>5009746</td>\n",
       "      <td>F</td>\n",
       "      <td>Y</td>\n",
       "      <td>N</td>\n",
       "      <td>0</td>\n",
       "      <td>315000.00</td>\n",
       "      <td>Commercial associate</td>\n",
       "      <td>Higher education</td>\n",
       "      <td>Married</td>\n",
       "      <td>House / apartment</td>\n",
       "      <td>44.0</td>\n",
       "      <td>2.0</td>\n",
       "      <td>Other</td>\n",
       "      <td>2</td>\n",
       "      <td>1</td>\n",
       "    </tr>\n",
       "    <tr>\n",
       "      <th>3</th>\n",
       "      <td>3</td>\n",
       "      <td>5009749</td>\n",
       "      <td>F</td>\n",
       "      <td>Y</td>\n",
       "      <td>N</td>\n",
       "      <td>0</td>\n",
       "      <td>191399.33</td>\n",
       "      <td>Commercial associate</td>\n",
       "      <td>Higher education</td>\n",
       "      <td>Married</td>\n",
       "      <td>House / apartment</td>\n",
       "      <td>37.0</td>\n",
       "      <td>2.0</td>\n",
       "      <td>Other</td>\n",
       "      <td>2</td>\n",
       "      <td>1</td>\n",
       "    </tr>\n",
       "    <tr>\n",
       "      <th>4</th>\n",
       "      <td>4</td>\n",
       "      <td>5009752</td>\n",
       "      <td>F</td>\n",
       "      <td>Y</td>\n",
       "      <td>N</td>\n",
       "      <td>0</td>\n",
       "      <td>315000.00</td>\n",
       "      <td>Commercial associate</td>\n",
       "      <td>Higher education</td>\n",
       "      <td>Married</td>\n",
       "      <td>House / apartment</td>\n",
       "      <td>37.0</td>\n",
       "      <td>2.0</td>\n",
       "      <td>Other</td>\n",
       "      <td>2</td>\n",
       "      <td>1</td>\n",
       "    </tr>\n",
       "  </tbody>\n",
       "</table>\n",
       "</div>"
      ],
      "text/plain": [
       "   Unnamed: 0   Ind_ID Gender Car_owner Property_owner  Children  \\\n",
       "0           0  5008827      M         Y              Y         0   \n",
       "1           1  5009744      F         Y              N         0   \n",
       "2           2  5009746      F         Y              N         0   \n",
       "3           3  5009749      F         Y              N         0   \n",
       "4           4  5009752      F         Y              N         0   \n",
       "\n",
       "   Annual_income           Type_income         Education Marital_status  \\\n",
       "0      180000.00             Pensioner  Higher education        Married   \n",
       "1      315000.00  Commercial associate  Higher education        Married   \n",
       "2      315000.00  Commercial associate  Higher education        Married   \n",
       "3      191399.33  Commercial associate  Higher education        Married   \n",
       "4      315000.00  Commercial associate  Higher education        Married   \n",
       "\n",
       "        Housing_type   Age  Employed_since Type_occupation  Family_members  \\\n",
       "0  House / apartment  51.0             0.0           Other               2   \n",
       "1  House / apartment  37.0             2.0           Other               2   \n",
       "2  House / apartment  44.0             2.0           Other               2   \n",
       "3  House / apartment  37.0             2.0           Other               2   \n",
       "4  House / apartment  37.0             2.0           Other               2   \n",
       "\n",
       "   label  \n",
       "0      1  \n",
       "1      1  \n",
       "2      1  \n",
       "3      1  \n",
       "4      1  "
      ]
     },
     "execution_count": 24,
     "metadata": {},
     "output_type": "execute_result"
    }
   ],
   "source": [
    "final_df=pd.read_csv(\"master_dataframe.csv\")\n",
    "final_df.head()"
   ]
  },
  {
   "cell_type": "code",
   "execution_count": 25,
   "id": "f199bcb8",
   "metadata": {},
   "outputs": [
    {
     "data": {
      "text/html": [
       "<div>\n",
       "<style scoped>\n",
       "    .dataframe tbody tr th:only-of-type {\n",
       "        vertical-align: middle;\n",
       "    }\n",
       "\n",
       "    .dataframe tbody tr th {\n",
       "        vertical-align: top;\n",
       "    }\n",
       "\n",
       "    .dataframe thead th {\n",
       "        text-align: right;\n",
       "    }\n",
       "</style>\n",
       "<table border=\"1\" class=\"dataframe\">\n",
       "  <thead>\n",
       "    <tr style=\"text-align: right;\">\n",
       "      <th></th>\n",
       "      <th>Ind_ID</th>\n",
       "      <th>Gender</th>\n",
       "      <th>Car_owner</th>\n",
       "      <th>Property_owner</th>\n",
       "      <th>Children</th>\n",
       "      <th>Annual_income</th>\n",
       "      <th>Type_income</th>\n",
       "      <th>Education</th>\n",
       "      <th>Marital_status</th>\n",
       "      <th>Housing_type</th>\n",
       "      <th>Age</th>\n",
       "      <th>Employed_since</th>\n",
       "      <th>Type_occupation</th>\n",
       "      <th>Family_members</th>\n",
       "      <th>label</th>\n",
       "    </tr>\n",
       "  </thead>\n",
       "  <tbody>\n",
       "    <tr>\n",
       "      <th>0</th>\n",
       "      <td>5008827</td>\n",
       "      <td>M</td>\n",
       "      <td>Y</td>\n",
       "      <td>Y</td>\n",
       "      <td>0</td>\n",
       "      <td>180000.00</td>\n",
       "      <td>Pensioner</td>\n",
       "      <td>Higher education</td>\n",
       "      <td>Married</td>\n",
       "      <td>House / apartment</td>\n",
       "      <td>51.0</td>\n",
       "      <td>0.0</td>\n",
       "      <td>Other</td>\n",
       "      <td>2</td>\n",
       "      <td>1</td>\n",
       "    </tr>\n",
       "    <tr>\n",
       "      <th>1</th>\n",
       "      <td>5009744</td>\n",
       "      <td>F</td>\n",
       "      <td>Y</td>\n",
       "      <td>N</td>\n",
       "      <td>0</td>\n",
       "      <td>315000.00</td>\n",
       "      <td>Commercial associate</td>\n",
       "      <td>Higher education</td>\n",
       "      <td>Married</td>\n",
       "      <td>House / apartment</td>\n",
       "      <td>37.0</td>\n",
       "      <td>2.0</td>\n",
       "      <td>Other</td>\n",
       "      <td>2</td>\n",
       "      <td>1</td>\n",
       "    </tr>\n",
       "    <tr>\n",
       "      <th>2</th>\n",
       "      <td>5009746</td>\n",
       "      <td>F</td>\n",
       "      <td>Y</td>\n",
       "      <td>N</td>\n",
       "      <td>0</td>\n",
       "      <td>315000.00</td>\n",
       "      <td>Commercial associate</td>\n",
       "      <td>Higher education</td>\n",
       "      <td>Married</td>\n",
       "      <td>House / apartment</td>\n",
       "      <td>44.0</td>\n",
       "      <td>2.0</td>\n",
       "      <td>Other</td>\n",
       "      <td>2</td>\n",
       "      <td>1</td>\n",
       "    </tr>\n",
       "    <tr>\n",
       "      <th>3</th>\n",
       "      <td>5009749</td>\n",
       "      <td>F</td>\n",
       "      <td>Y</td>\n",
       "      <td>N</td>\n",
       "      <td>0</td>\n",
       "      <td>191399.33</td>\n",
       "      <td>Commercial associate</td>\n",
       "      <td>Higher education</td>\n",
       "      <td>Married</td>\n",
       "      <td>House / apartment</td>\n",
       "      <td>37.0</td>\n",
       "      <td>2.0</td>\n",
       "      <td>Other</td>\n",
       "      <td>2</td>\n",
       "      <td>1</td>\n",
       "    </tr>\n",
       "    <tr>\n",
       "      <th>4</th>\n",
       "      <td>5009752</td>\n",
       "      <td>F</td>\n",
       "      <td>Y</td>\n",
       "      <td>N</td>\n",
       "      <td>0</td>\n",
       "      <td>315000.00</td>\n",
       "      <td>Commercial associate</td>\n",
       "      <td>Higher education</td>\n",
       "      <td>Married</td>\n",
       "      <td>House / apartment</td>\n",
       "      <td>37.0</td>\n",
       "      <td>2.0</td>\n",
       "      <td>Other</td>\n",
       "      <td>2</td>\n",
       "      <td>1</td>\n",
       "    </tr>\n",
       "  </tbody>\n",
       "</table>\n",
       "</div>"
      ],
      "text/plain": [
       "    Ind_ID Gender Car_owner Property_owner  Children  Annual_income  \\\n",
       "0  5008827      M         Y              Y         0      180000.00   \n",
       "1  5009744      F         Y              N         0      315000.00   \n",
       "2  5009746      F         Y              N         0      315000.00   \n",
       "3  5009749      F         Y              N         0      191399.33   \n",
       "4  5009752      F         Y              N         0      315000.00   \n",
       "\n",
       "            Type_income         Education Marital_status       Housing_type  \\\n",
       "0             Pensioner  Higher education        Married  House / apartment   \n",
       "1  Commercial associate  Higher education        Married  House / apartment   \n",
       "2  Commercial associate  Higher education        Married  House / apartment   \n",
       "3  Commercial associate  Higher education        Married  House / apartment   \n",
       "4  Commercial associate  Higher education        Married  House / apartment   \n",
       "\n",
       "    Age  Employed_since Type_occupation  Family_members  label  \n",
       "0  51.0             0.0           Other               2      1  \n",
       "1  37.0             2.0           Other               2      1  \n",
       "2  44.0             2.0           Other               2      1  \n",
       "3  37.0             2.0           Other               2      1  \n",
       "4  37.0             2.0           Other               2      1  "
      ]
     },
     "execution_count": 25,
     "metadata": {},
     "output_type": "execute_result"
    }
   ],
   "source": [
    "#### Here \"Unnamed\" column is created at the time of saving the DataFrame as Index Of the DataFrame ####\n",
    "#### So Droping This Unwanted Column ####\n",
    "\n",
    "final_df.drop(columns=[\"Unnamed: 0\"],axis=1,inplace=True)\n",
    "final_df.head()"
   ]
  },
  {
   "cell_type": "markdown",
   "id": "d26a4079",
   "metadata": {},
   "source": [
    "#### <font color = 'White'>---->> Here I can see that in both \"car_owner\" and \"Property_ownner\" column consists of yes and no values.And Also in \"Gender\" column there are M and F values.So I am going to encode these columns in Binary form(1 and 0)."
   ]
  },
  {
   "cell_type": "code",
   "execution_count": 26,
   "id": "c7ef786c",
   "metadata": {},
   "outputs": [],
   "source": [
    "var_list=[\"Gender\",\"Car_owner\",\"Property_owner\"]\n",
    "def binary_map(x):\n",
    "    return x.map({\"M\":1,\"F\":0,\"Y\":1,\"N\":0})\n",
    "final_df[var_list]=final_df[var_list].apply(binary_map)"
   ]
  },
  {
   "cell_type": "code",
   "execution_count": 27,
   "id": "5db4e920",
   "metadata": {
    "scrolled": true
   },
   "outputs": [
    {
     "data": {
      "text/html": [
       "<div>\n",
       "<style scoped>\n",
       "    .dataframe tbody tr th:only-of-type {\n",
       "        vertical-align: middle;\n",
       "    }\n",
       "\n",
       "    .dataframe tbody tr th {\n",
       "        vertical-align: top;\n",
       "    }\n",
       "\n",
       "    .dataframe thead th {\n",
       "        text-align: right;\n",
       "    }\n",
       "</style>\n",
       "<table border=\"1\" class=\"dataframe\">\n",
       "  <thead>\n",
       "    <tr style=\"text-align: right;\">\n",
       "      <th></th>\n",
       "      <th>Ind_ID</th>\n",
       "      <th>Gender</th>\n",
       "      <th>Car_owner</th>\n",
       "      <th>Property_owner</th>\n",
       "      <th>Children</th>\n",
       "      <th>Annual_income</th>\n",
       "      <th>Type_income</th>\n",
       "      <th>Education</th>\n",
       "      <th>Marital_status</th>\n",
       "      <th>Housing_type</th>\n",
       "      <th>Age</th>\n",
       "      <th>Employed_since</th>\n",
       "      <th>Type_occupation</th>\n",
       "      <th>Family_members</th>\n",
       "      <th>label</th>\n",
       "    </tr>\n",
       "  </thead>\n",
       "  <tbody>\n",
       "    <tr>\n",
       "      <th>0</th>\n",
       "      <td>5008827</td>\n",
       "      <td>1</td>\n",
       "      <td>1</td>\n",
       "      <td>1</td>\n",
       "      <td>0</td>\n",
       "      <td>180000.00</td>\n",
       "      <td>Pensioner</td>\n",
       "      <td>Higher education</td>\n",
       "      <td>Married</td>\n",
       "      <td>House / apartment</td>\n",
       "      <td>51.0</td>\n",
       "      <td>0.0</td>\n",
       "      <td>Other</td>\n",
       "      <td>2</td>\n",
       "      <td>1</td>\n",
       "    </tr>\n",
       "    <tr>\n",
       "      <th>1</th>\n",
       "      <td>5009744</td>\n",
       "      <td>0</td>\n",
       "      <td>1</td>\n",
       "      <td>0</td>\n",
       "      <td>0</td>\n",
       "      <td>315000.00</td>\n",
       "      <td>Commercial associate</td>\n",
       "      <td>Higher education</td>\n",
       "      <td>Married</td>\n",
       "      <td>House / apartment</td>\n",
       "      <td>37.0</td>\n",
       "      <td>2.0</td>\n",
       "      <td>Other</td>\n",
       "      <td>2</td>\n",
       "      <td>1</td>\n",
       "    </tr>\n",
       "    <tr>\n",
       "      <th>2</th>\n",
       "      <td>5009746</td>\n",
       "      <td>0</td>\n",
       "      <td>1</td>\n",
       "      <td>0</td>\n",
       "      <td>0</td>\n",
       "      <td>315000.00</td>\n",
       "      <td>Commercial associate</td>\n",
       "      <td>Higher education</td>\n",
       "      <td>Married</td>\n",
       "      <td>House / apartment</td>\n",
       "      <td>44.0</td>\n",
       "      <td>2.0</td>\n",
       "      <td>Other</td>\n",
       "      <td>2</td>\n",
       "      <td>1</td>\n",
       "    </tr>\n",
       "    <tr>\n",
       "      <th>3</th>\n",
       "      <td>5009749</td>\n",
       "      <td>0</td>\n",
       "      <td>1</td>\n",
       "      <td>0</td>\n",
       "      <td>0</td>\n",
       "      <td>191399.33</td>\n",
       "      <td>Commercial associate</td>\n",
       "      <td>Higher education</td>\n",
       "      <td>Married</td>\n",
       "      <td>House / apartment</td>\n",
       "      <td>37.0</td>\n",
       "      <td>2.0</td>\n",
       "      <td>Other</td>\n",
       "      <td>2</td>\n",
       "      <td>1</td>\n",
       "    </tr>\n",
       "    <tr>\n",
       "      <th>4</th>\n",
       "      <td>5009752</td>\n",
       "      <td>0</td>\n",
       "      <td>1</td>\n",
       "      <td>0</td>\n",
       "      <td>0</td>\n",
       "      <td>315000.00</td>\n",
       "      <td>Commercial associate</td>\n",
       "      <td>Higher education</td>\n",
       "      <td>Married</td>\n",
       "      <td>House / apartment</td>\n",
       "      <td>37.0</td>\n",
       "      <td>2.0</td>\n",
       "      <td>Other</td>\n",
       "      <td>2</td>\n",
       "      <td>1</td>\n",
       "    </tr>\n",
       "  </tbody>\n",
       "</table>\n",
       "</div>"
      ],
      "text/plain": [
       "    Ind_ID  Gender  Car_owner  Property_owner  Children  Annual_income  \\\n",
       "0  5008827       1          1               1         0      180000.00   \n",
       "1  5009744       0          1               0         0      315000.00   \n",
       "2  5009746       0          1               0         0      315000.00   \n",
       "3  5009749       0          1               0         0      191399.33   \n",
       "4  5009752       0          1               0         0      315000.00   \n",
       "\n",
       "            Type_income         Education Marital_status       Housing_type  \\\n",
       "0             Pensioner  Higher education        Married  House / apartment   \n",
       "1  Commercial associate  Higher education        Married  House / apartment   \n",
       "2  Commercial associate  Higher education        Married  House / apartment   \n",
       "3  Commercial associate  Higher education        Married  House / apartment   \n",
       "4  Commercial associate  Higher education        Married  House / apartment   \n",
       "\n",
       "    Age  Employed_since Type_occupation  Family_members  label  \n",
       "0  51.0             0.0           Other               2      1  \n",
       "1  37.0             2.0           Other               2      1  \n",
       "2  44.0             2.0           Other               2      1  \n",
       "3  37.0             2.0           Other               2      1  \n",
       "4  37.0             2.0           Other               2      1  "
      ]
     },
     "execution_count": 27,
     "metadata": {},
     "output_type": "execute_result"
    }
   ],
   "source": [
    "final_df.head()"
   ]
  },
  {
   "cell_type": "code",
   "execution_count": 28,
   "id": "30ba305c",
   "metadata": {},
   "outputs": [],
   "source": [
    "#### Importing The Encoders From Sklearn Library ####\n",
    "\n",
    "from sklearn.preprocessing import LabelEncoder\n",
    "from sklearn.preprocessing import OneHotEncoder\n",
    "from sklearn.preprocessing import OrdinalEncoder\n",
    "import category_encoders as ce"
   ]
  },
  {
   "cell_type": "code",
   "execution_count": 29,
   "id": "6f2bb5c1",
   "metadata": {},
   "outputs": [
    {
     "data": {
      "text/plain": [
       "array(['Pensioner', 'Commercial associate', 'Working', 'State servant'],\n",
       "      dtype=object)"
      ]
     },
     "execution_count": 29,
     "metadata": {},
     "output_type": "execute_result"
    }
   ],
   "source": [
    "final_df[\"Type_income\"].unique()"
   ]
  },
  {
   "cell_type": "code",
   "execution_count": 31,
   "id": "9623bf6b",
   "metadata": {},
   "outputs": [
    {
     "data": {
      "text/plain": [
       "array(['Higher education', 'Secondary', 'Lower secondary',\n",
       "       'Incomplete higher', 'Academic degree'], dtype=object)"
      ]
     },
     "execution_count": 31,
     "metadata": {},
     "output_type": "execute_result"
    }
   ],
   "source": [
    "final_df[\"Education\"].unique()"
   ]
  },
  {
   "cell_type": "code",
   "execution_count": 30,
   "id": "b6cc5bc4",
   "metadata": {},
   "outputs": [
    {
     "data": {
      "text/plain": [
       "array(['Married', 'Not married', 'Civil marriage', 'Separated', 'Widow'],\n",
       "      dtype=object)"
      ]
     },
     "execution_count": 30,
     "metadata": {},
     "output_type": "execute_result"
    }
   ],
   "source": [
    "final_df[\"Marital_status\"].unique()"
   ]
  },
  {
   "cell_type": "code",
   "execution_count": 32,
   "id": "5cd33325",
   "metadata": {},
   "outputs": [
    {
     "data": {
      "text/plain": [
       "array(['House / apartment', 'With parents', 'Rented apartment',\n",
       "       'Municipal apartment', 'Co-op apartment', 'Office apartment'],\n",
       "      dtype=object)"
      ]
     },
     "execution_count": 32,
     "metadata": {},
     "output_type": "execute_result"
    }
   ],
   "source": [
    "final_df[\"Housing_type\"].unique()"
   ]
  },
  {
   "cell_type": "markdown",
   "id": "0c1b66b7",
   "metadata": {},
   "source": [
    "#### <font color = 'White'>---->> Here we can see in \"Type_income\",\"Marital_status\",\"Education\" and \"Housing_type\" columns there are max of six category variables.So I have decided to do Dummy Encoding for this column."
   ]
  },
  {
   "cell_type": "code",
   "execution_count": 33,
   "id": "e69555ef",
   "metadata": {},
   "outputs": [
    {
     "data": {
      "text/html": [
       "<div>\n",
       "<style scoped>\n",
       "    .dataframe tbody tr th:only-of-type {\n",
       "        vertical-align: middle;\n",
       "    }\n",
       "\n",
       "    .dataframe tbody tr th {\n",
       "        vertical-align: top;\n",
       "    }\n",
       "\n",
       "    .dataframe thead th {\n",
       "        text-align: right;\n",
       "    }\n",
       "</style>\n",
       "<table border=\"1\" class=\"dataframe\">\n",
       "  <thead>\n",
       "    <tr style=\"text-align: right;\">\n",
       "      <th></th>\n",
       "      <th>Type_income_Commercial associate</th>\n",
       "      <th>Type_income_Pensioner</th>\n",
       "      <th>Type_income_State servant</th>\n",
       "      <th>Type_income_Working</th>\n",
       "      <th>Education_Academic degree</th>\n",
       "      <th>Education_Higher education</th>\n",
       "      <th>Education_Incomplete higher</th>\n",
       "      <th>Education_Lower secondary</th>\n",
       "      <th>Education_Secondary</th>\n",
       "      <th>Marital_status_Civil marriage</th>\n",
       "      <th>Marital_status_Married</th>\n",
       "      <th>Marital_status_Not married</th>\n",
       "      <th>Marital_status_Separated</th>\n",
       "      <th>Marital_status_Widow</th>\n",
       "      <th>Housing_type_Co-op apartment</th>\n",
       "      <th>Housing_type_House / apartment</th>\n",
       "      <th>Housing_type_Municipal apartment</th>\n",
       "      <th>Housing_type_Office apartment</th>\n",
       "      <th>Housing_type_Rented apartment</th>\n",
       "      <th>Housing_type_With parents</th>\n",
       "    </tr>\n",
       "  </thead>\n",
       "  <tbody>\n",
       "    <tr>\n",
       "      <th>0</th>\n",
       "      <td>0</td>\n",
       "      <td>1</td>\n",
       "      <td>0</td>\n",
       "      <td>0</td>\n",
       "      <td>0</td>\n",
       "      <td>1</td>\n",
       "      <td>0</td>\n",
       "      <td>0</td>\n",
       "      <td>0</td>\n",
       "      <td>0</td>\n",
       "      <td>1</td>\n",
       "      <td>0</td>\n",
       "      <td>0</td>\n",
       "      <td>0</td>\n",
       "      <td>0</td>\n",
       "      <td>1</td>\n",
       "      <td>0</td>\n",
       "      <td>0</td>\n",
       "      <td>0</td>\n",
       "      <td>0</td>\n",
       "    </tr>\n",
       "    <tr>\n",
       "      <th>1</th>\n",
       "      <td>1</td>\n",
       "      <td>0</td>\n",
       "      <td>0</td>\n",
       "      <td>0</td>\n",
       "      <td>0</td>\n",
       "      <td>1</td>\n",
       "      <td>0</td>\n",
       "      <td>0</td>\n",
       "      <td>0</td>\n",
       "      <td>0</td>\n",
       "      <td>1</td>\n",
       "      <td>0</td>\n",
       "      <td>0</td>\n",
       "      <td>0</td>\n",
       "      <td>0</td>\n",
       "      <td>1</td>\n",
       "      <td>0</td>\n",
       "      <td>0</td>\n",
       "      <td>0</td>\n",
       "      <td>0</td>\n",
       "    </tr>\n",
       "    <tr>\n",
       "      <th>2</th>\n",
       "      <td>1</td>\n",
       "      <td>0</td>\n",
       "      <td>0</td>\n",
       "      <td>0</td>\n",
       "      <td>0</td>\n",
       "      <td>1</td>\n",
       "      <td>0</td>\n",
       "      <td>0</td>\n",
       "      <td>0</td>\n",
       "      <td>0</td>\n",
       "      <td>1</td>\n",
       "      <td>0</td>\n",
       "      <td>0</td>\n",
       "      <td>0</td>\n",
       "      <td>0</td>\n",
       "      <td>1</td>\n",
       "      <td>0</td>\n",
       "      <td>0</td>\n",
       "      <td>0</td>\n",
       "      <td>0</td>\n",
       "    </tr>\n",
       "    <tr>\n",
       "      <th>3</th>\n",
       "      <td>1</td>\n",
       "      <td>0</td>\n",
       "      <td>0</td>\n",
       "      <td>0</td>\n",
       "      <td>0</td>\n",
       "      <td>1</td>\n",
       "      <td>0</td>\n",
       "      <td>0</td>\n",
       "      <td>0</td>\n",
       "      <td>0</td>\n",
       "      <td>1</td>\n",
       "      <td>0</td>\n",
       "      <td>0</td>\n",
       "      <td>0</td>\n",
       "      <td>0</td>\n",
       "      <td>1</td>\n",
       "      <td>0</td>\n",
       "      <td>0</td>\n",
       "      <td>0</td>\n",
       "      <td>0</td>\n",
       "    </tr>\n",
       "    <tr>\n",
       "      <th>4</th>\n",
       "      <td>1</td>\n",
       "      <td>0</td>\n",
       "      <td>0</td>\n",
       "      <td>0</td>\n",
       "      <td>0</td>\n",
       "      <td>1</td>\n",
       "      <td>0</td>\n",
       "      <td>0</td>\n",
       "      <td>0</td>\n",
       "      <td>0</td>\n",
       "      <td>1</td>\n",
       "      <td>0</td>\n",
       "      <td>0</td>\n",
       "      <td>0</td>\n",
       "      <td>0</td>\n",
       "      <td>1</td>\n",
       "      <td>0</td>\n",
       "      <td>0</td>\n",
       "      <td>0</td>\n",
       "      <td>0</td>\n",
       "    </tr>\n",
       "  </tbody>\n",
       "</table>\n",
       "</div>"
      ],
      "text/plain": [
       "   Type_income_Commercial associate  Type_income_Pensioner  \\\n",
       "0                                 0                      1   \n",
       "1                                 1                      0   \n",
       "2                                 1                      0   \n",
       "3                                 1                      0   \n",
       "4                                 1                      0   \n",
       "\n",
       "   Type_income_State servant  Type_income_Working  Education_Academic degree  \\\n",
       "0                          0                    0                          0   \n",
       "1                          0                    0                          0   \n",
       "2                          0                    0                          0   \n",
       "3                          0                    0                          0   \n",
       "4                          0                    0                          0   \n",
       "\n",
       "   Education_Higher education  Education_Incomplete higher  \\\n",
       "0                           1                            0   \n",
       "1                           1                            0   \n",
       "2                           1                            0   \n",
       "3                           1                            0   \n",
       "4                           1                            0   \n",
       "\n",
       "   Education_Lower secondary  Education_Secondary  \\\n",
       "0                          0                    0   \n",
       "1                          0                    0   \n",
       "2                          0                    0   \n",
       "3                          0                    0   \n",
       "4                          0                    0   \n",
       "\n",
       "   Marital_status_Civil marriage  Marital_status_Married  \\\n",
       "0                              0                       1   \n",
       "1                              0                       1   \n",
       "2                              0                       1   \n",
       "3                              0                       1   \n",
       "4                              0                       1   \n",
       "\n",
       "   Marital_status_Not married  Marital_status_Separated  Marital_status_Widow  \\\n",
       "0                           0                         0                     0   \n",
       "1                           0                         0                     0   \n",
       "2                           0                         0                     0   \n",
       "3                           0                         0                     0   \n",
       "4                           0                         0                     0   \n",
       "\n",
       "   Housing_type_Co-op apartment  Housing_type_House / apartment  \\\n",
       "0                             0                               1   \n",
       "1                             0                               1   \n",
       "2                             0                               1   \n",
       "3                             0                               1   \n",
       "4                             0                               1   \n",
       "\n",
       "   Housing_type_Municipal apartment  Housing_type_Office apartment  \\\n",
       "0                                 0                              0   \n",
       "1                                 0                              0   \n",
       "2                                 0                              0   \n",
       "3                                 0                              0   \n",
       "4                                 0                              0   \n",
       "\n",
       "   Housing_type_Rented apartment  Housing_type_With parents  \n",
       "0                              0                          0  \n",
       "1                              0                          0  \n",
       "2                              0                          0  \n",
       "3                              0                          0  \n",
       "4                              0                          0  "
      ]
     },
     "execution_count": 33,
     "metadata": {},
     "output_type": "execute_result"
    }
   ],
   "source": [
    "type_income_dummy=pd.get_dummies(final_df[[\"Type_income\",\"Education\",\"Marital_status\",\"Housing_type\"]])\n",
    "type_income_dummy.head()"
   ]
  },
  {
   "cell_type": "code",
   "execution_count": 34,
   "id": "5d21ee48",
   "metadata": {},
   "outputs": [
    {
     "data": {
      "text/html": [
       "<div>\n",
       "<style scoped>\n",
       "    .dataframe tbody tr th:only-of-type {\n",
       "        vertical-align: middle;\n",
       "    }\n",
       "\n",
       "    .dataframe tbody tr th {\n",
       "        vertical-align: top;\n",
       "    }\n",
       "\n",
       "    .dataframe thead th {\n",
       "        text-align: right;\n",
       "    }\n",
       "</style>\n",
       "<table border=\"1\" class=\"dataframe\">\n",
       "  <thead>\n",
       "    <tr style=\"text-align: right;\">\n",
       "      <th></th>\n",
       "      <th>Ind_ID</th>\n",
       "      <th>Gender</th>\n",
       "      <th>Car_owner</th>\n",
       "      <th>Property_owner</th>\n",
       "      <th>Children</th>\n",
       "      <th>Annual_income</th>\n",
       "      <th>Type_income</th>\n",
       "      <th>Type_income_Commercial associate</th>\n",
       "      <th>Type_income_Pensioner</th>\n",
       "      <th>Type_income_State servant</th>\n",
       "      <th>...</th>\n",
       "      <th>Housing_type_Rented apartment</th>\n",
       "      <th>Housing_type_With parents</th>\n",
       "      <th>Education</th>\n",
       "      <th>Marital_status</th>\n",
       "      <th>Housing_type</th>\n",
       "      <th>Age</th>\n",
       "      <th>Employed_since</th>\n",
       "      <th>Type_occupation</th>\n",
       "      <th>Family_members</th>\n",
       "      <th>label</th>\n",
       "    </tr>\n",
       "  </thead>\n",
       "  <tbody>\n",
       "    <tr>\n",
       "      <th>0</th>\n",
       "      <td>5008827</td>\n",
       "      <td>1</td>\n",
       "      <td>1</td>\n",
       "      <td>1</td>\n",
       "      <td>0</td>\n",
       "      <td>180000.00</td>\n",
       "      <td>Pensioner</td>\n",
       "      <td>0</td>\n",
       "      <td>1</td>\n",
       "      <td>0</td>\n",
       "      <td>...</td>\n",
       "      <td>0</td>\n",
       "      <td>0</td>\n",
       "      <td>Higher education</td>\n",
       "      <td>Married</td>\n",
       "      <td>House / apartment</td>\n",
       "      <td>51.0</td>\n",
       "      <td>0.0</td>\n",
       "      <td>Other</td>\n",
       "      <td>2</td>\n",
       "      <td>1</td>\n",
       "    </tr>\n",
       "    <tr>\n",
       "      <th>1</th>\n",
       "      <td>5009744</td>\n",
       "      <td>0</td>\n",
       "      <td>1</td>\n",
       "      <td>0</td>\n",
       "      <td>0</td>\n",
       "      <td>315000.00</td>\n",
       "      <td>Commercial associate</td>\n",
       "      <td>1</td>\n",
       "      <td>0</td>\n",
       "      <td>0</td>\n",
       "      <td>...</td>\n",
       "      <td>0</td>\n",
       "      <td>0</td>\n",
       "      <td>Higher education</td>\n",
       "      <td>Married</td>\n",
       "      <td>House / apartment</td>\n",
       "      <td>37.0</td>\n",
       "      <td>2.0</td>\n",
       "      <td>Other</td>\n",
       "      <td>2</td>\n",
       "      <td>1</td>\n",
       "    </tr>\n",
       "    <tr>\n",
       "      <th>2</th>\n",
       "      <td>5009746</td>\n",
       "      <td>0</td>\n",
       "      <td>1</td>\n",
       "      <td>0</td>\n",
       "      <td>0</td>\n",
       "      <td>315000.00</td>\n",
       "      <td>Commercial associate</td>\n",
       "      <td>1</td>\n",
       "      <td>0</td>\n",
       "      <td>0</td>\n",
       "      <td>...</td>\n",
       "      <td>0</td>\n",
       "      <td>0</td>\n",
       "      <td>Higher education</td>\n",
       "      <td>Married</td>\n",
       "      <td>House / apartment</td>\n",
       "      <td>44.0</td>\n",
       "      <td>2.0</td>\n",
       "      <td>Other</td>\n",
       "      <td>2</td>\n",
       "      <td>1</td>\n",
       "    </tr>\n",
       "    <tr>\n",
       "      <th>3</th>\n",
       "      <td>5009749</td>\n",
       "      <td>0</td>\n",
       "      <td>1</td>\n",
       "      <td>0</td>\n",
       "      <td>0</td>\n",
       "      <td>191399.33</td>\n",
       "      <td>Commercial associate</td>\n",
       "      <td>1</td>\n",
       "      <td>0</td>\n",
       "      <td>0</td>\n",
       "      <td>...</td>\n",
       "      <td>0</td>\n",
       "      <td>0</td>\n",
       "      <td>Higher education</td>\n",
       "      <td>Married</td>\n",
       "      <td>House / apartment</td>\n",
       "      <td>37.0</td>\n",
       "      <td>2.0</td>\n",
       "      <td>Other</td>\n",
       "      <td>2</td>\n",
       "      <td>1</td>\n",
       "    </tr>\n",
       "    <tr>\n",
       "      <th>4</th>\n",
       "      <td>5009752</td>\n",
       "      <td>0</td>\n",
       "      <td>1</td>\n",
       "      <td>0</td>\n",
       "      <td>0</td>\n",
       "      <td>315000.00</td>\n",
       "      <td>Commercial associate</td>\n",
       "      <td>1</td>\n",
       "      <td>0</td>\n",
       "      <td>0</td>\n",
       "      <td>...</td>\n",
       "      <td>0</td>\n",
       "      <td>0</td>\n",
       "      <td>Higher education</td>\n",
       "      <td>Married</td>\n",
       "      <td>House / apartment</td>\n",
       "      <td>37.0</td>\n",
       "      <td>2.0</td>\n",
       "      <td>Other</td>\n",
       "      <td>2</td>\n",
       "      <td>1</td>\n",
       "    </tr>\n",
       "  </tbody>\n",
       "</table>\n",
       "<p>5 rows × 35 columns</p>\n",
       "</div>"
      ],
      "text/plain": [
       "    Ind_ID  Gender  Car_owner  Property_owner  Children  Annual_income  \\\n",
       "0  5008827       1          1               1         0      180000.00   \n",
       "1  5009744       0          1               0         0      315000.00   \n",
       "2  5009746       0          1               0         0      315000.00   \n",
       "3  5009749       0          1               0         0      191399.33   \n",
       "4  5009752       0          1               0         0      315000.00   \n",
       "\n",
       "            Type_income  Type_income_Commercial associate  \\\n",
       "0             Pensioner                                 0   \n",
       "1  Commercial associate                                 1   \n",
       "2  Commercial associate                                 1   \n",
       "3  Commercial associate                                 1   \n",
       "4  Commercial associate                                 1   \n",
       "\n",
       "   Type_income_Pensioner  Type_income_State servant  ...  \\\n",
       "0                      1                          0  ...   \n",
       "1                      0                          0  ...   \n",
       "2                      0                          0  ...   \n",
       "3                      0                          0  ...   \n",
       "4                      0                          0  ...   \n",
       "\n",
       "   Housing_type_Rented apartment  Housing_type_With parents         Education  \\\n",
       "0                              0                          0  Higher education   \n",
       "1                              0                          0  Higher education   \n",
       "2                              0                          0  Higher education   \n",
       "3                              0                          0  Higher education   \n",
       "4                              0                          0  Higher education   \n",
       "\n",
       "   Marital_status       Housing_type   Age  Employed_since  Type_occupation  \\\n",
       "0         Married  House / apartment  51.0             0.0            Other   \n",
       "1         Married  House / apartment  37.0             2.0            Other   \n",
       "2         Married  House / apartment  44.0             2.0            Other   \n",
       "3         Married  House / apartment  37.0             2.0            Other   \n",
       "4         Married  House / apartment  37.0             2.0            Other   \n",
       "\n",
       "   Family_members  label  \n",
       "0               2      1  \n",
       "1               2      1  \n",
       "2               2      1  \n",
       "3               2      1  \n",
       "4               2      1  \n",
       "\n",
       "[5 rows x 35 columns]"
      ]
     },
     "execution_count": 34,
     "metadata": {},
     "output_type": "execute_result"
    }
   ],
   "source": [
    "insert_pos=7\n",
    "final_df=pd.concat([final_df.iloc[:, :insert_pos],type_income_dummy,final_df.iloc[:, insert_pos:]],axis=1)\n",
    "final_df.head()"
   ]
  },
  {
   "cell_type": "code",
   "execution_count": 35,
   "id": "db39ad92",
   "metadata": {},
   "outputs": [
    {
     "data": {
      "text/plain": [
       "(1541, 35)"
      ]
     },
     "execution_count": 35,
     "metadata": {},
     "output_type": "execute_result"
    }
   ],
   "source": [
    "final_df.shape"
   ]
  },
  {
   "cell_type": "markdown",
   "id": "260fe68f",
   "metadata": {},
   "source": [
    "#### <font color = 'White'>---->> Now Deleting The Categorical column--"
   ]
  },
  {
   "cell_type": "code",
   "execution_count": 36,
   "id": "f38923ce",
   "metadata": {},
   "outputs": [],
   "source": [
    "final_df=final_df.drop(columns=[\"Type_income\",\"Education\",\"Marital_status\",\"Housing_type\"],axis=1)"
   ]
  },
  {
   "cell_type": "code",
   "execution_count": 37,
   "id": "3d8d4526",
   "metadata": {},
   "outputs": [
    {
     "data": {
      "text/plain": [
       "Index(['Ind_ID', 'Gender', 'Car_owner', 'Property_owner', 'Children',\n",
       "       'Annual_income', 'Type_income_Commercial associate',\n",
       "       'Type_income_Pensioner', 'Type_income_State servant',\n",
       "       'Type_income_Working', 'Education_Academic degree',\n",
       "       'Education_Higher education', 'Education_Incomplete higher',\n",
       "       'Education_Lower secondary', 'Education_Secondary',\n",
       "       'Marital_status_Civil marriage', 'Marital_status_Married',\n",
       "       'Marital_status_Not married', 'Marital_status_Separated',\n",
       "       'Marital_status_Widow', 'Housing_type_Co-op apartment',\n",
       "       'Housing_type_House / apartment', 'Housing_type_Municipal apartment',\n",
       "       'Housing_type_Office apartment', 'Housing_type_Rented apartment',\n",
       "       'Housing_type_With parents', 'Age', 'Employed_since', 'Type_occupation',\n",
       "       'Family_members', 'label'],\n",
       "      dtype='object')"
      ]
     },
     "execution_count": 37,
     "metadata": {},
     "output_type": "execute_result"
    }
   ],
   "source": [
    "final_df.columns"
   ]
  },
  {
   "cell_type": "code",
   "execution_count": 38,
   "id": "a568a61c",
   "metadata": {},
   "outputs": [
    {
     "data": {
      "text/plain": [
       "(1541, 31)"
      ]
     },
     "execution_count": 38,
     "metadata": {},
     "output_type": "execute_result"
    }
   ],
   "source": [
    "final_df.shape"
   ]
  },
  {
   "cell_type": "markdown",
   "id": "b916e86a",
   "metadata": {},
   "source": [
    "#### <font color = 'Yellow'>---->> Here we can see Three categorical columns are converted into numercial with more no of columns."
   ]
  },
  {
   "cell_type": "code",
   "execution_count": 44,
   "id": "613dbe14",
   "metadata": {},
   "outputs": [
    {
     "data": {
      "text/plain": [
       "array(['Other', 'Core staff', 'Cooking staff', 'Laborers', 'Sales staff',\n",
       "       'Accountants', 'Managers', 'Cleaning staff', 'Drivers',\n",
       "       'Low-skill Laborers', 'High skill tech staff', 'IT staff',\n",
       "       'Waiters/barmen staff', 'Security staff', 'Medicine staff',\n",
       "       'Private service staff', 'HR staff', 'Secretaries',\n",
       "       'Realty agents'], dtype=object)"
      ]
     },
     "execution_count": 44,
     "metadata": {},
     "output_type": "execute_result"
    }
   ],
   "source": [
    "final_df[\"Type_occupation\"].unique()"
   ]
  },
  {
   "cell_type": "markdown",
   "id": "9aa341ca",
   "metadata": {},
   "source": [
    "#### <font color = 'White'> Here we can see in \"Type_occupation\" column there are lots of categories.If Dummy Encoding is directly applied here then it will going to add lots of extra columns to the dataset.So here I am going to group different posts and assign into two to three variables like grade_A,grade_B,grade_c etc. Which will help me in encoding and would not going to give huge no of encoded columns."
   ]
  },
  {
   "cell_type": "code",
   "execution_count": 50,
   "id": "e628cdc0",
   "metadata": {},
   "outputs": [],
   "source": [
    "#### Taking the Posts as per there name and Making different groups of the posts and assigning the groups \n",
    "#### into three Variables..\n",
    "\n",
    "A_post=[\"Accountants\",\"Managers\",\"IT staff\",\"HR staff\",\"Secretaries\"]\n",
    "B_post=[\"Core staff\",\"Sales staff\",\"High skill tech staff\",\"Medicine staff\",\"Realty agents\",\n",
    "              \"Private service staff\"]\n",
    "C_post=[\"Cooking staff\",\"Laborers\",\"Cleaning staff\",\"Drivers\",\"Low-skill Laborers\",\n",
    "              \"Waiters/barmen staff\",\"Security staff\"]\n",
    "\n",
    "#### Here defining a User Function using Required Conditions and Applying the function in the Dataframe #### \n",
    "def post_category(post):\n",
    "    if post in A_post:\n",
    "        return \"A_grade\"\n",
    "    elif post in B_post:\n",
    "        return \"B_grade\"\n",
    "    elif post in C_post:\n",
    "        return \"C_grade\"\n",
    "    return post\n",
    "final_df[\"Type_occupation\"]=final_df[\"Type_occupation\"].apply(post_category)"
   ]
  },
  {
   "cell_type": "code",
   "execution_count": 51,
   "id": "e1a79ea9",
   "metadata": {},
   "outputs": [
    {
     "data": {
      "text/plain": [
       "Other      486\n",
       "C_grade    436\n",
       "B_grade    426\n",
       "A_grade    193\n",
       "Name: Type_occupation, dtype: int64"
      ]
     },
     "execution_count": 51,
     "metadata": {},
     "output_type": "execute_result"
    }
   ],
   "source": [
    "final_df[\"Type_occupation\"].value_counts()"
   ]
  },
  {
   "cell_type": "markdown",
   "id": "d9263da5",
   "metadata": {},
   "source": [
    "#### <font color = 'Yellow'>---->> Here we can see all the posts of \"Type_occupation\" column are grouped in four categories and in ordinal form.So now I am going to use the Ordinal Encoding Technique in this column."
   ]
  },
  {
   "cell_type": "code",
   "execution_count": 52,
   "id": "97a47db0",
   "metadata": {},
   "outputs": [],
   "source": [
    "#### Doing Ordinal Encoding ####\n",
    "final_df[\"Type_occupation\"]=final_df[\"Type_occupation\"].map({\"A_grade\":4,\"B_grade\":3,\"C_grade\":2,\n",
    "                                                             \"Other\":1})\n",
    "#### Here Higher The Grade rank Higher The Number ####"
   ]
  },
  {
   "cell_type": "code",
   "execution_count": 54,
   "id": "52097090",
   "metadata": {},
   "outputs": [
    {
     "data": {
      "text/html": [
       "<div>\n",
       "<style scoped>\n",
       "    .dataframe tbody tr th:only-of-type {\n",
       "        vertical-align: middle;\n",
       "    }\n",
       "\n",
       "    .dataframe tbody tr th {\n",
       "        vertical-align: top;\n",
       "    }\n",
       "\n",
       "    .dataframe thead th {\n",
       "        text-align: right;\n",
       "    }\n",
       "</style>\n",
       "<table border=\"1\" class=\"dataframe\">\n",
       "  <thead>\n",
       "    <tr style=\"text-align: right;\">\n",
       "      <th></th>\n",
       "      <th>Ind_ID</th>\n",
       "      <th>Gender</th>\n",
       "      <th>Car_owner</th>\n",
       "      <th>Property_owner</th>\n",
       "      <th>Children</th>\n",
       "      <th>Annual_income</th>\n",
       "      <th>Type_income_Commercial associate</th>\n",
       "      <th>Type_income_Pensioner</th>\n",
       "      <th>Type_income_State servant</th>\n",
       "      <th>Type_income_Working</th>\n",
       "      <th>...</th>\n",
       "      <th>Housing_type_House / apartment</th>\n",
       "      <th>Housing_type_Municipal apartment</th>\n",
       "      <th>Housing_type_Office apartment</th>\n",
       "      <th>Housing_type_Rented apartment</th>\n",
       "      <th>Housing_type_With parents</th>\n",
       "      <th>Age</th>\n",
       "      <th>Employed_since</th>\n",
       "      <th>Type_occupation</th>\n",
       "      <th>Family_members</th>\n",
       "      <th>label</th>\n",
       "    </tr>\n",
       "  </thead>\n",
       "  <tbody>\n",
       "    <tr>\n",
       "      <th>0</th>\n",
       "      <td>5008827</td>\n",
       "      <td>1</td>\n",
       "      <td>1</td>\n",
       "      <td>1</td>\n",
       "      <td>0</td>\n",
       "      <td>180000.00</td>\n",
       "      <td>0</td>\n",
       "      <td>1</td>\n",
       "      <td>0</td>\n",
       "      <td>0</td>\n",
       "      <td>...</td>\n",
       "      <td>1</td>\n",
       "      <td>0</td>\n",
       "      <td>0</td>\n",
       "      <td>0</td>\n",
       "      <td>0</td>\n",
       "      <td>51.0</td>\n",
       "      <td>0.0</td>\n",
       "      <td>1</td>\n",
       "      <td>2</td>\n",
       "      <td>1</td>\n",
       "    </tr>\n",
       "    <tr>\n",
       "      <th>1</th>\n",
       "      <td>5009744</td>\n",
       "      <td>0</td>\n",
       "      <td>1</td>\n",
       "      <td>0</td>\n",
       "      <td>0</td>\n",
       "      <td>315000.00</td>\n",
       "      <td>1</td>\n",
       "      <td>0</td>\n",
       "      <td>0</td>\n",
       "      <td>0</td>\n",
       "      <td>...</td>\n",
       "      <td>1</td>\n",
       "      <td>0</td>\n",
       "      <td>0</td>\n",
       "      <td>0</td>\n",
       "      <td>0</td>\n",
       "      <td>37.0</td>\n",
       "      <td>2.0</td>\n",
       "      <td>1</td>\n",
       "      <td>2</td>\n",
       "      <td>1</td>\n",
       "    </tr>\n",
       "    <tr>\n",
       "      <th>2</th>\n",
       "      <td>5009746</td>\n",
       "      <td>0</td>\n",
       "      <td>1</td>\n",
       "      <td>0</td>\n",
       "      <td>0</td>\n",
       "      <td>315000.00</td>\n",
       "      <td>1</td>\n",
       "      <td>0</td>\n",
       "      <td>0</td>\n",
       "      <td>0</td>\n",
       "      <td>...</td>\n",
       "      <td>1</td>\n",
       "      <td>0</td>\n",
       "      <td>0</td>\n",
       "      <td>0</td>\n",
       "      <td>0</td>\n",
       "      <td>44.0</td>\n",
       "      <td>2.0</td>\n",
       "      <td>1</td>\n",
       "      <td>2</td>\n",
       "      <td>1</td>\n",
       "    </tr>\n",
       "    <tr>\n",
       "      <th>3</th>\n",
       "      <td>5009749</td>\n",
       "      <td>0</td>\n",
       "      <td>1</td>\n",
       "      <td>0</td>\n",
       "      <td>0</td>\n",
       "      <td>191399.33</td>\n",
       "      <td>1</td>\n",
       "      <td>0</td>\n",
       "      <td>0</td>\n",
       "      <td>0</td>\n",
       "      <td>...</td>\n",
       "      <td>1</td>\n",
       "      <td>0</td>\n",
       "      <td>0</td>\n",
       "      <td>0</td>\n",
       "      <td>0</td>\n",
       "      <td>37.0</td>\n",
       "      <td>2.0</td>\n",
       "      <td>1</td>\n",
       "      <td>2</td>\n",
       "      <td>1</td>\n",
       "    </tr>\n",
       "    <tr>\n",
       "      <th>4</th>\n",
       "      <td>5009752</td>\n",
       "      <td>0</td>\n",
       "      <td>1</td>\n",
       "      <td>0</td>\n",
       "      <td>0</td>\n",
       "      <td>315000.00</td>\n",
       "      <td>1</td>\n",
       "      <td>0</td>\n",
       "      <td>0</td>\n",
       "      <td>0</td>\n",
       "      <td>...</td>\n",
       "      <td>1</td>\n",
       "      <td>0</td>\n",
       "      <td>0</td>\n",
       "      <td>0</td>\n",
       "      <td>0</td>\n",
       "      <td>37.0</td>\n",
       "      <td>2.0</td>\n",
       "      <td>1</td>\n",
       "      <td>2</td>\n",
       "      <td>1</td>\n",
       "    </tr>\n",
       "  </tbody>\n",
       "</table>\n",
       "<p>5 rows × 31 columns</p>\n",
       "</div>"
      ],
      "text/plain": [
       "    Ind_ID  Gender  Car_owner  Property_owner  Children  Annual_income  \\\n",
       "0  5008827       1          1               1         0      180000.00   \n",
       "1  5009744       0          1               0         0      315000.00   \n",
       "2  5009746       0          1               0         0      315000.00   \n",
       "3  5009749       0          1               0         0      191399.33   \n",
       "4  5009752       0          1               0         0      315000.00   \n",
       "\n",
       "   Type_income_Commercial associate  Type_income_Pensioner  \\\n",
       "0                                 0                      1   \n",
       "1                                 1                      0   \n",
       "2                                 1                      0   \n",
       "3                                 1                      0   \n",
       "4                                 1                      0   \n",
       "\n",
       "   Type_income_State servant  Type_income_Working  ...  \\\n",
       "0                          0                    0  ...   \n",
       "1                          0                    0  ...   \n",
       "2                          0                    0  ...   \n",
       "3                          0                    0  ...   \n",
       "4                          0                    0  ...   \n",
       "\n",
       "   Housing_type_House / apartment  Housing_type_Municipal apartment  \\\n",
       "0                               1                                 0   \n",
       "1                               1                                 0   \n",
       "2                               1                                 0   \n",
       "3                               1                                 0   \n",
       "4                               1                                 0   \n",
       "\n",
       "   Housing_type_Office apartment  Housing_type_Rented apartment  \\\n",
       "0                              0                              0   \n",
       "1                              0                              0   \n",
       "2                              0                              0   \n",
       "3                              0                              0   \n",
       "4                              0                              0   \n",
       "\n",
       "   Housing_type_With parents   Age  Employed_since  Type_occupation  \\\n",
       "0                          0  51.0             0.0                1   \n",
       "1                          0  37.0             2.0                1   \n",
       "2                          0  44.0             2.0                1   \n",
       "3                          0  37.0             2.0                1   \n",
       "4                          0  37.0             2.0                1   \n",
       "\n",
       "   Family_members  label  \n",
       "0               2      1  \n",
       "1               2      1  \n",
       "2               2      1  \n",
       "3               2      1  \n",
       "4               2      1  \n",
       "\n",
       "[5 rows x 31 columns]"
      ]
     },
     "execution_count": 54,
     "metadata": {},
     "output_type": "execute_result"
    }
   ],
   "source": [
    "final_df.head()"
   ]
  },
  {
   "cell_type": "code",
   "execution_count": 55,
   "id": "42296433",
   "metadata": {},
   "outputs": [],
   "source": [
    "ml_df=final_df.to_csv(\"ML_ready_Dataset.csv\")"
   ]
  },
  {
   "cell_type": "markdown",
   "id": "121176bc",
   "metadata": {},
   "source": [
    "#### <font color = 'Yellow'>---->> All the encoding of the data finished here and made the dataframe ready and saved for applying the ML Algorithms."
   ]
  },
  {
   "cell_type": "markdown",
   "id": "605e0706",
   "metadata": {},
   "source": [
    "### ----- Applying Machine Learning Algorithms -----"
   ]
  },
  {
   "cell_type": "code",
   "execution_count": 7,
   "id": "e6ce795e",
   "metadata": {},
   "outputs": [
    {
     "data": {
      "text/html": [
       "<div>\n",
       "<style scoped>\n",
       "    .dataframe tbody tr th:only-of-type {\n",
       "        vertical-align: middle;\n",
       "    }\n",
       "\n",
       "    .dataframe tbody tr th {\n",
       "        vertical-align: top;\n",
       "    }\n",
       "\n",
       "    .dataframe thead th {\n",
       "        text-align: right;\n",
       "    }\n",
       "</style>\n",
       "<table border=\"1\" class=\"dataframe\">\n",
       "  <thead>\n",
       "    <tr style=\"text-align: right;\">\n",
       "      <th></th>\n",
       "      <th>Unnamed: 0</th>\n",
       "      <th>Ind_ID</th>\n",
       "      <th>Gender</th>\n",
       "      <th>Car_owner</th>\n",
       "      <th>Property_owner</th>\n",
       "      <th>Children</th>\n",
       "      <th>Annual_income</th>\n",
       "      <th>Type_income_Commercial associate</th>\n",
       "      <th>Type_income_Pensioner</th>\n",
       "      <th>Type_income_State servant</th>\n",
       "      <th>...</th>\n",
       "      <th>Housing_type_House / apartment</th>\n",
       "      <th>Housing_type_Municipal apartment</th>\n",
       "      <th>Housing_type_Office apartment</th>\n",
       "      <th>Housing_type_Rented apartment</th>\n",
       "      <th>Housing_type_With parents</th>\n",
       "      <th>Age</th>\n",
       "      <th>Employed_since</th>\n",
       "      <th>Type_occupation</th>\n",
       "      <th>Family_members</th>\n",
       "      <th>label</th>\n",
       "    </tr>\n",
       "  </thead>\n",
       "  <tbody>\n",
       "    <tr>\n",
       "      <th>0</th>\n",
       "      <td>0</td>\n",
       "      <td>5008827</td>\n",
       "      <td>1</td>\n",
       "      <td>1</td>\n",
       "      <td>1</td>\n",
       "      <td>0</td>\n",
       "      <td>180000.00</td>\n",
       "      <td>0</td>\n",
       "      <td>1</td>\n",
       "      <td>0</td>\n",
       "      <td>...</td>\n",
       "      <td>1</td>\n",
       "      <td>0</td>\n",
       "      <td>0</td>\n",
       "      <td>0</td>\n",
       "      <td>0</td>\n",
       "      <td>51.0</td>\n",
       "      <td>0.0</td>\n",
       "      <td>1</td>\n",
       "      <td>2</td>\n",
       "      <td>1</td>\n",
       "    </tr>\n",
       "    <tr>\n",
       "      <th>1</th>\n",
       "      <td>1</td>\n",
       "      <td>5009744</td>\n",
       "      <td>0</td>\n",
       "      <td>1</td>\n",
       "      <td>0</td>\n",
       "      <td>0</td>\n",
       "      <td>315000.00</td>\n",
       "      <td>1</td>\n",
       "      <td>0</td>\n",
       "      <td>0</td>\n",
       "      <td>...</td>\n",
       "      <td>1</td>\n",
       "      <td>0</td>\n",
       "      <td>0</td>\n",
       "      <td>0</td>\n",
       "      <td>0</td>\n",
       "      <td>37.0</td>\n",
       "      <td>2.0</td>\n",
       "      <td>1</td>\n",
       "      <td>2</td>\n",
       "      <td>1</td>\n",
       "    </tr>\n",
       "    <tr>\n",
       "      <th>2</th>\n",
       "      <td>2</td>\n",
       "      <td>5009746</td>\n",
       "      <td>0</td>\n",
       "      <td>1</td>\n",
       "      <td>0</td>\n",
       "      <td>0</td>\n",
       "      <td>315000.00</td>\n",
       "      <td>1</td>\n",
       "      <td>0</td>\n",
       "      <td>0</td>\n",
       "      <td>...</td>\n",
       "      <td>1</td>\n",
       "      <td>0</td>\n",
       "      <td>0</td>\n",
       "      <td>0</td>\n",
       "      <td>0</td>\n",
       "      <td>44.0</td>\n",
       "      <td>2.0</td>\n",
       "      <td>1</td>\n",
       "      <td>2</td>\n",
       "      <td>1</td>\n",
       "    </tr>\n",
       "    <tr>\n",
       "      <th>3</th>\n",
       "      <td>3</td>\n",
       "      <td>5009749</td>\n",
       "      <td>0</td>\n",
       "      <td>1</td>\n",
       "      <td>0</td>\n",
       "      <td>0</td>\n",
       "      <td>191399.33</td>\n",
       "      <td>1</td>\n",
       "      <td>0</td>\n",
       "      <td>0</td>\n",
       "      <td>...</td>\n",
       "      <td>1</td>\n",
       "      <td>0</td>\n",
       "      <td>0</td>\n",
       "      <td>0</td>\n",
       "      <td>0</td>\n",
       "      <td>37.0</td>\n",
       "      <td>2.0</td>\n",
       "      <td>1</td>\n",
       "      <td>2</td>\n",
       "      <td>1</td>\n",
       "    </tr>\n",
       "    <tr>\n",
       "      <th>4</th>\n",
       "      <td>4</td>\n",
       "      <td>5009752</td>\n",
       "      <td>0</td>\n",
       "      <td>1</td>\n",
       "      <td>0</td>\n",
       "      <td>0</td>\n",
       "      <td>315000.00</td>\n",
       "      <td>1</td>\n",
       "      <td>0</td>\n",
       "      <td>0</td>\n",
       "      <td>...</td>\n",
       "      <td>1</td>\n",
       "      <td>0</td>\n",
       "      <td>0</td>\n",
       "      <td>0</td>\n",
       "      <td>0</td>\n",
       "      <td>37.0</td>\n",
       "      <td>2.0</td>\n",
       "      <td>1</td>\n",
       "      <td>2</td>\n",
       "      <td>1</td>\n",
       "    </tr>\n",
       "  </tbody>\n",
       "</table>\n",
       "<p>5 rows × 32 columns</p>\n",
       "</div>"
      ],
      "text/plain": [
       "   Unnamed: 0   Ind_ID  Gender  Car_owner  Property_owner  Children  \\\n",
       "0           0  5008827       1          1               1         0   \n",
       "1           1  5009744       0          1               0         0   \n",
       "2           2  5009746       0          1               0         0   \n",
       "3           3  5009749       0          1               0         0   \n",
       "4           4  5009752       0          1               0         0   \n",
       "\n",
       "   Annual_income  Type_income_Commercial associate  Type_income_Pensioner  \\\n",
       "0      180000.00                                 0                      1   \n",
       "1      315000.00                                 1                      0   \n",
       "2      315000.00                                 1                      0   \n",
       "3      191399.33                                 1                      0   \n",
       "4      315000.00                                 1                      0   \n",
       "\n",
       "   Type_income_State servant  ...  Housing_type_House / apartment  \\\n",
       "0                          0  ...                               1   \n",
       "1                          0  ...                               1   \n",
       "2                          0  ...                               1   \n",
       "3                          0  ...                               1   \n",
       "4                          0  ...                               1   \n",
       "\n",
       "   Housing_type_Municipal apartment  Housing_type_Office apartment  \\\n",
       "0                                 0                              0   \n",
       "1                                 0                              0   \n",
       "2                                 0                              0   \n",
       "3                                 0                              0   \n",
       "4                                 0                              0   \n",
       "\n",
       "   Housing_type_Rented apartment  Housing_type_With parents   Age  \\\n",
       "0                              0                          0  51.0   \n",
       "1                              0                          0  37.0   \n",
       "2                              0                          0  44.0   \n",
       "3                              0                          0  37.0   \n",
       "4                              0                          0  37.0   \n",
       "\n",
       "   Employed_since  Type_occupation  Family_members  label  \n",
       "0             0.0                1               2      1  \n",
       "1             2.0                1               2      1  \n",
       "2             2.0                1               2      1  \n",
       "3             2.0                1               2      1  \n",
       "4             2.0                1               2      1  \n",
       "\n",
       "[5 rows x 32 columns]"
      ]
     },
     "execution_count": 7,
     "metadata": {},
     "output_type": "execute_result"
    }
   ],
   "source": [
    "ml_df=pd.read_csv(\"ML_ready_Dataset.csv\")\n",
    "ml_df.head()"
   ]
  },
  {
   "cell_type": "code",
   "execution_count": 8,
   "id": "9387732c",
   "metadata": {
    "scrolled": true
   },
   "outputs": [
    {
     "data": {
      "text/html": [
       "<div>\n",
       "<style scoped>\n",
       "    .dataframe tbody tr th:only-of-type {\n",
       "        vertical-align: middle;\n",
       "    }\n",
       "\n",
       "    .dataframe tbody tr th {\n",
       "        vertical-align: top;\n",
       "    }\n",
       "\n",
       "    .dataframe thead th {\n",
       "        text-align: right;\n",
       "    }\n",
       "</style>\n",
       "<table border=\"1\" class=\"dataframe\">\n",
       "  <thead>\n",
       "    <tr style=\"text-align: right;\">\n",
       "      <th></th>\n",
       "      <th>Gender</th>\n",
       "      <th>Car_owner</th>\n",
       "      <th>Property_owner</th>\n",
       "      <th>Children</th>\n",
       "      <th>Annual_income</th>\n",
       "      <th>Type_income_Commercial associate</th>\n",
       "      <th>Type_income_Pensioner</th>\n",
       "      <th>Type_income_State servant</th>\n",
       "      <th>Type_income_Working</th>\n",
       "      <th>Education_Academic degree</th>\n",
       "      <th>...</th>\n",
       "      <th>Housing_type_House / apartment</th>\n",
       "      <th>Housing_type_Municipal apartment</th>\n",
       "      <th>Housing_type_Office apartment</th>\n",
       "      <th>Housing_type_Rented apartment</th>\n",
       "      <th>Housing_type_With parents</th>\n",
       "      <th>Age</th>\n",
       "      <th>Employed_since</th>\n",
       "      <th>Type_occupation</th>\n",
       "      <th>Family_members</th>\n",
       "      <th>label</th>\n",
       "    </tr>\n",
       "  </thead>\n",
       "  <tbody>\n",
       "    <tr>\n",
       "      <th>0</th>\n",
       "      <td>1</td>\n",
       "      <td>1</td>\n",
       "      <td>1</td>\n",
       "      <td>0</td>\n",
       "      <td>180000.00</td>\n",
       "      <td>0</td>\n",
       "      <td>1</td>\n",
       "      <td>0</td>\n",
       "      <td>0</td>\n",
       "      <td>0</td>\n",
       "      <td>...</td>\n",
       "      <td>1</td>\n",
       "      <td>0</td>\n",
       "      <td>0</td>\n",
       "      <td>0</td>\n",
       "      <td>0</td>\n",
       "      <td>51.0</td>\n",
       "      <td>0.0</td>\n",
       "      <td>1</td>\n",
       "      <td>2</td>\n",
       "      <td>1</td>\n",
       "    </tr>\n",
       "    <tr>\n",
       "      <th>1</th>\n",
       "      <td>0</td>\n",
       "      <td>1</td>\n",
       "      <td>0</td>\n",
       "      <td>0</td>\n",
       "      <td>315000.00</td>\n",
       "      <td>1</td>\n",
       "      <td>0</td>\n",
       "      <td>0</td>\n",
       "      <td>0</td>\n",
       "      <td>0</td>\n",
       "      <td>...</td>\n",
       "      <td>1</td>\n",
       "      <td>0</td>\n",
       "      <td>0</td>\n",
       "      <td>0</td>\n",
       "      <td>0</td>\n",
       "      <td>37.0</td>\n",
       "      <td>2.0</td>\n",
       "      <td>1</td>\n",
       "      <td>2</td>\n",
       "      <td>1</td>\n",
       "    </tr>\n",
       "    <tr>\n",
       "      <th>2</th>\n",
       "      <td>0</td>\n",
       "      <td>1</td>\n",
       "      <td>0</td>\n",
       "      <td>0</td>\n",
       "      <td>315000.00</td>\n",
       "      <td>1</td>\n",
       "      <td>0</td>\n",
       "      <td>0</td>\n",
       "      <td>0</td>\n",
       "      <td>0</td>\n",
       "      <td>...</td>\n",
       "      <td>1</td>\n",
       "      <td>0</td>\n",
       "      <td>0</td>\n",
       "      <td>0</td>\n",
       "      <td>0</td>\n",
       "      <td>44.0</td>\n",
       "      <td>2.0</td>\n",
       "      <td>1</td>\n",
       "      <td>2</td>\n",
       "      <td>1</td>\n",
       "    </tr>\n",
       "    <tr>\n",
       "      <th>3</th>\n",
       "      <td>0</td>\n",
       "      <td>1</td>\n",
       "      <td>0</td>\n",
       "      <td>0</td>\n",
       "      <td>191399.33</td>\n",
       "      <td>1</td>\n",
       "      <td>0</td>\n",
       "      <td>0</td>\n",
       "      <td>0</td>\n",
       "      <td>0</td>\n",
       "      <td>...</td>\n",
       "      <td>1</td>\n",
       "      <td>0</td>\n",
       "      <td>0</td>\n",
       "      <td>0</td>\n",
       "      <td>0</td>\n",
       "      <td>37.0</td>\n",
       "      <td>2.0</td>\n",
       "      <td>1</td>\n",
       "      <td>2</td>\n",
       "      <td>1</td>\n",
       "    </tr>\n",
       "    <tr>\n",
       "      <th>4</th>\n",
       "      <td>0</td>\n",
       "      <td>1</td>\n",
       "      <td>0</td>\n",
       "      <td>0</td>\n",
       "      <td>315000.00</td>\n",
       "      <td>1</td>\n",
       "      <td>0</td>\n",
       "      <td>0</td>\n",
       "      <td>0</td>\n",
       "      <td>0</td>\n",
       "      <td>...</td>\n",
       "      <td>1</td>\n",
       "      <td>0</td>\n",
       "      <td>0</td>\n",
       "      <td>0</td>\n",
       "      <td>0</td>\n",
       "      <td>37.0</td>\n",
       "      <td>2.0</td>\n",
       "      <td>1</td>\n",
       "      <td>2</td>\n",
       "      <td>1</td>\n",
       "    </tr>\n",
       "  </tbody>\n",
       "</table>\n",
       "<p>5 rows × 30 columns</p>\n",
       "</div>"
      ],
      "text/plain": [
       "   Gender  Car_owner  Property_owner  Children  Annual_income  \\\n",
       "0       1          1               1         0      180000.00   \n",
       "1       0          1               0         0      315000.00   \n",
       "2       0          1               0         0      315000.00   \n",
       "3       0          1               0         0      191399.33   \n",
       "4       0          1               0         0      315000.00   \n",
       "\n",
       "   Type_income_Commercial associate  Type_income_Pensioner  \\\n",
       "0                                 0                      1   \n",
       "1                                 1                      0   \n",
       "2                                 1                      0   \n",
       "3                                 1                      0   \n",
       "4                                 1                      0   \n",
       "\n",
       "   Type_income_State servant  Type_income_Working  Education_Academic degree  \\\n",
       "0                          0                    0                          0   \n",
       "1                          0                    0                          0   \n",
       "2                          0                    0                          0   \n",
       "3                          0                    0                          0   \n",
       "4                          0                    0                          0   \n",
       "\n",
       "   ...  Housing_type_House / apartment  Housing_type_Municipal apartment  \\\n",
       "0  ...                               1                                 0   \n",
       "1  ...                               1                                 0   \n",
       "2  ...                               1                                 0   \n",
       "3  ...                               1                                 0   \n",
       "4  ...                               1                                 0   \n",
       "\n",
       "   Housing_type_Office apartment  Housing_type_Rented apartment  \\\n",
       "0                              0                              0   \n",
       "1                              0                              0   \n",
       "2                              0                              0   \n",
       "3                              0                              0   \n",
       "4                              0                              0   \n",
       "\n",
       "   Housing_type_With parents   Age  Employed_since  Type_occupation  \\\n",
       "0                          0  51.0             0.0                1   \n",
       "1                          0  37.0             2.0                1   \n",
       "2                          0  44.0             2.0                1   \n",
       "3                          0  37.0             2.0                1   \n",
       "4                          0  37.0             2.0                1   \n",
       "\n",
       "   Family_members  label  \n",
       "0               2      1  \n",
       "1               2      1  \n",
       "2               2      1  \n",
       "3               2      1  \n",
       "4               2      1  \n",
       "\n",
       "[5 rows x 30 columns]"
      ]
     },
     "execution_count": 8,
     "metadata": {},
     "output_type": "execute_result"
    }
   ],
   "source": [
    "ml_df.drop(columns=[\"Unnamed: 0\",\"Ind_ID\"],inplace=True)\n",
    "ml_df.head()\n",
    "\n",
    "#### Here droping The \"Ind_ID\" Column as it may hamper in trainin and testing Models ####"
   ]
  },
  {
   "cell_type": "markdown",
   "id": "5769e7c8",
   "metadata": {},
   "source": [
    "#### <font color = 'Orange'>---- Feature Selection and Model Building [ML MODEL] ----"
   ]
  },
  {
   "cell_type": "markdown",
   "id": "54790597",
   "metadata": {},
   "source": [
    "#### <font color = 'White'>---- Feature Scaling ----"
   ]
  },
  {
   "cell_type": "code",
   "execution_count": 20,
   "id": "18d0c836",
   "metadata": {},
   "outputs": [
    {
     "data": {
      "text/plain": [
       "0    1371\n",
       "1     170\n",
       "Name: label, dtype: int64"
      ]
     },
     "execution_count": 20,
     "metadata": {},
     "output_type": "execute_result"
    }
   ],
   "source": [
    "ml_df[\"label\"].value_counts()"
   ]
  },
  {
   "cell_type": "markdown",
   "id": "9bef145c",
   "metadata": {},
   "source": [
    "##### <font color = 'White'>---->> Here label \"0\" means Application approved for that customer.\n",
    " ---->>Here label \"1\" means Application not approved for that customer."
   ]
  },
  {
   "cell_type": "code",
   "execution_count": 36,
   "id": "c14bbd4a",
   "metadata": {},
   "outputs": [],
   "source": [
    "from sklearn.model_selection import train_test_split    #### For Training and Testing ####\n",
    "from sklearn.model_selection import ShuffleSplit    #### For Applying Cross Validation ####\n",
    "from sklearn.model_selection import cross_val_score    #### For Checking The Cross Validation Score ####"
   ]
  },
  {
   "cell_type": "code",
   "execution_count": 141,
   "id": "8f309a3b",
   "metadata": {},
   "outputs": [],
   "source": [
    "#### Spliting The Datframe ####\n",
    "X=ml_df.drop(columns=[\"label\"])\n",
    "Y=ml_df[\"label\"]\n",
    "\n",
    "X_train,X_test,Y_train,Y_test=train_test_split(X,Y,train_size=0.75,test_size=0.25,stratify=Y,\n",
    "                                               random_state=1100) "
   ]
  },
  {
   "cell_type": "code",
   "execution_count": 142,
   "id": "08e4b91b",
   "metadata": {},
   "outputs": [
    {
     "data": {
      "text/plain": [
       "((1155, 29), (386, 29), (1155,), (386,))"
      ]
     },
     "execution_count": 142,
     "metadata": {},
     "output_type": "execute_result"
    }
   ],
   "source": [
    "X_train.shape , X_test.shape , Y_train.shape , Y_test.shape"
   ]
  },
  {
   "cell_type": "markdown",
   "id": "817da265",
   "metadata": {},
   "source": [
    "#### <font color = 'White'>---- Standardization or Scaling The dataframe using Standard Scaler Function ----"
   ]
  },
  {
   "cell_type": "code",
   "execution_count": 23,
   "id": "b25ed4af",
   "metadata": {},
   "outputs": [],
   "source": [
    "from sklearn.preprocessing import StandardScaler"
   ]
  },
  {
   "cell_type": "code",
   "execution_count": 143,
   "id": "920cbf60",
   "metadata": {},
   "outputs": [
    {
     "data": {
      "text/plain": [
       "((1155, 29), (386, 29))"
      ]
     },
     "execution_count": 143,
     "metadata": {},
     "output_type": "execute_result"
    }
   ],
   "source": [
    "std_scaler=StandardScaler()\n",
    "std_X_train=std_scaler.fit_transform(X_train)\n",
    "std_X_test=std_scaler.fit_transform(X_test)\n",
    "\n",
    "std_X_train.shape , std_X_test.shape"
   ]
  },
  {
   "cell_type": "markdown",
   "id": "d7612389",
   "metadata": {},
   "source": [
    "### ---- Applying Different ML Algorithms to these Splitted Dataframes for Checking Which of these Algorithms are Best Suitable for Predictive Model ----"
   ]
  },
  {
   "cell_type": "markdown",
   "id": "38559a49",
   "metadata": {},
   "source": [
    "#### <font color = 'Orange'>---- Logistic Regression ----"
   ]
  },
  {
   "cell_type": "markdown",
   "id": "60bd9ad6",
   "metadata": {},
   "source": [
    "#### <font color = 'White'> ---- Model Training ----"
   ]
  },
  {
   "cell_type": "code",
   "execution_count": 144,
   "id": "5997fd98",
   "metadata": {},
   "outputs": [],
   "source": [
    "from sklearn.linear_model import LogisticRegression\n",
    "from sklearn.metrics import accuracy_score"
   ]
  },
  {
   "cell_type": "code",
   "execution_count": 149,
   "id": "5f103464",
   "metadata": {},
   "outputs": [
    {
     "data": {
      "text/html": [
       "<style>#sk-container-id-17 {color: black;background-color: white;}#sk-container-id-17 pre{padding: 0;}#sk-container-id-17 div.sk-toggleable {background-color: white;}#sk-container-id-17 label.sk-toggleable__label {cursor: pointer;display: block;width: 100%;margin-bottom: 0;padding: 0.3em;box-sizing: border-box;text-align: center;}#sk-container-id-17 label.sk-toggleable__label-arrow:before {content: \"▸\";float: left;margin-right: 0.25em;color: #696969;}#sk-container-id-17 label.sk-toggleable__label-arrow:hover:before {color: black;}#sk-container-id-17 div.sk-estimator:hover label.sk-toggleable__label-arrow:before {color: black;}#sk-container-id-17 div.sk-toggleable__content {max-height: 0;max-width: 0;overflow: hidden;text-align: left;background-color: #f0f8ff;}#sk-container-id-17 div.sk-toggleable__content pre {margin: 0.2em;color: black;border-radius: 0.25em;background-color: #f0f8ff;}#sk-container-id-17 input.sk-toggleable__control:checked~div.sk-toggleable__content {max-height: 200px;max-width: 100%;overflow: auto;}#sk-container-id-17 input.sk-toggleable__control:checked~label.sk-toggleable__label-arrow:before {content: \"▾\";}#sk-container-id-17 div.sk-estimator input.sk-toggleable__control:checked~label.sk-toggleable__label {background-color: #d4ebff;}#sk-container-id-17 div.sk-label input.sk-toggleable__control:checked~label.sk-toggleable__label {background-color: #d4ebff;}#sk-container-id-17 input.sk-hidden--visually {border: 0;clip: rect(1px 1px 1px 1px);clip: rect(1px, 1px, 1px, 1px);height: 1px;margin: -1px;overflow: hidden;padding: 0;position: absolute;width: 1px;}#sk-container-id-17 div.sk-estimator {font-family: monospace;background-color: #f0f8ff;border: 1px dotted black;border-radius: 0.25em;box-sizing: border-box;margin-bottom: 0.5em;}#sk-container-id-17 div.sk-estimator:hover {background-color: #d4ebff;}#sk-container-id-17 div.sk-parallel-item::after {content: \"\";width: 100%;border-bottom: 1px solid gray;flex-grow: 1;}#sk-container-id-17 div.sk-label:hover label.sk-toggleable__label {background-color: #d4ebff;}#sk-container-id-17 div.sk-serial::before {content: \"\";position: absolute;border-left: 1px solid gray;box-sizing: border-box;top: 0;bottom: 0;left: 50%;z-index: 0;}#sk-container-id-17 div.sk-serial {display: flex;flex-direction: column;align-items: center;background-color: white;padding-right: 0.2em;padding-left: 0.2em;position: relative;}#sk-container-id-17 div.sk-item {position: relative;z-index: 1;}#sk-container-id-17 div.sk-parallel {display: flex;align-items: stretch;justify-content: center;background-color: white;position: relative;}#sk-container-id-17 div.sk-item::before, #sk-container-id-17 div.sk-parallel-item::before {content: \"\";position: absolute;border-left: 1px solid gray;box-sizing: border-box;top: 0;bottom: 0;left: 50%;z-index: -1;}#sk-container-id-17 div.sk-parallel-item {display: flex;flex-direction: column;z-index: 1;position: relative;background-color: white;}#sk-container-id-17 div.sk-parallel-item:first-child::after {align-self: flex-end;width: 50%;}#sk-container-id-17 div.sk-parallel-item:last-child::after {align-self: flex-start;width: 50%;}#sk-container-id-17 div.sk-parallel-item:only-child::after {width: 0;}#sk-container-id-17 div.sk-dashed-wrapped {border: 1px dashed gray;margin: 0 0.4em 0.5em 0.4em;box-sizing: border-box;padding-bottom: 0.4em;background-color: white;}#sk-container-id-17 div.sk-label label {font-family: monospace;font-weight: bold;display: inline-block;line-height: 1.2em;}#sk-container-id-17 div.sk-label-container {text-align: center;}#sk-container-id-17 div.sk-container {/* jupyter's `normalize.less` sets `[hidden] { display: none; }` but bootstrap.min.css set `[hidden] { display: none !important; }` so we also need the `!important` here to be able to override the default hidden behavior on the sphinx rendered scikit-learn.org. See: https://github.com/scikit-learn/scikit-learn/issues/21755 */display: inline-block !important;position: relative;}#sk-container-id-17 div.sk-text-repr-fallback {display: none;}</style><div id=\"sk-container-id-17\" class=\"sk-top-container\"><div class=\"sk-text-repr-fallback\"><pre>LogisticRegression(max_iter=280, random_state=1000, solver=&#x27;liblinear&#x27;)</pre><b>In a Jupyter environment, please rerun this cell to show the HTML representation or trust the notebook. <br />On GitHub, the HTML representation is unable to render, please try loading this page with nbviewer.org.</b></div><div class=\"sk-container\" hidden><div class=\"sk-item\"><div class=\"sk-estimator sk-toggleable\"><input class=\"sk-toggleable__control sk-hidden--visually\" id=\"sk-estimator-id-17\" type=\"checkbox\" checked><label for=\"sk-estimator-id-17\" class=\"sk-toggleable__label sk-toggleable__label-arrow\">LogisticRegression</label><div class=\"sk-toggleable__content\"><pre>LogisticRegression(max_iter=280, random_state=1000, solver=&#x27;liblinear&#x27;)</pre></div></div></div></div></div>"
      ],
      "text/plain": [
       "LogisticRegression(max_iter=280, random_state=1000, solver='liblinear')"
      ]
     },
     "execution_count": 149,
     "metadata": {},
     "output_type": "execute_result"
    }
   ],
   "source": [
    "log_reg=LogisticRegression(max_iter=280,solver=\"liblinear\",C=1.0,random_state=1000)\n",
    "log_reg.fit(std_X_train,Y_train)"
   ]
  },
  {
   "cell_type": "markdown",
   "id": "c4b3bf83",
   "metadata": {},
   "source": [
    "#### <font color = 'White'>---- Model Evaluation ----"
   ]
  },
  {
   "cell_type": "code",
   "execution_count": 150,
   "id": "99e9b39e",
   "metadata": {},
   "outputs": [
    {
     "data": {
      "text/plain": [
       "array([0, 0, 0, 0, 0, 0, 0, 0, 0, 0, 0, 0, 0, 1, 0, 0, 0, 0, 0, 0, 0, 0,\n",
       "       0, 0, 0, 0, 0, 0, 0, 0, 0, 0, 0, 0, 0, 0, 0, 0, 0, 0, 0, 0, 0, 0,\n",
       "       0, 0, 0, 0, 0, 0, 0, 0, 0, 0, 0, 0, 0, 0, 0, 0, 0, 0, 0, 0, 0, 0,\n",
       "       0, 0, 0, 0, 0, 0, 0, 0, 0, 0, 0, 0, 0, 0, 0, 0, 0, 0, 0, 0, 0, 0,\n",
       "       0, 0, 0, 0, 0, 0, 0, 0, 0, 0, 0, 0, 0, 0, 1, 0, 0, 0, 0, 0, 0, 0,\n",
       "       0, 0, 0, 0, 0, 0, 0, 0, 0, 0, 0, 0, 0, 0, 0, 0, 0, 0, 0, 0, 0, 0,\n",
       "       0, 0, 0, 0, 0, 0, 0, 0, 0, 0, 0, 0, 0, 0, 0, 0, 1, 0, 0, 0, 0, 0,\n",
       "       0, 0, 0, 0, 0, 0, 0, 0, 0, 0, 0, 0, 0, 0, 0, 0, 0, 0, 0, 0, 0, 0,\n",
       "       0, 0, 0, 0, 0, 0, 0, 0, 0, 0, 0, 0, 0, 0, 0, 0, 0, 0, 0, 0, 0, 0,\n",
       "       0, 0, 0, 0, 0, 0, 0, 0, 0, 0, 0, 0, 0, 0, 0, 0, 0, 0, 0, 0, 0, 0,\n",
       "       0, 0, 0, 0, 0, 0, 0, 0, 0, 0, 0, 0, 0, 0, 0, 0, 0, 0, 0, 0, 0, 0,\n",
       "       0, 0, 0, 0, 0, 0, 0, 0, 0, 0, 0, 0, 0, 0, 0, 0, 0, 0, 0, 0, 0, 0,\n",
       "       0, 0, 0, 0, 0, 0, 0, 0, 0, 0, 0, 0, 0, 0, 0, 0, 0, 0, 0, 0, 0, 0,\n",
       "       0, 0, 0, 0, 0, 0, 0, 0, 0, 0, 0, 0, 0, 0, 0, 0, 0, 0, 0, 0, 0, 0,\n",
       "       0, 0, 0, 0, 0, 0, 0, 0, 0, 0, 0, 0, 0, 0, 0, 0, 0, 0, 0, 0, 0, 0,\n",
       "       0, 0, 0, 0, 0, 0, 0, 0, 0, 0, 0, 0, 0, 0, 0, 0, 0, 0, 0, 0, 0, 0,\n",
       "       0, 0, 0, 0, 0, 0, 0, 0, 0, 0, 0, 0, 0, 0, 0, 0, 0, 0, 0, 0, 0, 0,\n",
       "       0, 0, 0, 0, 0, 0, 0, 0, 0, 0, 0, 0], dtype=int64)"
      ]
     },
     "execution_count": 150,
     "metadata": {},
     "output_type": "execute_result"
    }
   ],
   "source": [
    "Y_pred=log_reg.predict(std_X_test)\n",
    "Y_pred"
   ]
  },
  {
   "cell_type": "code",
   "execution_count": 151,
   "id": "6af873c8",
   "metadata": {},
   "outputs": [
    {
     "data": {
      "text/plain": [
       "1356    0\n",
       "862     0\n",
       "638     0\n",
       "1343    0\n",
       "1440    0\n",
       "       ..\n",
       "272     0\n",
       "912     0\n",
       "1216    0\n",
       "1492    0\n",
       "830     0\n",
       "Name: label, Length: 386, dtype: int64"
      ]
     },
     "execution_count": 151,
     "metadata": {},
     "output_type": "execute_result"
    }
   ],
   "source": [
    "Y_test"
   ]
  },
  {
   "cell_type": "code",
   "execution_count": 152,
   "id": "2a5c340a",
   "metadata": {},
   "outputs": [
    {
     "data": {
      "text/plain": [
       "array([[341,   2],\n",
       "       [ 42,   1]], dtype=int64)"
      ]
     },
     "execution_count": 152,
     "metadata": {},
     "output_type": "execute_result"
    }
   ],
   "source": [
    "from sklearn.metrics import confusion_matrix\n",
    "confusion_matrix(Y_test,Y_pred)"
   ]
  },
  {
   "cell_type": "markdown",
   "id": "977ee8c1",
   "metadata": {},
   "source": [
    "#### <font color = 'Yellow'>---->> With Confusion matrix we can observe that here out of 386 , 342 are correctly predicted and rest 44 are wrong predictions."
   ]
  },
  {
   "cell_type": "code",
   "execution_count": 153,
   "id": "26cf794d",
   "metadata": {},
   "outputs": [
    {
     "data": {
      "text/plain": [
       "0.8860103626943006"
      ]
     },
     "execution_count": 153,
     "metadata": {},
     "output_type": "execute_result"
    }
   ],
   "source": [
    "#### Checking Accuracy Score ####\n",
    "accuracy_score(Y_test,Y_pred)"
   ]
  },
  {
   "cell_type": "markdown",
   "id": "7d36bfa5",
   "metadata": {},
   "source": [
    "#### <font color = 'White'>---- Cross Validation of Logistic Regession Model ----"
   ]
  },
  {
   "cell_type": "code",
   "execution_count": 154,
   "id": "23707dc1",
   "metadata": {},
   "outputs": [],
   "source": [
    "model=LogisticRegression()\n",
    "ssplit=ShuffleSplit(n_splits=10,test_size=0.25)\n",
    "result=cross_val_score(model,X,Y,cv=ssplit)"
   ]
  },
  {
   "cell_type": "code",
   "execution_count": 155,
   "id": "a394b052",
   "metadata": {},
   "outputs": [
    {
     "name": "stdout",
     "output_type": "stream",
     "text": [
      "[0.8626943  0.9015544  0.88082902 0.90414508 0.87305699 0.88082902\n",
      " 0.88082902 0.86787565 0.88082902 0.87823834]\n",
      "0.8810880829015544\n"
     ]
    }
   ],
   "source": [
    "print(result)\n",
    "print(result.mean())"
   ]
  },
  {
   "cell_type": "markdown",
   "id": "755ba121",
   "metadata": {},
   "source": [
    "#### <font color = 'Orange'>---- Decision Tree ----"
   ]
  },
  {
   "cell_type": "code",
   "execution_count": 93,
   "id": "912282e9",
   "metadata": {},
   "outputs": [],
   "source": [
    "from sklearn.tree import DecisionTreeClassifier\n",
    "from sklearn.metrics import accuracy_score"
   ]
  },
  {
   "cell_type": "markdown",
   "id": "12a12199",
   "metadata": {},
   "source": [
    "#### <font color = 'White'>---- Model Training ----"
   ]
  },
  {
   "cell_type": "code",
   "execution_count": 133,
   "id": "bd297919",
   "metadata": {},
   "outputs": [
    {
     "data": {
      "text/html": [
       "<style>#sk-container-id-15 {color: black;background-color: white;}#sk-container-id-15 pre{padding: 0;}#sk-container-id-15 div.sk-toggleable {background-color: white;}#sk-container-id-15 label.sk-toggleable__label {cursor: pointer;display: block;width: 100%;margin-bottom: 0;padding: 0.3em;box-sizing: border-box;text-align: center;}#sk-container-id-15 label.sk-toggleable__label-arrow:before {content: \"▸\";float: left;margin-right: 0.25em;color: #696969;}#sk-container-id-15 label.sk-toggleable__label-arrow:hover:before {color: black;}#sk-container-id-15 div.sk-estimator:hover label.sk-toggleable__label-arrow:before {color: black;}#sk-container-id-15 div.sk-toggleable__content {max-height: 0;max-width: 0;overflow: hidden;text-align: left;background-color: #f0f8ff;}#sk-container-id-15 div.sk-toggleable__content pre {margin: 0.2em;color: black;border-radius: 0.25em;background-color: #f0f8ff;}#sk-container-id-15 input.sk-toggleable__control:checked~div.sk-toggleable__content {max-height: 200px;max-width: 100%;overflow: auto;}#sk-container-id-15 input.sk-toggleable__control:checked~label.sk-toggleable__label-arrow:before {content: \"▾\";}#sk-container-id-15 div.sk-estimator input.sk-toggleable__control:checked~label.sk-toggleable__label {background-color: #d4ebff;}#sk-container-id-15 div.sk-label input.sk-toggleable__control:checked~label.sk-toggleable__label {background-color: #d4ebff;}#sk-container-id-15 input.sk-hidden--visually {border: 0;clip: rect(1px 1px 1px 1px);clip: rect(1px, 1px, 1px, 1px);height: 1px;margin: -1px;overflow: hidden;padding: 0;position: absolute;width: 1px;}#sk-container-id-15 div.sk-estimator {font-family: monospace;background-color: #f0f8ff;border: 1px dotted black;border-radius: 0.25em;box-sizing: border-box;margin-bottom: 0.5em;}#sk-container-id-15 div.sk-estimator:hover {background-color: #d4ebff;}#sk-container-id-15 div.sk-parallel-item::after {content: \"\";width: 100%;border-bottom: 1px solid gray;flex-grow: 1;}#sk-container-id-15 div.sk-label:hover label.sk-toggleable__label {background-color: #d4ebff;}#sk-container-id-15 div.sk-serial::before {content: \"\";position: absolute;border-left: 1px solid gray;box-sizing: border-box;top: 0;bottom: 0;left: 50%;z-index: 0;}#sk-container-id-15 div.sk-serial {display: flex;flex-direction: column;align-items: center;background-color: white;padding-right: 0.2em;padding-left: 0.2em;position: relative;}#sk-container-id-15 div.sk-item {position: relative;z-index: 1;}#sk-container-id-15 div.sk-parallel {display: flex;align-items: stretch;justify-content: center;background-color: white;position: relative;}#sk-container-id-15 div.sk-item::before, #sk-container-id-15 div.sk-parallel-item::before {content: \"\";position: absolute;border-left: 1px solid gray;box-sizing: border-box;top: 0;bottom: 0;left: 50%;z-index: -1;}#sk-container-id-15 div.sk-parallel-item {display: flex;flex-direction: column;z-index: 1;position: relative;background-color: white;}#sk-container-id-15 div.sk-parallel-item:first-child::after {align-self: flex-end;width: 50%;}#sk-container-id-15 div.sk-parallel-item:last-child::after {align-self: flex-start;width: 50%;}#sk-container-id-15 div.sk-parallel-item:only-child::after {width: 0;}#sk-container-id-15 div.sk-dashed-wrapped {border: 1px dashed gray;margin: 0 0.4em 0.5em 0.4em;box-sizing: border-box;padding-bottom: 0.4em;background-color: white;}#sk-container-id-15 div.sk-label label {font-family: monospace;font-weight: bold;display: inline-block;line-height: 1.2em;}#sk-container-id-15 div.sk-label-container {text-align: center;}#sk-container-id-15 div.sk-container {/* jupyter's `normalize.less` sets `[hidden] { display: none; }` but bootstrap.min.css set `[hidden] { display: none !important; }` so we also need the `!important` here to be able to override the default hidden behavior on the sphinx rendered scikit-learn.org. See: https://github.com/scikit-learn/scikit-learn/issues/21755 */display: inline-block !important;position: relative;}#sk-container-id-15 div.sk-text-repr-fallback {display: none;}</style><div id=\"sk-container-id-15\" class=\"sk-top-container\"><div class=\"sk-text-repr-fallback\"><pre>DecisionTreeClassifier(max_depth=10, max_features=7, random_state=1000)</pre><b>In a Jupyter environment, please rerun this cell to show the HTML representation or trust the notebook. <br />On GitHub, the HTML representation is unable to render, please try loading this page with nbviewer.org.</b></div><div class=\"sk-container\" hidden><div class=\"sk-item\"><div class=\"sk-estimator sk-toggleable\"><input class=\"sk-toggleable__control sk-hidden--visually\" id=\"sk-estimator-id-15\" type=\"checkbox\" checked><label for=\"sk-estimator-id-15\" class=\"sk-toggleable__label sk-toggleable__label-arrow\">DecisionTreeClassifier</label><div class=\"sk-toggleable__content\"><pre>DecisionTreeClassifier(max_depth=10, max_features=7, random_state=1000)</pre></div></div></div></div></div>"
      ],
      "text/plain": [
       "DecisionTreeClassifier(max_depth=10, max_features=7, random_state=1000)"
      ]
     },
     "execution_count": 133,
     "metadata": {},
     "output_type": "execute_result"
    }
   ],
   "source": [
    "dec_tree=DecisionTreeClassifier(max_depth=10,max_features=7,random_state=1000)\n",
    "dec_tree.fit(std_X_train,Y_train)"
   ]
  },
  {
   "cell_type": "markdown",
   "id": "e8e96640",
   "metadata": {},
   "source": [
    "#### <font color = 'White'>---- Model Evaluation ----"
   ]
  },
  {
   "cell_type": "code",
   "execution_count": 134,
   "id": "774d23b7",
   "metadata": {},
   "outputs": [
    {
     "data": {
      "text/plain": [
       "array([0, 0, 0, 0, 0, 0, 0, 0, 0, 0, 0, 0, 0, 0, 0, 0, 0, 0, 0, 0, 0, 0,\n",
       "       0, 0, 0, 0, 0, 0, 0, 0, 0, 0, 0, 0, 0, 0, 0, 0, 0, 0, 0, 0, 1, 0,\n",
       "       0, 0, 0, 0, 0, 0, 0, 0, 0, 0, 0, 0, 0, 0, 0, 0, 0, 0, 0, 0, 0, 0,\n",
       "       0, 0, 0, 0, 0, 0, 0, 0, 0, 0, 1, 0, 0, 0, 0, 0, 0, 0, 0, 0, 0, 0,\n",
       "       0, 0, 0, 0, 0, 0, 0, 0, 1, 0, 0, 0, 0, 0, 0, 0, 0, 0, 0, 0, 0, 0,\n",
       "       0, 0, 0, 0, 0, 0, 0, 0, 0, 0, 0, 0, 0, 0, 0, 0, 0, 0, 0, 0, 0, 0,\n",
       "       0, 0, 0, 0, 0, 0, 0, 0, 0, 0, 0, 1, 0, 0, 0, 0, 0, 0, 0, 0, 0, 0,\n",
       "       0, 0, 0, 0, 0, 0, 0, 0, 0, 0, 0, 0, 0, 0, 0, 0, 0, 0, 0, 0, 0, 0,\n",
       "       0, 0, 0, 0, 0, 0, 0, 0, 0, 0, 0, 0, 0, 0, 0, 0, 0, 0, 0, 0, 0, 0,\n",
       "       0, 0, 0, 0, 0, 0, 0, 0, 0, 0, 0, 0, 0, 0, 0, 0, 0, 0, 0, 0, 0, 0,\n",
       "       0, 0, 0, 0, 0, 0, 0, 0, 0, 0, 0, 0, 0, 0, 0, 0, 0, 0, 0, 0, 0, 0,\n",
       "       0, 0, 0, 1, 0, 0, 0, 0, 0, 0, 0, 0, 0, 0, 0, 0, 1, 0, 0, 0, 0, 0,\n",
       "       0, 0, 0, 0, 0, 0, 0, 0, 0, 0, 0, 0, 0, 0, 0, 0, 0, 0, 0, 0, 0, 0,\n",
       "       0, 0, 0, 0, 0, 0, 0, 0, 0, 0, 0, 0, 0, 0, 0, 0, 0, 0, 0, 0, 0, 0,\n",
       "       0, 0, 0, 0, 0, 0, 0, 0, 0, 0, 0, 0, 0, 0, 0, 0, 0, 0, 1, 0, 0, 0,\n",
       "       0, 0, 0, 0, 0, 0, 0, 0, 0, 0, 0, 0, 0, 0, 0, 0, 0, 0, 0, 0, 0, 0,\n",
       "       0, 0, 0, 0, 0, 0, 0, 0, 0, 0, 0, 0, 0, 0, 0, 0, 0, 0, 0, 0, 0, 0,\n",
       "       0, 0, 0, 0, 1, 0, 0, 0, 0, 0, 0, 0], dtype=int64)"
      ]
     },
     "execution_count": 134,
     "metadata": {},
     "output_type": "execute_result"
    }
   ],
   "source": [
    "Y_pred=dec_tree.predict(std_X_test)\n",
    "Y_pred"
   ]
  },
  {
   "cell_type": "code",
   "execution_count": 135,
   "id": "9bceb774",
   "metadata": {},
   "outputs": [
    {
     "data": {
      "text/plain": [
       "245     0\n",
       "211     0\n",
       "232     0\n",
       "900     0\n",
       "555     0\n",
       "       ..\n",
       "1174    0\n",
       "742     0\n",
       "1102    0\n",
       "562     0\n",
       "893     0\n",
       "Name: label, Length: 386, dtype: int64"
      ]
     },
     "execution_count": 135,
     "metadata": {},
     "output_type": "execute_result"
    }
   ],
   "source": [
    "Y_test"
   ]
  },
  {
   "cell_type": "code",
   "execution_count": 136,
   "id": "a1f4759d",
   "metadata": {},
   "outputs": [
    {
     "data": {
      "text/plain": [
       "array([[338,   5],\n",
       "       [ 40,   3]], dtype=int64)"
      ]
     },
     "execution_count": 136,
     "metadata": {},
     "output_type": "execute_result"
    }
   ],
   "source": [
    "from sklearn.metrics import confusion_matrix\n",
    "confusion_matrix(Y_test,Y_pred)"
   ]
  },
  {
   "cell_type": "markdown",
   "id": "66abd969",
   "metadata": {},
   "source": [
    "#### <font color = 'Yellow'>---->> With Confusion matrix we can observe that here out of 386 , 341 are correctly predicted and rest 45 are wrong predictions."
   ]
  },
  {
   "cell_type": "code",
   "execution_count": 137,
   "id": "ebe5b137",
   "metadata": {},
   "outputs": [
    {
     "data": {
      "text/plain": [
       "0.883419689119171"
      ]
     },
     "execution_count": 137,
     "metadata": {},
     "output_type": "execute_result"
    }
   ],
   "source": [
    "accuracy_score(Y_test,Y_pred)"
   ]
  },
  {
   "cell_type": "markdown",
   "id": "cf9e027a",
   "metadata": {},
   "source": [
    "#### <font color = 'White'>---- Cross Validation of Decision Tree Model ----"
   ]
  },
  {
   "cell_type": "code",
   "execution_count": 138,
   "id": "cb85a119",
   "metadata": {},
   "outputs": [],
   "source": [
    "model=DecisionTreeClassifier()\n",
    "ssplit=ShuffleSplit(n_splits=10,test_size=0.25)\n",
    "result=cross_val_score(model,X,Y,cv=ssplit)"
   ]
  },
  {
   "cell_type": "code",
   "execution_count": 139,
   "id": "41d20a3d",
   "metadata": {},
   "outputs": [
    {
     "name": "stdout",
     "output_type": "stream",
     "text": [
      "[0.83160622 0.88601036 0.84974093 0.87305699 0.8626943  0.83678756\n",
      " 0.89637306 0.86528497 0.87046632 0.88860104]\n",
      "0.8660621761658029\n"
     ]
    }
   ],
   "source": [
    "print(result)\n",
    "print(result.mean())"
   ]
  },
  {
   "cell_type": "code",
   "execution_count": 140,
   "id": "db4ef1a5",
   "metadata": {},
   "outputs": [
    {
     "data": {
      "text/plain": [
       "0.9298701298701298"
      ]
     },
     "execution_count": 140,
     "metadata": {},
     "output_type": "execute_result"
    }
   ],
   "source": [
    "#### Checking OverFitting ####\n",
    "\n",
    "Y_pred_train = dec_tree.predict(std_X_train)\n",
    "accuracy_score(Y_train, Y_pred_train)"
   ]
  },
  {
   "cell_type": "code",
   "execution_count": null,
   "id": "535c1da6",
   "metadata": {},
   "outputs": [],
   "source": []
  },
  {
   "cell_type": "markdown",
   "id": "cc3133d6",
   "metadata": {},
   "source": [
    "#### <font color = 'Orange'>----Random Forest ----"
   ]
  },
  {
   "cell_type": "markdown",
   "id": "76ad5572",
   "metadata": {},
   "source": [
    "#### <font color = 'White'>----Model Training ---"
   ]
  },
  {
   "cell_type": "code",
   "execution_count": 68,
   "id": "66b56a9b",
   "metadata": {},
   "outputs": [],
   "source": [
    "from sklearn.ensemble import RandomForestClassifier\n",
    "from sklearn.metrics import accuracy_score"
   ]
  },
  {
   "cell_type": "code",
   "execution_count": 156,
   "id": "a4e67fbe",
   "metadata": {},
   "outputs": [
    {
     "data": {
      "text/html": [
       "<style>#sk-container-id-18 {color: black;background-color: white;}#sk-container-id-18 pre{padding: 0;}#sk-container-id-18 div.sk-toggleable {background-color: white;}#sk-container-id-18 label.sk-toggleable__label {cursor: pointer;display: block;width: 100%;margin-bottom: 0;padding: 0.3em;box-sizing: border-box;text-align: center;}#sk-container-id-18 label.sk-toggleable__label-arrow:before {content: \"▸\";float: left;margin-right: 0.25em;color: #696969;}#sk-container-id-18 label.sk-toggleable__label-arrow:hover:before {color: black;}#sk-container-id-18 div.sk-estimator:hover label.sk-toggleable__label-arrow:before {color: black;}#sk-container-id-18 div.sk-toggleable__content {max-height: 0;max-width: 0;overflow: hidden;text-align: left;background-color: #f0f8ff;}#sk-container-id-18 div.sk-toggleable__content pre {margin: 0.2em;color: black;border-radius: 0.25em;background-color: #f0f8ff;}#sk-container-id-18 input.sk-toggleable__control:checked~div.sk-toggleable__content {max-height: 200px;max-width: 100%;overflow: auto;}#sk-container-id-18 input.sk-toggleable__control:checked~label.sk-toggleable__label-arrow:before {content: \"▾\";}#sk-container-id-18 div.sk-estimator input.sk-toggleable__control:checked~label.sk-toggleable__label {background-color: #d4ebff;}#sk-container-id-18 div.sk-label input.sk-toggleable__control:checked~label.sk-toggleable__label {background-color: #d4ebff;}#sk-container-id-18 input.sk-hidden--visually {border: 0;clip: rect(1px 1px 1px 1px);clip: rect(1px, 1px, 1px, 1px);height: 1px;margin: -1px;overflow: hidden;padding: 0;position: absolute;width: 1px;}#sk-container-id-18 div.sk-estimator {font-family: monospace;background-color: #f0f8ff;border: 1px dotted black;border-radius: 0.25em;box-sizing: border-box;margin-bottom: 0.5em;}#sk-container-id-18 div.sk-estimator:hover {background-color: #d4ebff;}#sk-container-id-18 div.sk-parallel-item::after {content: \"\";width: 100%;border-bottom: 1px solid gray;flex-grow: 1;}#sk-container-id-18 div.sk-label:hover label.sk-toggleable__label {background-color: #d4ebff;}#sk-container-id-18 div.sk-serial::before {content: \"\";position: absolute;border-left: 1px solid gray;box-sizing: border-box;top: 0;bottom: 0;left: 50%;z-index: 0;}#sk-container-id-18 div.sk-serial {display: flex;flex-direction: column;align-items: center;background-color: white;padding-right: 0.2em;padding-left: 0.2em;position: relative;}#sk-container-id-18 div.sk-item {position: relative;z-index: 1;}#sk-container-id-18 div.sk-parallel {display: flex;align-items: stretch;justify-content: center;background-color: white;position: relative;}#sk-container-id-18 div.sk-item::before, #sk-container-id-18 div.sk-parallel-item::before {content: \"\";position: absolute;border-left: 1px solid gray;box-sizing: border-box;top: 0;bottom: 0;left: 50%;z-index: -1;}#sk-container-id-18 div.sk-parallel-item {display: flex;flex-direction: column;z-index: 1;position: relative;background-color: white;}#sk-container-id-18 div.sk-parallel-item:first-child::after {align-self: flex-end;width: 50%;}#sk-container-id-18 div.sk-parallel-item:last-child::after {align-self: flex-start;width: 50%;}#sk-container-id-18 div.sk-parallel-item:only-child::after {width: 0;}#sk-container-id-18 div.sk-dashed-wrapped {border: 1px dashed gray;margin: 0 0.4em 0.5em 0.4em;box-sizing: border-box;padding-bottom: 0.4em;background-color: white;}#sk-container-id-18 div.sk-label label {font-family: monospace;font-weight: bold;display: inline-block;line-height: 1.2em;}#sk-container-id-18 div.sk-label-container {text-align: center;}#sk-container-id-18 div.sk-container {/* jupyter's `normalize.less` sets `[hidden] { display: none; }` but bootstrap.min.css set `[hidden] { display: none !important; }` so we also need the `!important` here to be able to override the default hidden behavior on the sphinx rendered scikit-learn.org. See: https://github.com/scikit-learn/scikit-learn/issues/21755 */display: inline-block !important;position: relative;}#sk-container-id-18 div.sk-text-repr-fallback {display: none;}</style><div id=\"sk-container-id-18\" class=\"sk-top-container\"><div class=\"sk-text-repr-fallback\"><pre>RandomForestClassifier(criterion=&#x27;entropy&#x27;, random_state=1000)</pre><b>In a Jupyter environment, please rerun this cell to show the HTML representation or trust the notebook. <br />On GitHub, the HTML representation is unable to render, please try loading this page with nbviewer.org.</b></div><div class=\"sk-container\" hidden><div class=\"sk-item\"><div class=\"sk-estimator sk-toggleable\"><input class=\"sk-toggleable__control sk-hidden--visually\" id=\"sk-estimator-id-18\" type=\"checkbox\" checked><label for=\"sk-estimator-id-18\" class=\"sk-toggleable__label sk-toggleable__label-arrow\">RandomForestClassifier</label><div class=\"sk-toggleable__content\"><pre>RandomForestClassifier(criterion=&#x27;entropy&#x27;, random_state=1000)</pre></div></div></div></div></div>"
      ],
      "text/plain": [
       "RandomForestClassifier(criterion='entropy', random_state=1000)"
      ]
     },
     "execution_count": 156,
     "metadata": {},
     "output_type": "execute_result"
    }
   ],
   "source": [
    "r_forest=RandomForestClassifier(n_estimators= 100, criterion=\"entropy\",random_state=1000)\n",
    "r_forest.fit(std_X_train,Y_train)"
   ]
  },
  {
   "cell_type": "code",
   "execution_count": 161,
   "id": "2263c34f",
   "metadata": {},
   "outputs": [
    {
     "data": {
      "text/plain": [
       "array([0, 0, 0, 0, 0, 0, 1, 0, 0, 0, 0, 0, 0, 0, 0, 0, 0, 0, 0, 0, 0, 0,\n",
       "       1, 0, 0, 0, 0, 0, 0, 0, 0, 0, 1, 0, 0, 0, 0, 0, 0, 0, 0, 0, 0, 0,\n",
       "       0, 0, 0, 0, 0, 0, 0, 0, 0, 0, 0, 0, 0, 0, 0, 0, 0, 0, 0, 0, 0, 0,\n",
       "       0, 0, 0, 0, 0, 0, 0, 0, 0, 0, 0, 0, 0, 0, 0, 0, 0, 0, 0, 0, 0, 0,\n",
       "       0, 0, 0, 0, 0, 0, 0, 0, 0, 1, 0, 0, 0, 0, 0, 0, 0, 0, 0, 0, 0, 0,\n",
       "       0, 0, 0, 0, 0, 0, 0, 0, 0, 0, 0, 0, 0, 0, 0, 0, 0, 0, 0, 0, 0, 0,\n",
       "       0, 0, 0, 0, 0, 0, 0, 0, 0, 0, 0, 0, 0, 0, 0, 0, 0, 0, 0, 0, 0, 0,\n",
       "       0, 0, 0, 0, 0, 0, 0, 0, 0, 0, 0, 0, 0, 0, 0, 0, 0, 0, 0, 0, 1, 1,\n",
       "       0, 0, 0, 0, 0, 1, 0, 0, 0, 0, 0, 0, 0, 0, 0, 0, 0, 0, 0, 0, 0, 0,\n",
       "       0, 0, 0, 0, 0, 0, 0, 0, 0, 0, 0, 0, 0, 0, 0, 0, 0, 0, 0, 1, 0, 0,\n",
       "       1, 0, 0, 0, 0, 0, 0, 0, 0, 0, 0, 0, 0, 0, 0, 0, 0, 0, 0, 0, 0, 0,\n",
       "       0, 0, 0, 0, 0, 0, 0, 0, 0, 0, 0, 0, 0, 0, 0, 0, 0, 0, 0, 0, 0, 0,\n",
       "       1, 0, 0, 0, 0, 0, 0, 0, 0, 0, 0, 0, 0, 0, 0, 0, 0, 0, 0, 0, 0, 0,\n",
       "       0, 0, 0, 0, 0, 0, 0, 0, 0, 0, 0, 0, 1, 0, 0, 1, 0, 0, 0, 0, 0, 0,\n",
       "       0, 0, 0, 0, 0, 0, 0, 0, 0, 0, 0, 0, 0, 0, 0, 0, 0, 0, 0, 0, 0, 0,\n",
       "       0, 0, 0, 0, 0, 0, 0, 0, 0, 0, 1, 0, 0, 0, 0, 0, 0, 0, 0, 0, 0, 0,\n",
       "       0, 0, 0, 1, 0, 0, 0, 0, 0, 0, 0, 0, 0, 0, 0, 0, 0, 1, 0, 0, 0, 0,\n",
       "       0, 0, 0, 0, 0, 0, 0, 0, 0, 0, 0, 0], dtype=int64)"
      ]
     },
     "execution_count": 161,
     "metadata": {},
     "output_type": "execute_result"
    }
   ],
   "source": [
    "Y_pred=r_forest.predict(std_X_test)\n",
    "Y_pred"
   ]
  },
  {
   "cell_type": "code",
   "execution_count": 162,
   "id": "5f36be6e",
   "metadata": {},
   "outputs": [
    {
     "data": {
      "text/plain": [
       "1356    0\n",
       "862     0\n",
       "638     0\n",
       "1343    0\n",
       "1440    0\n",
       "       ..\n",
       "272     0\n",
       "912     0\n",
       "1216    0\n",
       "1492    0\n",
       "830     0\n",
       "Name: label, Length: 386, dtype: int64"
      ]
     },
     "execution_count": 162,
     "metadata": {},
     "output_type": "execute_result"
    }
   ],
   "source": [
    "Y_test"
   ]
  },
  {
   "cell_type": "code",
   "execution_count": 163,
   "id": "c3d3f8c4",
   "metadata": {},
   "outputs": [
    {
     "data": {
      "text/plain": [
       "array([[341,   2],\n",
       "       [ 30,  13]], dtype=int64)"
      ]
     },
     "execution_count": 163,
     "metadata": {},
     "output_type": "execute_result"
    }
   ],
   "source": [
    "from sklearn.metrics import confusion_matrix\n",
    "confusion_matrix(Y_test,Y_pred)"
   ]
  },
  {
   "cell_type": "markdown",
   "id": "d8011525",
   "metadata": {},
   "source": [
    "#### <font color = 'Yellow'>---->> With Confusion matrix we can observe that here out of 386 , 354 are correctly predicted and rest 32 are wrong predictions."
   ]
  },
  {
   "cell_type": "code",
   "execution_count": 164,
   "id": "8b2bbfd8",
   "metadata": {},
   "outputs": [
    {
     "data": {
      "text/plain": [
       "0.917098445595855"
      ]
     },
     "execution_count": 164,
     "metadata": {},
     "output_type": "execute_result"
    }
   ],
   "source": [
    "accuracy_score(Y_test,Y_pred)"
   ]
  },
  {
   "cell_type": "markdown",
   "id": "687ba279",
   "metadata": {},
   "source": [
    "#### <font color = 'White'>---- Cross Validation of Random Forest Model ----"
   ]
  },
  {
   "cell_type": "code",
   "execution_count": 165,
   "id": "da76ef2e",
   "metadata": {},
   "outputs": [],
   "source": [
    "model=RandomForestClassifier()\n",
    "ssplit=ShuffleSplit(n_splits=10,test_size=0.25)\n",
    "result=cross_val_score(model,X,Y,cv=ssplit)"
   ]
  },
  {
   "cell_type": "code",
   "execution_count": 166,
   "id": "f2b706a9",
   "metadata": {},
   "outputs": [
    {
     "name": "stdout",
     "output_type": "stream",
     "text": [
      "[0.93523316 0.9119171  0.91968912 0.91450777 0.93005181 0.90932642\n",
      " 0.9015544  0.92227979 0.90932642 0.93264249]\n",
      "0.9186528497409325\n"
     ]
    }
   ],
   "source": [
    "print(result)\n",
    "print(result.mean())"
   ]
  },
  {
   "cell_type": "markdown",
   "id": "795367ac",
   "metadata": {},
   "source": [
    "#### <font color = 'Orange'>---- XGBoost Classifier ----"
   ]
  },
  {
   "cell_type": "code",
   "execution_count": 184,
   "id": "ad509ed7",
   "metadata": {},
   "outputs": [],
   "source": [
    "from xgboost import XGBClassifier\n",
    "from sklearn.metrics import accuracy_score"
   ]
  },
  {
   "cell_type": "code",
   "execution_count": 185,
   "id": "80385ccb",
   "metadata": {},
   "outputs": [
    {
     "data": {
      "text/html": [
       "<style>#sk-container-id-23 {color: black;background-color: white;}#sk-container-id-23 pre{padding: 0;}#sk-container-id-23 div.sk-toggleable {background-color: white;}#sk-container-id-23 label.sk-toggleable__label {cursor: pointer;display: block;width: 100%;margin-bottom: 0;padding: 0.3em;box-sizing: border-box;text-align: center;}#sk-container-id-23 label.sk-toggleable__label-arrow:before {content: \"▸\";float: left;margin-right: 0.25em;color: #696969;}#sk-container-id-23 label.sk-toggleable__label-arrow:hover:before {color: black;}#sk-container-id-23 div.sk-estimator:hover label.sk-toggleable__label-arrow:before {color: black;}#sk-container-id-23 div.sk-toggleable__content {max-height: 0;max-width: 0;overflow: hidden;text-align: left;background-color: #f0f8ff;}#sk-container-id-23 div.sk-toggleable__content pre {margin: 0.2em;color: black;border-radius: 0.25em;background-color: #f0f8ff;}#sk-container-id-23 input.sk-toggleable__control:checked~div.sk-toggleable__content {max-height: 200px;max-width: 100%;overflow: auto;}#sk-container-id-23 input.sk-toggleable__control:checked~label.sk-toggleable__label-arrow:before {content: \"▾\";}#sk-container-id-23 div.sk-estimator input.sk-toggleable__control:checked~label.sk-toggleable__label {background-color: #d4ebff;}#sk-container-id-23 div.sk-label input.sk-toggleable__control:checked~label.sk-toggleable__label {background-color: #d4ebff;}#sk-container-id-23 input.sk-hidden--visually {border: 0;clip: rect(1px 1px 1px 1px);clip: rect(1px, 1px, 1px, 1px);height: 1px;margin: -1px;overflow: hidden;padding: 0;position: absolute;width: 1px;}#sk-container-id-23 div.sk-estimator {font-family: monospace;background-color: #f0f8ff;border: 1px dotted black;border-radius: 0.25em;box-sizing: border-box;margin-bottom: 0.5em;}#sk-container-id-23 div.sk-estimator:hover {background-color: #d4ebff;}#sk-container-id-23 div.sk-parallel-item::after {content: \"\";width: 100%;border-bottom: 1px solid gray;flex-grow: 1;}#sk-container-id-23 div.sk-label:hover label.sk-toggleable__label {background-color: #d4ebff;}#sk-container-id-23 div.sk-serial::before {content: \"\";position: absolute;border-left: 1px solid gray;box-sizing: border-box;top: 0;bottom: 0;left: 50%;z-index: 0;}#sk-container-id-23 div.sk-serial {display: flex;flex-direction: column;align-items: center;background-color: white;padding-right: 0.2em;padding-left: 0.2em;position: relative;}#sk-container-id-23 div.sk-item {position: relative;z-index: 1;}#sk-container-id-23 div.sk-parallel {display: flex;align-items: stretch;justify-content: center;background-color: white;position: relative;}#sk-container-id-23 div.sk-item::before, #sk-container-id-23 div.sk-parallel-item::before {content: \"\";position: absolute;border-left: 1px solid gray;box-sizing: border-box;top: 0;bottom: 0;left: 50%;z-index: -1;}#sk-container-id-23 div.sk-parallel-item {display: flex;flex-direction: column;z-index: 1;position: relative;background-color: white;}#sk-container-id-23 div.sk-parallel-item:first-child::after {align-self: flex-end;width: 50%;}#sk-container-id-23 div.sk-parallel-item:last-child::after {align-self: flex-start;width: 50%;}#sk-container-id-23 div.sk-parallel-item:only-child::after {width: 0;}#sk-container-id-23 div.sk-dashed-wrapped {border: 1px dashed gray;margin: 0 0.4em 0.5em 0.4em;box-sizing: border-box;padding-bottom: 0.4em;background-color: white;}#sk-container-id-23 div.sk-label label {font-family: monospace;font-weight: bold;display: inline-block;line-height: 1.2em;}#sk-container-id-23 div.sk-label-container {text-align: center;}#sk-container-id-23 div.sk-container {/* jupyter's `normalize.less` sets `[hidden] { display: none; }` but bootstrap.min.css set `[hidden] { display: none !important; }` so we also need the `!important` here to be able to override the default hidden behavior on the sphinx rendered scikit-learn.org. See: https://github.com/scikit-learn/scikit-learn/issues/21755 */display: inline-block !important;position: relative;}#sk-container-id-23 div.sk-text-repr-fallback {display: none;}</style><div id=\"sk-container-id-23\" class=\"sk-top-container\"><div class=\"sk-text-repr-fallback\"><pre>XGBClassifier(base_score=None, booster=None, callbacks=None,\n",
       "              colsample_bylevel=None, colsample_bynode=None,\n",
       "              colsample_bytree=None, early_stopping_rounds=None,\n",
       "              enable_categorical=False, eval_metric=None, feature_types=None,\n",
       "              gamma=None, gpu_id=None, grow_policy=None, importance_type=None,\n",
       "              interaction_constraints=None, learning_rate=None, max_bin=None,\n",
       "              max_cat_threshold=None, max_cat_to_onehot=None,\n",
       "              max_delta_step=None, max_depth=7, max_leaves=None,\n",
       "              min_child_weight=None, missing=nan, monotone_constraints=None,\n",
       "              n_estimators=100, n_jobs=None, num_class=3,\n",
       "              num_parallel_tree=None, objective=&#x27;multi:softmax&#x27;, ...)</pre><b>In a Jupyter environment, please rerun this cell to show the HTML representation or trust the notebook. <br />On GitHub, the HTML representation is unable to render, please try loading this page with nbviewer.org.</b></div><div class=\"sk-container\" hidden><div class=\"sk-item\"><div class=\"sk-estimator sk-toggleable\"><input class=\"sk-toggleable__control sk-hidden--visually\" id=\"sk-estimator-id-23\" type=\"checkbox\" checked><label for=\"sk-estimator-id-23\" class=\"sk-toggleable__label sk-toggleable__label-arrow\">XGBClassifier</label><div class=\"sk-toggleable__content\"><pre>XGBClassifier(base_score=None, booster=None, callbacks=None,\n",
       "              colsample_bylevel=None, colsample_bynode=None,\n",
       "              colsample_bytree=None, early_stopping_rounds=None,\n",
       "              enable_categorical=False, eval_metric=None, feature_types=None,\n",
       "              gamma=None, gpu_id=None, grow_policy=None, importance_type=None,\n",
       "              interaction_constraints=None, learning_rate=None, max_bin=None,\n",
       "              max_cat_threshold=None, max_cat_to_onehot=None,\n",
       "              max_delta_step=None, max_depth=7, max_leaves=None,\n",
       "              min_child_weight=None, missing=nan, monotone_constraints=None,\n",
       "              n_estimators=100, n_jobs=None, num_class=3,\n",
       "              num_parallel_tree=None, objective=&#x27;multi:softmax&#x27;, ...)</pre></div></div></div></div></div>"
      ],
      "text/plain": [
       "XGBClassifier(base_score=None, booster=None, callbacks=None,\n",
       "              colsample_bylevel=None, colsample_bynode=None,\n",
       "              colsample_bytree=None, early_stopping_rounds=None,\n",
       "              enable_categorical=False, eval_metric=None, feature_types=None,\n",
       "              gamma=None, gpu_id=None, grow_policy=None, importance_type=None,\n",
       "              interaction_constraints=None, learning_rate=None, max_bin=None,\n",
       "              max_cat_threshold=None, max_cat_to_onehot=None,\n",
       "              max_delta_step=None, max_depth=7, max_leaves=None,\n",
       "              min_child_weight=None, missing=nan, monotone_constraints=None,\n",
       "              n_estimators=100, n_jobs=None, num_class=3,\n",
       "              num_parallel_tree=None, objective='multi:softmax', ...)"
      ]
     },
     "execution_count": 185,
     "metadata": {},
     "output_type": "execute_result"
    }
   ],
   "source": [
    "xgb_c=XGBClassifier(objective='multi:softmax',max_depth=7, num_class=3, random_state=1000)\n",
    "xgb_c.fit(std_X_train,Y_train)"
   ]
  },
  {
   "cell_type": "code",
   "execution_count": 186,
   "id": "f98e1767",
   "metadata": {},
   "outputs": [
    {
     "data": {
      "text/plain": [
       "array([0, 0, 0, 0, 0, 0, 0, 0, 0, 0, 0, 0, 0, 0, 1, 0, 0, 0, 0, 0, 0, 0,\n",
       "       1, 0, 0, 0, 0, 0, 0, 0, 0, 0, 1, 0, 0, 0, 0, 0, 0, 0, 0, 0, 0, 0,\n",
       "       0, 0, 0, 0, 0, 1, 0, 0, 0, 0, 0, 0, 0, 0, 0, 0, 0, 0, 0, 0, 0, 0,\n",
       "       0, 0, 0, 0, 0, 0, 0, 0, 0, 0, 0, 0, 0, 0, 0, 0, 0, 0, 0, 0, 0, 0,\n",
       "       0, 0, 0, 0, 0, 0, 0, 0, 0, 1, 0, 0, 0, 0, 0, 0, 0, 0, 0, 0, 0, 0,\n",
       "       0, 0, 0, 0, 0, 0, 0, 0, 0, 0, 0, 0, 0, 1, 0, 0, 0, 0, 0, 0, 0, 0,\n",
       "       0, 0, 0, 0, 0, 0, 0, 0, 0, 0, 0, 0, 0, 0, 0, 0, 0, 0, 0, 0, 0, 0,\n",
       "       0, 0, 0, 0, 0, 0, 0, 0, 0, 0, 0, 0, 0, 0, 1, 0, 0, 0, 0, 0, 0, 1,\n",
       "       0, 0, 0, 0, 1, 0, 0, 0, 0, 0, 0, 0, 0, 0, 0, 0, 0, 0, 0, 0, 0, 0,\n",
       "       0, 0, 0, 0, 0, 0, 0, 0, 0, 0, 0, 0, 0, 0, 0, 0, 0, 0, 0, 1, 0, 0,\n",
       "       1, 0, 0, 0, 0, 0, 0, 0, 0, 0, 0, 0, 0, 0, 0, 0, 0, 0, 0, 0, 0, 0,\n",
       "       1, 0, 0, 1, 0, 0, 0, 0, 0, 0, 0, 0, 0, 0, 0, 0, 0, 0, 0, 0, 0, 0,\n",
       "       1, 0, 0, 0, 0, 0, 0, 1, 0, 0, 0, 0, 0, 0, 0, 0, 0, 0, 0, 0, 0, 0,\n",
       "       0, 0, 0, 0, 0, 0, 0, 0, 0, 0, 0, 0, 1, 0, 0, 1, 0, 0, 0, 0, 0, 0,\n",
       "       0, 0, 0, 0, 0, 0, 0, 0, 0, 0, 0, 0, 0, 0, 0, 0, 0, 0, 0, 0, 0, 0,\n",
       "       0, 0, 0, 0, 0, 0, 0, 0, 0, 0, 0, 0, 0, 0, 0, 0, 0, 0, 0, 0, 0, 0,\n",
       "       0, 1, 0, 1, 0, 0, 0, 0, 0, 0, 0, 0, 0, 0, 1, 0, 0, 1, 0, 0, 0, 0,\n",
       "       0, 0, 0, 0, 0, 0, 0, 0, 0, 0, 0, 0])"
      ]
     },
     "execution_count": 186,
     "metadata": {},
     "output_type": "execute_result"
    }
   ],
   "source": [
    "Y_pred=xgb_c.predict(std_X_test)\n",
    "Y_pred"
   ]
  },
  {
   "cell_type": "code",
   "execution_count": 187,
   "id": "224da341",
   "metadata": {},
   "outputs": [
    {
     "data": {
      "text/plain": [
       "1356    0\n",
       "862     0\n",
       "638     0\n",
       "1343    0\n",
       "1440    0\n",
       "       ..\n",
       "272     0\n",
       "912     0\n",
       "1216    0\n",
       "1492    0\n",
       "830     0\n",
       "Name: label, Length: 386, dtype: int64"
      ]
     },
     "execution_count": 187,
     "metadata": {},
     "output_type": "execute_result"
    }
   ],
   "source": [
    "Y_test"
   ]
  },
  {
   "cell_type": "code",
   "execution_count": 188,
   "id": "799d71d1",
   "metadata": {},
   "outputs": [
    {
     "data": {
      "text/plain": [
       "array([[334,   9],\n",
       "       [ 31,  12]], dtype=int64)"
      ]
     },
     "execution_count": 188,
     "metadata": {},
     "output_type": "execute_result"
    }
   ],
   "source": [
    "from sklearn.metrics import confusion_matrix\n",
    "confusion_matrix(Y_test,Y_pred)"
   ]
  },
  {
   "cell_type": "markdown",
   "id": "44b4e51d",
   "metadata": {},
   "source": [
    "####  <font color = 'Yellow'>---->> With Confusion matrix we can observe that here out of 386 , 346 are correctly predicted and rest 40 are wrong predictions."
   ]
  },
  {
   "cell_type": "code",
   "execution_count": 189,
   "id": "8fcb9ff8",
   "metadata": {},
   "outputs": [
    {
     "data": {
      "text/plain": [
       "0.8963730569948186"
      ]
     },
     "execution_count": 189,
     "metadata": {},
     "output_type": "execute_result"
    }
   ],
   "source": [
    "accuracy_score(Y_test,Y_pred)"
   ]
  },
  {
   "cell_type": "markdown",
   "id": "0ea59d73",
   "metadata": {},
   "source": [
    "#### <font color = 'White'>---- Cross Validation of XGBoost Classifier Model ----"
   ]
  },
  {
   "cell_type": "code",
   "execution_count": 190,
   "id": "2682d2a5",
   "metadata": {},
   "outputs": [],
   "source": [
    "model=XGBClassifier()\n",
    "ssplit=ShuffleSplit(n_splits=10,test_size=0.25)\n",
    "result=cross_val_score(model,X,Y,cv=ssplit)"
   ]
  },
  {
   "cell_type": "code",
   "execution_count": 191,
   "id": "e305d89b",
   "metadata": {},
   "outputs": [
    {
     "name": "stdout",
     "output_type": "stream",
     "text": [
      "[0.91968912 0.87046632 0.91968912 0.92746114 0.91450777 0.89896373\n",
      " 0.91709845 0.92487047 0.89119171 0.89637306]\n",
      "0.9080310880829014\n"
     ]
    }
   ],
   "source": [
    "print(result)\n",
    "print(result.mean())"
   ]
  },
  {
   "cell_type": "markdown",
   "id": "2a9a132a",
   "metadata": {},
   "source": [
    "#### <font color = 'Orange'>---- After doing different Classification and Regression process we have got the different Accuracy as mentioned below ----"
   ]
  },
  {
   "cell_type": "markdown",
   "id": "8421e092",
   "metadata": {},
   "source": [
    "#### <font color = 'Yellow'> //1//--- Doing Logistic Regression we got the Accuracy of around 88%."
   ]
  },
  {
   "cell_type": "markdown",
   "id": "d207958c",
   "metadata": {},
   "source": [
    "#### <font color = 'Yellow'>//2//--- Doing Decision Tree Classification we got the Accuracy of around 86% (Cross Validation Score)"
   ]
  },
  {
   "cell_type": "markdown",
   "id": "b04a5f7d",
   "metadata": {},
   "source": [
    "#### <font color = 'Yellow'>//3//--- Doing Random Forest Classification we got the Accuracy of around 92%."
   ]
  },
  {
   "cell_type": "markdown",
   "id": "bca2d467",
   "metadata": {},
   "source": [
    "#### <font color = 'Yellow'>//4//--- Doing XGBoost Classification we got the Accuracy of around 90%."
   ]
  },
  {
   "cell_type": "code",
   "execution_count": null,
   "id": "630e0412",
   "metadata": {},
   "outputs": [],
   "source": []
  },
  {
   "cell_type": "markdown",
   "id": "a0e348c2",
   "metadata": {},
   "source": [
    "### ----Conclusion----\n",
    "\n",
    "<br>\n",
    "---- Here In this credit approval end-to-end project, I set out to develop a machine learning model that can predict whether a credit application should be approved or denied. Through a systematic process, I have done all the elementry Data Analysing steps needed and plotted various graphs to determine the correlation among the independent variables and also between the independent and dependent variable and addressed as data exploration,data preprocessing,feature encoding,feature selection and model building and evaluation to achieve our goal. \n",
    "\n",
    "<br>\n",
    "---- In Feature selection and Model building , I have used four different types of Machine Learning models to achieve the best predictive model. So here all the models have performed well and got the most \"around 92%\" accuracy with the Random Forest Classification process.  \n",
    "\n",
    "<br>\n",
    "---- In conclusion,this credit approval end-to-end project is showing the power of machine learning in automating and optimizing the credit decision making process.With the data-driven insights and predictive modeling,this project will contribute in the better-informed credit approval decisions and demonstrated the potential for further advancements in the banking sectors."
   ]
  },
  {
   "cell_type": "markdown",
   "id": "2e925341",
   "metadata": {},
   "source": [
    "## --------------------------------- END ---------------------------------------"
   ]
  }
 ],
 "metadata": {
  "kernelspec": {
   "display_name": "Python 3 (ipykernel)",
   "language": "python",
   "name": "python3"
  },
  "language_info": {
   "codemirror_mode": {
    "name": "ipython",
    "version": 3
   },
   "file_extension": ".py",
   "mimetype": "text/x-python",
   "name": "python",
   "nbconvert_exporter": "python",
   "pygments_lexer": "ipython3",
   "version": "3.10.9"
  }
 },
 "nbformat": 4,
 "nbformat_minor": 5
}
